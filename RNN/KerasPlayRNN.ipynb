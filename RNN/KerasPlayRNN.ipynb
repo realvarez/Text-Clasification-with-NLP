{
 "cells": [
  {
   "cell_type": "code",
   "execution_count": 5,
   "metadata": {},
   "outputs": [],
   "source": [
    "%config IPCompleter.greedy=True"
   ]
  },
  {
   "cell_type": "code",
   "execution_count": 9,
   "metadata": {},
   "outputs": [],
   "source": [
    "data = imdb.load_data(num_words=max_features)"
   ]
  },
  {
   "cell_type": "code",
   "execution_count": 59,
   "metadata": {},
   "outputs": [
    {
     "name": "stdout",
     "output_type": "stream",
     "text": [
      "[1, 591, 202, 14, 31, 6, 717, 10, 10, 18142, 10698, 5, 4, 360, 7, 4, 177, 5760, 394, 354, 4, 123, 9, 1035, 1035, 1035, 10, 10, 13, 92, 124, 89, 488, 7944, 100, 28, 1668, 14, 31, 23, 27, 7479, 29, 220, 468, 8, 124, 14, 286, 170, 8, 157, 46, 5, 27, 239, 16, 179, 15387, 38, 32, 25, 7944, 451, 202, 14, 6, 717]\n"
     ]
    }
   ],
   "source": [
    "print(data[1][0][0])"
   ]
  },
  {
   "cell_type": "code",
   "execution_count": null,
   "metadata": {},
   "outputs": [],
   "source": []
  },
  {
   "cell_type": "code",
   "execution_count": 4,
   "metadata": {},
   "outputs": [
    {
     "name": "stdout",
     "output_type": "stream",
     "text": [
      "Loading data...\n",
      "25000 train sequences\n",
      "25000 test sequences\n",
      "Pad sequences (samples x time)\n",
      "x_train shape: (25000, 80)\n",
      "x_test shape: (25000, 80)\n",
      "Build model...\n",
      "Train...\n",
      "Train on 25000 samples, validate on 25000 samples\n",
      "Epoch 1/15\n",
      "25000/25000 [==============================] - 158s 6ms/step - loss: 0.4659 - acc: 0.7809 - val_loss: 0.4114 - val_acc: 0.8178\n",
      "Epoch 2/15\n",
      "25000/25000 [==============================] - 158s 6ms/step - loss: 0.3045 - acc: 0.8741 - val_loss: 0.3900 - val_acc: 0.8262\n",
      "Epoch 3/15\n",
      "25000/25000 [==============================] - 146s 6ms/step - loss: 0.2202 - acc: 0.9156 - val_loss: 0.4254 - val_acc: 0.8220\n",
      "Epoch 4/15\n",
      "25000/25000 [==============================] - 150s 6ms/step - loss: 0.1604 - acc: 0.9400 - val_loss: 0.4812 - val_acc: 0.8220\n",
      "Epoch 5/15\n",
      "25000/25000 [==============================] - 154s 6ms/step - loss: 0.1133 - acc: 0.9602 - val_loss: 0.5398 - val_acc: 0.8278\n",
      "Epoch 6/15\n",
      "25000/25000 [==============================] - 153s 6ms/step - loss: 0.0805 - acc: 0.9731 - val_loss: 0.6429 - val_acc: 0.8198\n",
      "Epoch 7/15\n",
      "25000/25000 [==============================] - 151s 6ms/step - loss: 0.0609 - acc: 0.9797 - val_loss: 0.6589 - val_acc: 0.8200\n",
      "Epoch 8/15\n",
      "25000/25000 [==============================] - 152s 6ms/step - loss: 0.0547 - acc: 0.9824 - val_loss: 0.7216 - val_acc: 0.8194\n",
      "Epoch 9/15\n",
      "25000/25000 [==============================] - 152s 6ms/step - loss: 0.0345 - acc: 0.9890 - val_loss: 0.8737 - val_acc: 0.8144\n",
      "Epoch 10/15\n",
      "25000/25000 [==============================] - 152s 6ms/step - loss: 0.0299 - acc: 0.9910 - val_loss: 0.8982 - val_acc: 0.8101\n",
      "Epoch 11/15\n",
      "25000/25000 [==============================] - 153s 6ms/step - loss: 0.0250 - acc: 0.9913 - val_loss: 0.9704 - val_acc: 0.8164\n",
      "Epoch 12/15\n",
      "25000/25000 [==============================] - 152s 6ms/step - loss: 0.0191 - acc: 0.9936 - val_loss: 0.9449 - val_acc: 0.8105\n",
      "Epoch 13/15\n",
      "25000/25000 [==============================] - 153s 6ms/step - loss: 0.0145 - acc: 0.9950 - val_loss: 0.9644 - val_acc: 0.8127\n",
      "Epoch 14/15\n",
      "25000/25000 [==============================] - 153s 6ms/step - loss: 0.0169 - acc: 0.9940 - val_loss: 1.0272 - val_acc: 0.8104\n",
      "Epoch 15/15\n",
      "25000/25000 [==============================] - 629s 25ms/step - loss: 0.0143 - acc: 0.9954 - val_loss: 1.0542 - val_acc: 0.8101\n",
      "25000/25000 [==============================] - 21s 835us/step\n",
      "Test score: 1.0542357460740208\n",
      "Test accuracy: 0.81012\n"
     ]
    }
   ],
   "source": [
    "'''\n",
    "#Trains an LSTM model on the IMDB sentiment classification task.\n",
    "The dataset is actually too small for LSTM to be of any advantage\n",
    "compared to simpler, much faster methods such as TF-IDF + LogReg.\n",
    "**Notes**\n",
    "- RNNs are tricky. Choice of batch size is important,\n",
    "choice of loss and optimizer is critical, etc.\n",
    "Some configurations won't converge.\n",
    "- LSTM loss decrease patterns during training can be quite different\n",
    "from what you see with CNNs/MLPs/etc.\n",
    "'''\n",
    "from __future__ import print_function\n",
    "\n",
    "from keras.preprocessing import sequence\n",
    "from keras.models import Sequential\n",
    "from keras.layers import Dense, Embedding\n",
    "from keras.layers import LSTM\n",
    "from keras.datasets import imdb\n",
    "\n",
    "max_features = 20000\n",
    "# cut texts after this number of words (among top max_features most common words)\n",
    "maxlen = 80\n",
    "batch_size = 32\n",
    "\n",
    "print('Loading data...')\n",
    "(x_train, y_train), (x_test, y_test) = imdb.load_data(num_words=max_features)\n",
    "print(len(x_train), 'train sequences')\n",
    "print(len(x_test), 'test sequences')\n",
    "\n",
    "print('Pad sequences (samples x time)')\n",
    "x_train = sequence.pad_sequences(x_train, maxlen=maxlen)\n",
    "x_test = sequence.pad_sequences(x_test, maxlen=maxlen)\n",
    "print('x_train shape:', x_train.shape)\n",
    "print('x_test shape:', x_test.shape)\n",
    "\n",
    "print('Build model...')\n",
    "model = Sequential()\n",
    "model.add(Embedding(max_features, 128))\n",
    "model.add(LSTM(128, dropout=0.2, recurrent_dropout=0.2))\n",
    "model.add(Dense(1, activation='sigmoid'))\n",
    "\n",
    "# try using different optimizers and different optimizer configs\n",
    "model.compile(loss='binary_crossentropy',\n",
    "              optimizer='adam',\n",
    "              metrics=['accuracy'])\n",
    "\n",
    "print('Train...')\n",
    "model.fit(x_train, y_train,\n",
    "          batch_size=batch_size,\n",
    "          epochs=15,\n",
    "          validation_data=(x_test, y_test))\n",
    "score, acc = model.evaluate(x_test, y_test,\n",
    "                            batch_size=batch_size)\n",
    "print('Test score:', score)\n",
    "print('Test accuracy:', acc)\n"
   ]
  },
  {
   "cell_type": "code",
   "execution_count": 6,
   "metadata": {},
   "outputs": [
    {
     "ename": "SyntaxError",
     "evalue": "invalid syntax (<ipython-input-6-e5c9403477cf>, line 1)",
     "output_type": "error",
     "traceback": [
      "\u001b[1;36m  File \u001b[1;32m\"<ipython-input-6-e5c9403477cf>\"\u001b[1;36m, line \u001b[1;32m1\u001b[0m\n\u001b[1;33m    model.\u001b[0m\n\u001b[1;37m          ^\u001b[0m\n\u001b[1;31mSyntaxError\u001b[0m\u001b[1;31m:\u001b[0m invalid syntax\n"
     ]
    }
   ],
   "source": [
    "model."
   ]
  }
 ],
 "metadata": {
  "kernelspec": {
   "display_name": "Python 3",
   "language": "python",
   "name": "python3"
  },
  "language_info": {
   "codemirror_mode": {
    "name": "ipython",
    "version": 3
   },
   "file_extension": ".py",
   "mimetype": "text/x-python",
   "name": "python",
   "nbconvert_exporter": "python",
   "pygments_lexer": "ipython3",
   "version": "3.7.3"
  }
 },
 "nbformat": 4,
 "nbformat_minor": 2
}
