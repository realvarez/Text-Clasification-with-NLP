{
 "cells": [
  {
   "cell_type": "code",
   "execution_count": 1,
   "metadata": {
    "colab": {
     "base_uri": "https://localhost:8080/",
     "height": 185
    },
    "colab_type": "code",
    "executionInfo": {
     "elapsed": 27428,
     "status": "ok",
     "timestamp": 1578496438246,
     "user": {
      "displayName": "Ricardo Alvarez",
      "photoUrl": "",
      "userId": "07173409030660719160"
     },
     "user_tz": 180
    },
    "id": "Mys9zY5sbR36",
    "outputId": "2ebe733f-7392-4043-f351-8c97a863a91c"
   },
   "outputs": [],
   "source": [
    "import tensorflow as tf\n",
    "import numpy as np\n",
    "import pandas as pd\n",
    "import ast\n",
    "import matplotlib.pyplot as plt\n",
    "from sklearn.model_selection import train_test_split, KFold\n",
    "from tensorflow.keras.preprocessing.sequence import pad_sequences\n",
    "import seaborn as sns\n",
    "#from google.colab import drive\n",
    "#from keras.models import model_from_yaml\n",
    "import numpy\n",
    "import os\n",
    "#drive.mount('/content/drive')"
   ]
  },
  {
   "cell_type": "code",
   "execution_count": 2,
   "metadata": {
    "colab": {},
    "colab_type": "code",
    "id": "790un-gimyY5"
   },
   "outputs": [],
   "source": [
    "#df = pd.read_csv('drive/My Drive/Tesis/Data/Flujo1.csv', sep=\";\")\n",
    "df = pd.read_csv('../Data/Flujo1.csv', sep=\";\")\n",
    "df['Respuesta'] = df['Respuesta'].apply(ast.literal_eval)\n",
    "def enumerate_dimensions(dimension, list_dimensions):\n",
    "    return list_dimensions.index(dimension)\n",
    "\n",
    "def wordsToNumbers(tokens, vocabulary):\n",
    "    number_array = []\n",
    "    for i in tokens:\n",
    "        number_array.append(vocabulary.index(i)+1)\n",
    "    return np.asarray(number_array)"
   ]
  },
  {
   "cell_type": "markdown",
   "metadata": {
    "colab_type": "text",
    "id": "uCHSsSo6ttC9"
   },
   "source": [
    "## Modelo"
   ]
  },
  {
   "cell_type": "code",
   "execution_count": 3,
   "metadata": {
    "colab": {},
    "colab_type": "code",
    "id": "ZTmdHUluDA8q"
   },
   "outputs": [],
   "source": [
    "# Se Construye Dataframe solo de medio ambiente\n",
    "df = df[df.Area == 'Gobierno Corporativo']\n",
    "# Lista de dimensiones se pasa a numeros\n",
    "list_dimensions = df.Dimension.unique().tolist()\n",
    "num_classes = len(list_dimensions)\n",
    "df['_dimension'] = df['Dimension'].apply(enumerate_dimensions, list_dimensions = list_dimensions)\n",
    "#Generamos un vocabulario de palabras\n",
    "vocabulary = []\n",
    "df['Respuesta'].apply(vocabulary.append)\n",
    "vocabulary = [item for sublist in vocabulary for item in sublist]\n",
    "vocabulary = list(set(vocabulary))\n",
    "resultados = []"
   ]
  },
  {
   "cell_type": "code",
   "execution_count": 4,
   "metadata": {},
   "outputs": [],
   "source": [
    "vocabulary_to_save = pd.DataFrame(vocabulary, columns = ['words'])\n",
    "vocabulary_to_save.to_csv(r'../Data/vocabulary.csv', index=False)"
   ]
  },
  {
   "cell_type": "code",
   "execution_count": 5,
   "metadata": {
    "colab": {},
    "colab_type": "code",
    "id": "VJW91_LkDA8v"
   },
   "outputs": [],
   "source": [
    "df['NumRespuesta'] = df.Respuesta.apply (wordsToNumbers, vocabulary = vocabulary)\n",
    "# Rellenamos las matrices con 0 para que todas tengan el mismo tamaño\n",
    "X_completo = pad_sequences(df.NumRespuesta, maxlen=10, dtype='object', padding='post', value = 0)\n",
    "# Pasamos las dimensiones a np array\n",
    "y_completo = np.array(df['_dimension'])\n",
    "X, test_x, y, test_y = train_test_split(X_completo, y_completo, test_size = 0.2, random_state = 0)"
   ]
  },
  {
   "cell_type": "code",
   "execution_count": 0,
   "metadata": {
    "colab": {
     "base_uri": "https://localhost:8080/",
     "height": 458
    },
    "colab_type": "code",
    "executionInfo": {
     "elapsed": 61841,
     "status": "ok",
     "timestamp": 1575861058585,
     "user": {
      "displayName": "Ricardo Alvarez",
      "photoUrl": "",
      "userId": "07173409030660719160"
     },
     "user_tz": 180
    },
    "id": "xlWdUmjWwq8m",
    "outputId": "e59fd98d-a148-44e8-efc5-a76448d0b75f",
    "scrolled": true
   },
   "outputs": [
    {
     "name": "stdout",
     "output_type": "stream",
     "text": [
      "Train on 11438 samples\n",
      "Epoch 1/6\n",
      "11438/11438 [==============================] - 8s 680us/sample - loss: 0.6940 - sparse_categorical_accuracy: 0.5169\n",
      "Epoch 2/6\n",
      "11438/11438 [==============================] - 6s 515us/sample - loss: 0.6408 - sparse_categorical_accuracy: 0.6275\n",
      "Epoch 3/6\n",
      "11438/11438 [==============================] - 6s 515us/sample - loss: 0.4850 - sparse_categorical_accuracy: 0.7681\n",
      "Epoch 4/6\n",
      "11438/11438 [==============================] - 6s 505us/sample - loss: 0.4426 - sparse_categorical_accuracy: 0.7925\n",
      "Epoch 5/6\n",
      "11438/11438 [==============================] - 6s 511us/sample - loss: 0.4183 - sparse_categorical_accuracy: 0.8090\n",
      "Epoch 6/6\n",
      "11438/11438 [==============================] - 6s 509us/sample - loss: 0.4003 - sparse_categorical_accuracy: 0.8205\n",
      "\n",
      "-Resultados con datos de testeo \n",
      "\n",
      "2860/2860 [==============================] - 2s 863us/sample - loss: 0.4750 - sparse_categorical_accuracy: 0.7860\n",
      "\n",
      "-Data Test accuracy: 0.7860139608383179\n",
      "\n",
      "-Matriz de confusion\n",
      "[[1138  296]\n",
      " [ 316 1110]]\n",
      "\n"
     ]
    }
   ],
   "source": [
    "#Prueba celda prueba\n",
    "\n",
    "vocab_len= len(vocabulary)+1\n",
    "num_classes = len(list_dimensions)\n",
    "ouput_dim_embedding = 50\n",
    "lstm_units = 110\n",
    "ouputs_dense = 2\n",
    "epoch = 6\n",
    "batch_size = 60\n",
    "optimizer = 'rmsprop'\n",
    "\n",
    "model = tf.keras.Sequential()\n",
    "#Se agrega capa embedding que hace w2v\n",
    "model.add(tf.keras.layers.Embedding(input_dim=vocab_len, output_dim = ouput_dim_embedding, input_shape=(X.shape[1],)))\n",
    "model.add(tf.keras.layers.LSTM(units = lstm_units, activation='sigmoid', dropout=0.7, recurrent_dropout=0.7))\n",
    "model.add(tf.keras.layers.Dense(units = ouputs_dense, activation='sigmoid'))\n",
    "model.compile(optimizer=optimizer, loss='sparse_categorical_crossentropy', metrics=['sparse_categorical_accuracy'])\n",
    "#model.summary()\n",
    "history = model.fit(X, y, epochs = epoch, batch_size = batch_size)\n",
    "print()\n",
    "print('-Resultados con datos de testeo ')\n",
    "print()\n",
    "test_loss, test_acurracy = model.evaluate(test_x, test_y) \n",
    "print()\n",
    "print('-Data Test accuracy: {}'.format(test_acurracy))\n",
    "resultados.append(test_acurracy)\n",
    "print()\n",
    "predictions = model.predict_classes(test_x)\n",
    "#Matriz de confusion\n",
    "confusion = tf.confusion_matrix(labels=test_y, predictions= predictions, dtype=tf.dtypes.int32, num_classes=2)\n",
    "print('-Matriz de confusion')\n",
    "print(confusion.eval(session=tf.Session()))\n",
    "print()\n",
    "resultados"
   ]
  },
  {
   "cell_type": "code",
   "execution_count": 5,
   "metadata": {
    "colab": {
     "base_uri": "https://localhost:8080/",
     "height": 1000
    },
    "colab_type": "code",
    "executionInfo": {
     "elapsed": 202169,
     "status": "ok",
     "timestamp": 1578496654227,
     "user": {
      "displayName": "Ricardo Alvarez",
      "photoUrl": "",
      "userId": "07173409030660719160"
     },
     "user_tz": 180
    },
    "id": "oqJM9eLCDA8z",
    "outputId": "3b7391ab-76ce-42c2-f1ff-14677cafbdce",
    "scrolled": false
   },
   "outputs": [
    {
     "name": "stdout",
     "output_type": "stream",
     "text": [
      "WARNING:tensorflow:From /usr/local/lib/python3.6/dist-packages/tensorflow_core/python/keras/initializers.py:119: calling RandomUniform.__init__ (from tensorflow.python.ops.init_ops) with dtype is deprecated and will be removed in a future version.\n",
      "Instructions for updating:\n",
      "Call initializer instance with the dtype argument instead of passing it to the constructor\n",
      "WARNING:tensorflow:From /usr/local/lib/python3.6/dist-packages/tensorflow_core/python/ops/resource_variable_ops.py:1630: calling BaseResourceVariable.__init__ (from tensorflow.python.ops.resource_variable_ops) with constraint is deprecated and will be removed in a future version.\n",
      "Instructions for updating:\n",
      "If using Keras pass *_constraint arguments to layers.\n",
      "WARNING:tensorflow:Large dropout rate: 0.7 (>0.5). In TensorFlow 2.x, dropout() uses dropout rate instead of keep_prob. Please ensure that this is intended.\n",
      "WARNING:tensorflow:Large dropout rate: 0.7 (>0.5). In TensorFlow 2.x, dropout() uses dropout rate instead of keep_prob. Please ensure that this is intended.\n",
      "WARNING:tensorflow:Large dropout rate: 0.7 (>0.5). In TensorFlow 2.x, dropout() uses dropout rate instead of keep_prob. Please ensure that this is intended.\n",
      "WARNING:tensorflow:Large dropout rate: 0.7 (>0.5). In TensorFlow 2.x, dropout() uses dropout rate instead of keep_prob. Please ensure that this is intended.\n",
      "WARNING:tensorflow:Large dropout rate: 0.7 (>0.5). In TensorFlow 2.x, dropout() uses dropout rate instead of keep_prob. Please ensure that this is intended.\n",
      "WARNING:tensorflow:From /usr/local/lib/python3.6/dist-packages/tensorflow_core/python/ops/math_grad.py:1424: where (from tensorflow.python.ops.array_ops) is deprecated and will be removed in a future version.\n",
      "Instructions for updating:\n",
      "Use tf.where in 2.0, which has the same broadcast rule as np.where\n",
      "Train on 10008 samples\n",
      "Epoch 1/6\n",
      "10008/10008 [==============================] - 5s 544us/sample - loss: 0.6942 - sparse_categorical_accuracy: 0.5136\n",
      "Epoch 2/6\n",
      "10008/10008 [==============================] - 3s 322us/sample - loss: 0.6680 - sparse_categorical_accuracy: 0.5845\n",
      "Epoch 3/6\n",
      "10008/10008 [==============================] - 3s 341us/sample - loss: 0.5214 - sparse_categorical_accuracy: 0.7415\n",
      "Epoch 4/6\n",
      "10008/10008 [==============================] - 3s 329us/sample - loss: 0.4532 - sparse_categorical_accuracy: 0.7869\n",
      "Epoch 5/6\n",
      "10008/10008 [==============================] - 3s 336us/sample - loss: 0.4271 - sparse_categorical_accuracy: 0.7999\n",
      "Epoch 6/6\n",
      "10008/10008 [==============================] - 3s 333us/sample - loss: 0.4084 - sparse_categorical_accuracy: 0.8194\n",
      "\n",
      "1 -Resultados con datos de testeo \n",
      "\n",
      "1430/1430 [==============================] - 0s 293us/sample - loss: 0.4467 - sparse_categorical_accuracy: 0.7888\n",
      "\n",
      "1 -Data Test accuracy: 0.788811206817627\n",
      "\n",
      "1 -Matriz de confusion\n",
      "[[582 143]\n",
      " [159 546]]\n",
      "\n",
      "Train on 10008 samples\n",
      "Epoch 1/6\n",
      "10008/10008 [==============================] - 4s 374us/sample - loss: 0.6940 - sparse_categorical_accuracy: 0.4963\n",
      "Epoch 2/6\n",
      "10008/10008 [==============================] - 3s 334us/sample - loss: 0.6655 - sparse_categorical_accuracy: 0.5912\n",
      "Epoch 3/6\n",
      "10008/10008 [==============================] - 3s 341us/sample - loss: 0.5157 - sparse_categorical_accuracy: 0.7452\n",
      "Epoch 4/6\n",
      "10008/10008 [==============================] - 3s 344us/sample - loss: 0.4472 - sparse_categorical_accuracy: 0.7892\n",
      "Epoch 5/6\n",
      "10008/10008 [==============================] - 4s 360us/sample - loss: 0.4237 - sparse_categorical_accuracy: 0.8074\n",
      "Epoch 6/6\n",
      "10008/10008 [==============================] - 3s 343us/sample - loss: 0.3999 - sparse_categorical_accuracy: 0.8213\n",
      "\n",
      "2 -Resultados con datos de testeo \n",
      "\n",
      "1430/1430 [==============================] - 0s 295us/sample - loss: 0.4897 - sparse_categorical_accuracy: 0.7566\n",
      "\n",
      "2 -Data Test accuracy: 0.7566433548927307\n",
      "\n",
      "2 -Matriz de confusion\n",
      "[[487 213]\n",
      " [135 595]]\n",
      "\n",
      "Train on 10008 samples\n",
      "Epoch 1/6\n",
      "10008/10008 [==============================] - 4s 356us/sample - loss: 0.6936 - sparse_categorical_accuracy: 0.5105\n",
      "Epoch 2/6\n",
      "10008/10008 [==============================] - 4s 387us/sample - loss: 0.6647 - sparse_categorical_accuracy: 0.5942\n",
      "Epoch 3/6\n",
      "10008/10008 [==============================] - 3s 346us/sample - loss: 0.5157 - sparse_categorical_accuracy: 0.7456\n",
      "Epoch 4/6\n",
      "10008/10008 [==============================] - 3s 319us/sample - loss: 0.4504 - sparse_categorical_accuracy: 0.7852\n",
      "Epoch 5/6\n",
      "10008/10008 [==============================] - 3s 324us/sample - loss: 0.4207 - sparse_categorical_accuracy: 0.8070\n",
      "Epoch 6/6\n",
      "10008/10008 [==============================] - 3s 308us/sample - loss: 0.4009 - sparse_categorical_accuracy: 0.8188\n",
      "\n",
      "3 -Resultados con datos de testeo \n",
      "\n",
      "1430/1430 [==============================] - 0s 263us/sample - loss: 0.4452 - sparse_categorical_accuracy: 0.7923\n",
      "\n",
      "3 -Data Test accuracy: 0.7923076748847961\n",
      "\n",
      "3 -Matriz de confusion\n",
      "[[538 161]\n",
      " [136 595]]\n",
      "\n",
      "Train on 10008 samples\n",
      "Epoch 1/6\n",
      "10008/10008 [==============================] - 4s 413us/sample - loss: 0.6944 - sparse_categorical_accuracy: 0.4994\n",
      "Epoch 2/6\n",
      "10008/10008 [==============================] - 3s 347us/sample - loss: 0.6647 - sparse_categorical_accuracy: 0.5953\n",
      "Epoch 3/6\n",
      "10008/10008 [==============================] - 3s 315us/sample - loss: 0.5201 - sparse_categorical_accuracy: 0.7417\n",
      "Epoch 4/6\n",
      "10008/10008 [==============================] - 3s 317us/sample - loss: 0.4531 - sparse_categorical_accuracy: 0.7858\n",
      "Epoch 5/6\n",
      "10008/10008 [==============================] - 3s 314us/sample - loss: 0.4221 - sparse_categorical_accuracy: 0.8078\n",
      "Epoch 6/6\n",
      "10008/10008 [==============================] - 3s 325us/sample - loss: 0.4013 - sparse_categorical_accuracy: 0.8193\n",
      "\n",
      "4 -Resultados con datos de testeo \n",
      "\n",
      "1430/1430 [==============================] - 0s 284us/sample - loss: 0.4479 - sparse_categorical_accuracy: 0.8007\n",
      "\n",
      "4 -Data Test accuracy: 0.8006992936134338\n",
      "\n",
      "4 -Matriz de confusion\n",
      "[[582 104]\n",
      " [181 563]]\n",
      "\n",
      "Train on 10008 samples\n",
      "Epoch 1/6\n",
      "10008/10008 [==============================] - 4s 382us/sample - loss: 0.6954 - sparse_categorical_accuracy: 0.4998\n",
      "Epoch 2/6\n",
      "10008/10008 [==============================] - 3s 328us/sample - loss: 0.6662 - sparse_categorical_accuracy: 0.5886\n",
      "Epoch 3/6\n",
      "10008/10008 [==============================] - 3s 326us/sample - loss: 0.5149 - sparse_categorical_accuracy: 0.7520\n",
      "Epoch 4/6\n",
      "10008/10008 [==============================] - 3s 337us/sample - loss: 0.4520 - sparse_categorical_accuracy: 0.7860\n",
      "Epoch 5/6\n",
      "10008/10008 [==============================] - 3s 340us/sample - loss: 0.4241 - sparse_categorical_accuracy: 0.8076\n",
      "Epoch 6/6\n",
      "10008/10008 [==============================] - 3s 309us/sample - loss: 0.4043 - sparse_categorical_accuracy: 0.8170\n",
      "\n",
      "5 -Resultados con datos de testeo \n",
      "\n",
      "1430/1430 [==============================] - 1s 351us/sample - loss: 0.4398 - sparse_categorical_accuracy: 0.7916\n",
      "\n",
      "5 -Data Test accuracy: 0.7916083931922913\n",
      "\n",
      "5 -Matriz de confusion\n",
      "[[588 123]\n",
      " [175 544]]\n",
      "\n",
      "Train on 10008 samples\n",
      "Epoch 1/6\n",
      "10008/10008 [==============================] - 4s 394us/sample - loss: 0.6936 - sparse_categorical_accuracy: 0.5109\n",
      "Epoch 2/6\n",
      "10008/10008 [==============================] - 3s 335us/sample - loss: 0.6638 - sparse_categorical_accuracy: 0.5924\n",
      "Epoch 3/6\n",
      "10008/10008 [==============================] - 3s 339us/sample - loss: 0.5124 - sparse_categorical_accuracy: 0.7558\n",
      "Epoch 4/6\n",
      "10008/10008 [==============================] - 4s 379us/sample - loss: 0.4523 - sparse_categorical_accuracy: 0.7859\n",
      "Epoch 5/6\n",
      "10008/10008 [==============================] - 3s 307us/sample - loss: 0.4221 - sparse_categorical_accuracy: 0.8054\n",
      "Epoch 6/6\n",
      "10008/10008 [==============================] - 3s 333us/sample - loss: 0.4051 - sparse_categorical_accuracy: 0.8200\n",
      "\n",
      "6 -Resultados con datos de testeo \n",
      "\n",
      "1430/1430 [==============================] - 0s 295us/sample - loss: 0.4750 - sparse_categorical_accuracy: 0.7734\n",
      "\n",
      "6 -Data Test accuracy: 0.7734265923500061\n",
      "\n",
      "6 -Matriz de confusion\n",
      "[[494 229]\n",
      " [ 95 612]]\n",
      "\n",
      "Train on 10009 samples\n",
      "Epoch 1/6\n",
      "10009/10009 [==============================] - 4s 367us/sample - loss: 0.6944 - sparse_categorical_accuracy: 0.5021\n",
      "Epoch 2/6\n",
      "10009/10009 [==============================] - 3s 347us/sample - loss: 0.6668 - sparse_categorical_accuracy: 0.5879\n",
      "Epoch 3/6\n",
      "10009/10009 [==============================] - 3s 327us/sample - loss: 0.5144 - sparse_categorical_accuracy: 0.7496\n",
      "Epoch 4/6\n",
      "10009/10009 [==============================] - 3s 325us/sample - loss: 0.4495 - sparse_categorical_accuracy: 0.7868\n",
      "Epoch 5/6\n",
      "10009/10009 [==============================] - 3s 335us/sample - loss: 0.4191 - sparse_categorical_accuracy: 0.8104\n",
      "Epoch 6/6\n",
      "10009/10009 [==============================] - 4s 353us/sample - loss: 0.4006 - sparse_categorical_accuracy: 0.8165\n",
      "\n",
      "7 -Resultados con datos de testeo \n",
      "\n",
      "1429/1429 [==============================] - 0s 324us/sample - loss: 0.4664 - sparse_categorical_accuracy: 0.7817\n",
      "\n",
      "7 -Data Test accuracy: 0.7816655039787292\n",
      "\n",
      "7 -Matriz de confusion\n",
      "[[482 196]\n",
      " [116 635]]\n",
      "\n",
      "Train on 10009 samples\n",
      "Epoch 1/6\n",
      "10009/10009 [==============================] - 4s 394us/sample - loss: 0.6940 - sparse_categorical_accuracy: 0.5043\n",
      "Epoch 2/6\n",
      "10009/10009 [==============================] - 3s 323us/sample - loss: 0.6735 - sparse_categorical_accuracy: 0.5754\n",
      "Epoch 3/6\n",
      "10009/10009 [==============================] - 4s 360us/sample - loss: 0.5344 - sparse_categorical_accuracy: 0.7361\n",
      "Epoch 4/6\n",
      "10009/10009 [==============================] - 3s 344us/sample - loss: 0.4547 - sparse_categorical_accuracy: 0.7839\n",
      "Epoch 5/6\n",
      "10009/10009 [==============================] - 4s 367us/sample - loss: 0.4236 - sparse_categorical_accuracy: 0.8045\n",
      "Epoch 6/6\n",
      "10009/10009 [==============================] - 3s 345us/sample - loss: 0.4035 - sparse_categorical_accuracy: 0.8185\n",
      "\n",
      "8 -Resultados con datos de testeo \n",
      "\n",
      "1429/1429 [==============================] - 1s 353us/sample - loss: 0.4851 - sparse_categorical_accuracy: 0.7663\n",
      "\n",
      "8 -Data Test accuracy: 0.766270101070404\n",
      "\n",
      "8 -Matriz de confusion\n",
      "[[518 193]\n",
      " [141 577]]\n",
      "\n",
      "[0.7888112, 0.75664335, 0.7923077, 0.8006993, 0.7916084, 0.7734266, 0.7816655, 0.7662701]\n",
      "0.78142905\n"
     ]
    }
   ],
   "source": [
    "vocab_len= len(vocabulary)+1\n",
    "num_classes = len(list_dimensions)\n",
    "ouput_dim_embedding = 50\n",
    "lstm_units = 110\n",
    "ouputs_dense = 2\n",
    "epoch = 6\n",
    "batch_size = 60\n",
    "optimizer = 'rmsprop'\n",
    "\n",
    "kf = KFold(n_splits = 8, shuffle = True, random_state = 2)\n",
    "resultados = []\n",
    "contador = 1\n",
    "for valores_entrenamiento, valores_testeo in kf.split(X):\n",
    "    model = tf.keras.Sequential()\n",
    "    #Se agrega capa embedding que hace w2v\n",
    "    model.add(tf.keras.layers.Embedding(input_dim=vocab_len, output_dim = ouput_dim_embedding, input_shape=(X.shape[1],)))\n",
    "    model.add(tf.keras.layers.LSTM(units = lstm_units, activation='sigmoid', dropout=0.7, recurrent_dropout=0.7))\n",
    "    model.add(tf.keras.layers.Dense(units=ouputs_dense, activation='sigmoid'))\n",
    "    model.compile(optimizer='rmsprop', loss='sparse_categorical_crossentropy', metrics=['sparse_categorical_accuracy'])\n",
    "    #model.summary()\n",
    "    history = model.fit(X[valores_entrenamiento], y[valores_entrenamiento], epochs = epoch, batch_size = batch_size)\n",
    "    print()\n",
    "    print(contador, '-Resultados con datos de testeo ')\n",
    "    print()\n",
    "    test_loss, test_acurracy = model.evaluate(X[valores_testeo], y[valores_testeo])\n",
    "    print()\n",
    "    print(contador, '-Data Test accuracy: {}'.format(test_acurracy))\n",
    "    resultados.append(test_acurracy)\n",
    "    print()\n",
    "    predictions = model.predict_classes(X[valores_testeo])\n",
    "    #Matriz de confusion\n",
    "    confusion = tf.confusion_matrix(labels=y[valores_testeo], predictions= predictions, dtype=tf.dtypes.int32, num_classes=num_classes)\n",
    "    print(contador, '-Matriz de confusion')\n",
    "    print(confusion.eval(session=tf.Session()))\n",
    "    print()\n",
    "    contador = contador + 1\n",
    "\n",
    "print(resultados)\n",
    "print(np.array(resultados).mean())"
   ]
  },
  {
   "cell_type": "code",
   "execution_count": 9,
   "metadata": {
    "colab": {
     "base_uri": "https://localhost:8080/",
     "height": 34
    },
    "colab_type": "code",
    "executionInfo": {
     "elapsed": 1442,
     "status": "ok",
     "timestamp": 1578497728523,
     "user": {
      "displayName": "Ricardo Alvarez",
      "photoUrl": "",
      "userId": "07173409030660719160"
     },
     "user_tz": 180
    },
    "id": "5O4r_566t2EE",
    "outputId": "bab0d4f4-2af5-44e5-8b82-d4decd1a7120"
   },
   "outputs": [
    {
     "name": "stdout",
     "output_type": "stream",
     "text": [
      "Saved model to disk\n"
     ]
    }
   ],
   "source": [
    "model_yaml = model.to_yaml()\n",
    "with open(\"drive/My Drive/Tesis/RNN/GOB/modelGOB.yaml\", \"w\") as yaml_file:\n",
    "    yaml_file.write(model_yaml)\n",
    "# serialize weights to HDF5\n",
    "model.save_weights(\"drive/My Drive/Tesis/RNN/GOB/modelGOB.h5\")\n",
    "print(\"Saved model to disk\")"
   ]
  },
  {
   "cell_type": "code",
   "execution_count": 0,
   "metadata": {
    "colab": {},
    "colab_type": "code",
    "id": "9ojPClhoDA9L"
   },
   "outputs": [],
   "source": [
    "for i in range(len(predictions)):\n",
    "    print('Para texto:', [vocabulary[item] for item in X[valores_testeo][i]])\n",
    "    print('El valor Predicho es', predictions[i], 'Y deberia ser', y[valores_testeo][i])"
   ]
  },
  {
   "cell_type": "code",
   "execution_count": 0,
   "metadata": {
    "colab": {
     "base_uri": "https://localhost:8080/",
     "height": 295
    },
    "colab_type": "code",
    "executionInfo": {
     "elapsed": 918,
     "status": "ok",
     "timestamp": 1575861873364,
     "user": {
      "displayName": "Ricardo Alvarez",
      "photoUrl": "",
      "userId": "07173409030660719160"
     },
     "user_tz": 180
    },
    "id": "Ey40A1-dDA9P",
    "outputId": "0164fc8e-3442-4982-d9e5-7c8551689499"
   },
   "outputs": [
    {
     "data": {
      "image/png": "[encoded data removed]",
      "text/plain": [
       "<Figure size 432x288 with 1 Axes>"
      ]
     },
     "metadata": {
      "tags": []
     },
     "output_type": "display_data"
    }
   ],
   "source": [
    "import matplotlib.pyplot as plt\n",
    "history_dict = history.history\n",
    "acc = history_dict['sparse_categorical_accuracy']\n",
    "loss = history_dict['loss']\n",
    "\n",
    "epochs = range(1, len(acc) + 1)\n",
    "\n",
    "# \"bo\" is for \"blue dot\"\n",
    "plt.plot(epochs, loss, 'bo', label='Training loss')\n",
    "# b is for \"solid blue line\"\n",
    "plt.plot(epochs, loss, 'b', label='Validation loss')\n",
    "plt.title('Training and validation loss')\n",
    "plt.xlabel('Epochs')\n",
    "plt.ylabel('Loss')\n",
    "plt.legend()\n",
    "\n",
    "plt.show()"
   ]
  },
  {
   "cell_type": "code",
   "execution_count": 0,
   "metadata": {
    "colab": {
     "base_uri": "https://localhost:8080/",
     "height": 295
    },
    "colab_type": "code",
    "executionInfo": {
     "elapsed": 1046,
     "status": "ok",
     "timestamp": 1575861889196,
     "user": {
      "displayName": "Ricardo Alvarez",
      "photoUrl": "",
      "userId": "07173409030660719160"
     },
     "user_tz": 180
    },
    "id": "YGLhIkbyDA9U",
    "outputId": "8de843d2-0cb5-4bfc-e249-17b8d6e820b1"
   },
   "outputs": [
    {
     "data": {
      "image/png": "[encoded data removed]",
      "text/plain": [
       "<Figure size 432x288 with 1 Axes>"
      ]
     },
     "metadata": {
      "tags": []
     },
     "output_type": "display_data"
    }
   ],
   "source": [
    "plt.clf()   # clear figure\n",
    "\n",
    "plt.plot(epochs, acc, 'bo', label='Training acc')\n",
    "plt.plot(epochs, acc, 'b', label='Validation acc')\n",
    "plt.title('Training and validation accuracy')\n",
    "plt.xlabel('Epochs')\n",
    "plt.ylabel('Accuracy')\n",
    "plt.legend(loc='lower right')\n",
    "\n",
    "plt.show()"
   ]
  },
  {
   "cell_type": "code",
   "execution_count": 0,
   "metadata": {
    "colab": {
     "base_uri": "https://localhost:8080/",
     "height": 295
    },
    "colab_type": "code",
    "executionInfo": {
     "elapsed": 838,
     "status": "ok",
     "timestamp": 1575862083955,
     "user": {
      "displayName": "Ricardo Alvarez",
      "photoUrl": "",
      "userId": "07173409030660719160"
     },
     "user_tz": 180
    },
    "id": "A6A4Y7MeDA9X",
    "outputId": "3f7827a9-00ca-4a19-e997-56838a9a17c7"
   },
   "outputs": [
    {
     "data": {
      "image/png": "[encoded data removed]",
      "text/plain": [
       "<Figure size 432x288 with 1 Axes>"
      ]
     },
     "metadata": {
      "tags": []
     },
     "output_type": "display_data"
    }
   ],
   "source": [
    "import sklearn.metrics as metrics\n",
    "\n",
    "fpr, tpr, threshold = metrics.roc_curve(y[valores], predictions)\n",
    "roc_auc = metrics.auc(fpr, tpr)\n",
    "\n",
    "import matplotlib.pyplot as plt\n",
    "plt.title('Receiver Operating Characteristic')\n",
    "plt.plot(fpr, tpr, 'b', label = 'AUC = %0.2f' % roc_auc)\n",
    "plt.legend(loc = 'lower right')\n",
    "plt.plot([0, 1], [0, 1],'r--')\n",
    "plt.xlim([0, 1])\n",
    "plt.ylim([0, 1])\n",
    "plt.ylabel('True Positive Rate')\n",
    "plt.xlabel('False Positive Rate')\n",
    "plt.show()"
   ]
  }
 ],
 "metadata": {
  "accelerator": "GPU",
  "colab": {
   "collapsed_sections": [],
   "name": "Gobierno T",
   "provenance": [],
   "toc_visible": true
  },
  "kernelspec": {
   "display_name": "Python 3",
   "language": "python",
   "name": "python3"
  },
  "language_info": {
   "codemirror_mode": {
    "name": "ipython",
    "version": 3
   },
   "file_extension": ".py",
   "mimetype": "text/x-python",
   "name": "python",
   "nbconvert_exporter": "python",
   "pygments_lexer": "ipython3",
   "version": "3.7.4"
  }
 },
 "nbformat": 4,
 "nbformat_minor": 1
}
