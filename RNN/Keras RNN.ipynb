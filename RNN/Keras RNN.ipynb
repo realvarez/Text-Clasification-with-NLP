{
 "cells": [
  {
   "cell_type": "code",
   "execution_count": 1,
   "metadata": {},
   "outputs": [
    {
     "name": "stderr",
     "output_type": "stream",
     "text": [
      "Using TensorFlow backend.\n",
      "C:\\Users\\ralvarez\\Anaconda\\lib\\site-packages\\gensim\\utils.py:1197: UserWarning: detected Windows; aliasing chunkize to chunkize_serial\n",
      "  warnings.warn(\"detected Windows; aliasing chunkize to chunkize_serial\")\n"
     ]
    }
   ],
   "source": [
    "from __future__ import print_function\n",
    "%config IPCompleter.greedy=True\n",
    "\n",
    "from keras.preprocessing import sequence\n",
    "from keras.models import Sequential\n",
    "from keras.layers import Dense, Embedding\n",
    "from keras.layers import LSTM\n",
    "\n",
    "import pandas as pd\n",
    "import nltk.data\n",
    "import re, string, unicodedata\n",
    "import nltk\n",
    "import matplotlib.pyplot as plt\n",
    "import numpy as np\n",
    "import ast\n",
    "\n",
    "from gensim.models import Word2Vec\n",
    "from gensim.models import KeyedVectors\n",
    "from sklearn.model_selection import train_test_split"
   ]
  },
  {
   "cell_type": "code",
   "execution_count": 2,
   "metadata": {},
   "outputs": [
    {
     "name": "stderr",
     "output_type": "stream",
     "text": [
      "C:\\Users\\ralvarez\\Anaconda\\lib\\site-packages\\smart_open\\smart_open_lib.py:398: UserWarning: This function is deprecated, use smart_open.open instead. See the migration notes for details: https://github.com/RaRe-Technologies/smart_open/blob/master/README.rst#migrating-to-the-new-open-function\n",
      "  'See the migration notes for details: %s' % _MIGRATION_NOTES_URL\n"
     ]
    }
   ],
   "source": [
    "df = pd.read_csv(\"../Data/Flujo1.csv\", sep=\";\")\n",
    "df['Respuesta'] = df['Respuesta'].apply(ast.literal_eval)\n",
    "model = Word2Vec.load('../modelWord2vec.bin')"
   ]
  },
  {
   "cell_type": "code",
   "execution_count": 3,
   "metadata": {},
   "outputs": [],
   "source": [
    "def text_to_vectors(array_text):\n",
    "    array_vectors = []\n",
    "    for word in array_text:\n",
    "        array_vectors.append(model.wv['word'])\n",
    "    return array_vectors\n",
    "data = pd.DataFrame()\n",
    "data['_vectors'] = df[\"Respuesta\"].apply(text_to_vectors)"
   ]
  },
  {
   "cell_type": "code",
   "execution_count": 4,
   "metadata": {},
   "outputs": [],
   "source": [
    "def get_mean_vector(vectors):\n",
    "    return np.mean(vectors, axis=0)\n",
    "data['_vectors'] = data[\"_vectors\"].apply(get_mean_vector)"
   ]
  },
  {
   "cell_type": "code",
   "execution_count": 6,
   "metadata": {},
   "outputs": [],
   "source": [
    "list_dimensions = df.Dimension.unique().tolist()\n",
    "def enumerate_dimensions(dimension):\n",
    "    return list_dimensions.index(dimension)\n",
    "data['_dimension'] = df.Dimension.apply(enumerate_dimensions)"
   ]
  },
  {
   "cell_type": "code",
   "execution_count": 9,
   "metadata": {},
   "outputs": [
    {
     "data": {
      "text/plain": [
       "(162941, 2)"
      ]
     },
     "execution_count": 9,
     "metadata": {},
     "output_type": "execute_result"
    }
   ],
   "source": [
    "data.shape"
   ]
  },
  {
   "cell_type": "code",
   "execution_count": 10,
   "metadata": {},
   "outputs": [],
   "source": [
    "train, test = train_test_split(data, test_size = 0.2, random_state = 0)"
   ]
  },
  {
   "cell_type": "code",
   "execution_count": 12,
   "metadata": {},
   "outputs": [
    {
     "name": "stdout",
     "output_type": "stream",
     "text": [
      "[ 7.23198662e-03  3.56125040e-03  8.27374315e-05  4.73930873e-03\n",
      " -1.45125494e-03  3.03324615e-03 -1.77122210e-03  1.77040626e-03\n",
      " -5.98355103e-03 -2.00058194e-03 -6.39440585e-03 -6.62274484e-04\n",
      "  2.23893998e-03  2.93132570e-03 -1.92469615e-03  2.85288878e-03\n",
      " -2.99748615e-03  3.72265885e-03 -2.48697796e-03 -7.62761279e-04\n",
      " -5.99944557e-04  8.81170679e-04  1.45041884e-03  1.85746304e-03\n",
      "  1.69483642e-03  3.82592599e-03 -2.09626422e-04 -5.40412846e-04\n",
      " -1.90073828e-04 -2.43175629e-04  2.58135516e-03  1.62515137e-03\n",
      " -9.57609271e-04  1.19319162e-03 -1.00566074e-03  1.11554444e-04\n",
      " -1.30623521e-03  4.30263765e-03  5.23286115e-04  7.75288907e-04\n",
      " -4.36432706e-03  1.81959942e-04  4.34213784e-03 -3.40269622e-03\n",
      " -3.60853551e-03 -3.28799477e-03 -4.85637545e-04 -8.85244168e-04\n",
      " -2.11051176e-03 -4.67886124e-03  9.50787507e-04  2.20666500e-03\n",
      " -6.45257707e-04  5.40347584e-03 -2.64789816e-03  7.27965403e-03\n",
      " -3.21918284e-03  2.39325315e-03  1.82635966e-03 -6.40867557e-03\n",
      " -4.65669390e-03  1.73051740e-04  2.06366600e-03 -2.68706214e-03\n",
      " -2.92385509e-03 -4.74954396e-03 -2.03871261e-03  5.19438414e-03\n",
      "  9.10183589e-04 -2.96495925e-03 -2.87676533e-03 -1.85894524e-03\n",
      "  7.42319366e-03  2.69789691e-03  1.55412068e-03  2.13561201e-04\n",
      " -5.61130559e-03 -3.83540406e-04  3.81835876e-03 -5.87022223e-04\n",
      " -2.78190174e-03 -1.66678173e-03 -2.39837123e-03 -1.90247525e-03\n",
      "  5.69189573e-03  2.85282847e-04  1.25308614e-03  2.83032237e-03\n",
      "  7.56438216e-03 -2.43939552e-03 -4.20834590e-03 -2.27801921e-03\n",
      "  1.67334243e-03  1.31577544e-03  2.03922129e-04  4.91827400e-03\n",
      " -2.13090423e-03  4.80375811e-03  7.84041258e-05  4.07307030e-04\n",
      "  2.58381455e-03  8.22239264e-04  3.36158322e-03 -2.44987593e-03\n",
      "  4.78521781e-03 -1.40612619e-03  5.07663179e-04 -8.25353054e-05\n",
      "  2.13289610e-03  4.26382385e-03  1.69790722e-03 -3.30924755e-03\n",
      "  3.37770814e-03  1.86284757e-04  2.04446446e-03  2.20174668e-04\n",
      " -2.43201782e-03  8.07298464e-04  2.09054095e-03  4.24796669e-03\n",
      "  8.82556778e-04 -3.61006474e-04  1.26061821e-03 -2.85632582e-03\n",
      "  1.02252164e-03  1.26129412e-03 -1.28377916e-03 -2.35683192e-03\n",
      "  4.16400749e-03  1.85628678e-03  3.44496919e-03  4.75623040e-03\n",
      "  2.11238093e-05  3.46878124e-03 -3.85600957e-03  1.56839658e-03\n",
      " -5.57046337e-03 -1.06450182e-03  1.45237893e-03  1.82211981e-03\n",
      " -3.47217661e-03 -8.98470986e-04  3.08879605e-03  3.53105064e-03\n",
      " -3.09674698e-03  5.59446635e-03 -2.41842144e-03  1.17991600e-04\n",
      " -4.82164382e-04  3.35866353e-03 -5.51843690e-03 -4.35333932e-03\n",
      "  8.41703615e-04 -2.20588432e-03 -1.48169708e-03 -1.86698418e-03\n",
      "  6.83827559e-04 -2.84954207e-03 -7.67943100e-04 -4.93710907e-03\n",
      "  1.52536959e-04  1.11264735e-05  1.06698822e-03 -3.30702076e-03\n",
      "  5.46456780e-03  1.31223793e-03  4.69783973e-03 -4.63908259e-03\n",
      "  3.04032629e-03  3.01386137e-03 -3.74192246e-06  2.55059660e-03\n",
      " -1.43872399e-03  1.29610067e-03 -6.62402436e-03 -2.38797721e-03\n",
      "  1.80746091e-03  2.94173020e-03  9.59096360e-04 -4.26007388e-03\n",
      "  1.88163947e-03  2.56543863e-03  3.11621954e-03 -3.78879230e-03\n",
      " -5.06374869e-04 -4.61695628e-04 -1.56414858e-03  5.18741040e-03\n",
      " -3.16779799e-04  7.43187498e-03 -6.49067573e-04 -3.97383189e-03\n",
      " -7.28893734e-04  5.99628361e-03 -2.02744291e-03 -1.79399387e-03\n",
      " -1.86149566e-03  3.30991042e-03  5.15753217e-03 -8.38981592e-04\n",
      " -2.61042593e-03  3.25315958e-03 -2.36206269e-03  1.13022327e-03\n",
      "  2.17868201e-03  1.12493127e-03  8.04036739e-04  1.14278751e-03\n",
      "  1.85115845e-03 -3.23941757e-04  2.59990408e-03  9.29884496e-04\n",
      "  3.77048878e-03 -1.31957978e-03  8.68528965e-04 -1.47668307e-03\n",
      "  1.04621088e-03  9.26890993e-04  4.01094137e-03 -9.38280791e-05\n",
      "  2.03738946e-05  4.09227097e-03  3.10907466e-03 -1.36148406e-03\n",
      "  5.46382880e-03  1.98080391e-03  1.04843860e-03 -3.06884083e-03\n",
      " -4.41239681e-04  6.57729863e-04 -2.80029280e-03 -2.65205791e-03\n",
      " -4.90689243e-04 -2.08927755e-04  4.14560456e-03 -4.08535963e-03\n",
      "  3.20676784e-03 -1.06447330e-03 -6.20882679e-03 -1.68471783e-03\n",
      " -3.16566182e-03 -1.55180285e-03  5.01676835e-03 -1.67321879e-03\n",
      "  3.89559020e-04  1.33350585e-03 -4.01822990e-03  7.14872556e-04\n",
      "  1.11825881e-03 -2.22893455e-03 -4.68179758e-04 -7.47406913e-04\n",
      " -4.40700119e-03 -3.01060081e-03  5.26207918e-03 -2.10360478e-04\n",
      "  5.45125687e-04  2.35926872e-03 -6.33858610e-03 -4.53333196e-04\n",
      " -7.58104783e-04 -1.70682142e-05 -3.26856039e-03 -2.84988200e-03\n",
      " -1.58502569e-03  1.89688546e-03 -1.00858416e-03 -3.95175721e-03\n",
      " -4.91607189e-03  1.71851867e-03  3.75444797e-04  2.70865462e-03\n",
      "  1.12505560e-03 -3.08383210e-03 -2.55095004e-03  1.61998288e-03\n",
      "  2.89750547e-04  9.51507303e-04 -2.41669151e-03 -3.18120467e-03\n",
      " -2.16757203e-03  1.08639861e-03 -5.85968886e-03  4.69916034e-03\n",
      " -1.84184476e-03 -8.87575850e-04 -3.56366928e-03 -8.99799343e-04\n",
      " -4.70708066e-04  4.01351042e-03  4.21225606e-03 -2.47842935e-03\n",
      " -6.41997438e-03  1.16107590e-03  4.47989115e-03 -2.90721795e-03\n",
      "  6.76508993e-04  1.86122698e-03  4.26405866e-04  3.48848029e-04]\n"
     ]
    }
   ],
   "source": [
    "print(data[\"_vectors\"][0])"
   ]
  },
  {
   "cell_type": "code",
   "execution_count": 13,
   "metadata": {},
   "outputs": [],
   "source": [
    "max_vol = 10\n",
    "maxlen = 80\n",
    "batch_size = 32"
   ]
  }
 ],
 "metadata": {
  "kernelspec": {
   "display_name": "Python 3",
   "language": "python",
   "name": "python3"
  },
  "language_info": {
   "codemirror_mode": {
    "name": "ipython",
    "version": 3
   },
   "file_extension": ".py",
   "mimetype": "text/x-python",
   "name": "python",
   "nbconvert_exporter": "python",
   "pygments_lexer": "ipython3",
   "version": "3.7.3"
  }
 },
 "nbformat": 4,
 "nbformat_minor": 2
}
