{
 "cells": [
  {
   "cell_type": "code",
   "execution_count": 1,
   "metadata": {},
   "outputs": [
    {
     "name": "stderr",
     "output_type": "stream",
     "text": [
      "C:\\Users\\ralvarez\\Anaconda\\lib\\site-packages\\gensim\\utils.py:1197: UserWarning: detected Windows; aliasing chunkize to chunkize_serial\n",
      "  warnings.warn(\"detected Windows; aliasing chunkize to chunkize_serial\")\n"
     ]
    }
   ],
   "source": [
    "%config IPCompleter.greedy=True\n",
    "import pandas as pd\n",
    "import tensorflow as tf\n",
    "import ast\n",
    "import numpy as np\n",
    "import matplotlib.pyplot as plt\n",
    "import tensorflow as tf\n",
    "from tensorflow.contrib import rnn\n",
    "from sklearn.model_selection import train_test_split\n",
    "from gensim.models import Word2Vec\n",
    "# Import MNIST data\n",
    "from tensorflow.examples.tutorials.mnist import input_data\n",
    "\n",
    "\n",
    "from tensorflow.keras.preprocessing.sequence import pad_sequences"
   ]
  },
  {
   "cell_type": "code",
   "execution_count": 2,
   "metadata": {},
   "outputs": [
    {
     "name": "stderr",
     "output_type": "stream",
     "text": [
      "C:\\Users\\ralvarez\\Anaconda\\lib\\site-packages\\smart_open\\smart_open_lib.py:398: UserWarning: This function is deprecated, use smart_open.open instead. See the migration notes for details: https://github.com/RaRe-Technologies/smart_open/blob/master/README.rst#migrating-to-the-new-open-function\n",
      "  'See the migration notes for details: %s' % _MIGRATION_NOTES_URL\n"
     ]
    }
   ],
   "source": [
    "df = pd.read_csv(\"../Data/Flujo1.csv\", sep=\";\")\n",
    "df['Respuesta'] = df['Respuesta'].apply(ast.literal_eval)\n",
    "model = Word2Vec.load('../modelWord2vec.bin')"
   ]
  },
  {
   "cell_type": "code",
   "execution_count": 3,
   "metadata": {},
   "outputs": [],
   "source": [
    "df_ambiente = df[df.Area == 'Medio Ambiente']\n",
    "df_gobierno = df[df.Area == 'Gobierno Corporativo']\n",
    "df_social_ext = df[df.Area == 'Social Externo']\n",
    "df_social_int = df[df.Area == 'Social Interno']"
   ]
  },
  {
   "cell_type": "code",
   "execution_count": 6,
   "metadata": {},
   "outputs": [],
   "source": [
    "def text_to_vectors(array_text):\n",
    "    array_vectors = []\n",
    "    for word in array_text:\n",
    "        array_vectors.append(model.wv['word'])\n",
    "    return array_vectors\n",
    "\n",
    "def get_mean_vector(vectors):\n",
    "    return np.mean(vectors, axis=0)\n",
    "\n",
    "list_dimensions_ambiente = df_ambiente.Dimension.unique().tolist()\n",
    "def enumerate_dimensions(dimension, argumento2):\n",
    "    print(argumento2)\n",
    "    return list_dimensions_ambiente.index(dimension)"
   ]
  },
  {
   "cell_type": "code",
   "execution_count": null,
   "metadata": {},
   "outputs": [],
   "source": [
    "df_ambiente['_vectors'] = df_ambiente[\"Respuesta\"].apply(text_to_vectors)\n",
    "df_ambiente['_dimension'] = df_ambiente.Dimension.apply(enumerate_dimensions)\n",
    "df_ambiente['_vectors_mean'] = df_ambiente[\"_vectors\"].apply(get_mean_vector)"
   ]
  },
  {
   "cell_type": "code",
   "execution_count": 11,
   "metadata": {},
   "outputs": [
    {
     "name": "stdout",
     "output_type": "stream",
     "text": [
      "perrito\n",
      "perrito\n",
      "perrito\n",
      "perrito\n",
      "perrito\n",
      "perrito\n",
      "perrito\n",
      "perrito\n",
      "perrito\n",
      "perrito\n",
      "perrito\n",
      "perrito\n",
      "perrito\n",
      "perrito\n",
      "perrito\n",
      "perrito\n",
      "perrito\n",
      "perrito\n",
      "perrito\n",
      "perrito\n"
     ]
    },
    {
     "data": {
      "text/plain": [
       "0     0\n",
       "1     0\n",
       "2     0\n",
       "3     0\n",
       "4     0\n",
       "5     0\n",
       "6     0\n",
       "7     0\n",
       "8     0\n",
       "9     0\n",
       "10    0\n",
       "11    0\n",
       "12    0\n",
       "13    0\n",
       "14    0\n",
       "15    0\n",
       "16    0\n",
       "17    0\n",
       "18    0\n",
       "19    0\n",
       "Name: Dimension, dtype: int64"
      ]
     },
     "execution_count": 11,
     "metadata": {},
     "output_type": "execute_result"
    }
   ],
   "source": [
    "df_ambiente[:20].Dimension.apply(enumerate_dimensions, argumento2 =\"perrito\")"
   ]
  },
  {
   "cell_type": "code",
   "execution_count": 6,
   "metadata": {},
   "outputs": [],
   "source": [
    "array_vectores_norm = pad_sequences(df_ambiente._vectors, maxlen=10, dtype='object', padding='post', value=0)\n",
    "array_dimensiones = np.array(df_ambiente['_dimension'])"
   ]
  },
  {
   "cell_type": "code",
   "execution_count": 7,
   "metadata": {},
   "outputs": [],
   "source": [
    "num_classes = 2"
   ]
  },
  {
   "cell_type": "code",
   "execution_count": 8,
   "metadata": {},
   "outputs": [
    {
     "name": "stderr",
     "output_type": "stream",
     "text": [
      "WARNING: Logging before flag parsing goes to stderr.\n",
      "W0926 21:48:47.497365  4440 deprecation.py:323] From C:\\Users\\ralvarez\\Anaconda\\lib\\site-packages\\tensorflow\\contrib\\layers\\python\\layers\\layers.py:1634: flatten (from tensorflow.python.layers.core) is deprecated and will be removed in a future version.\n",
      "Instructions for updating:\n",
      "Use keras.layers.flatten instead.\n"
     ]
    },
    {
     "name": "stdout",
     "output_type": "stream",
     "text": [
      "Epoch  0\n",
      "Accuracy:  0.0\n",
      "Epoch  10\n",
      "Accuracy:  0.0\n",
      "Epoch  20\n",
      "Accuracy:  0.0\n",
      "Epoch  30\n",
      "Accuracy:  0.0\n",
      "Epoch  40\n",
      "Accuracy:  0.0\n",
      "Epoch  50\n",
      "Accuracy:  0.0\n",
      "Epoch  60\n",
      "Accuracy:  0.0\n",
      "Epoch  70\n",
      "Accuracy:  0.0\n",
      "Epoch  80\n",
      "Accuracy:  0.0\n",
      "Epoch  90\n",
      "Accuracy:  0.0\n"
     ]
    }
   ],
   "source": [
    "x = tf.placeholder(tf.float32, [ None , 10 , 10])\n",
    "y = tf.placeholder(tf.int32, [ None ])\n",
    "\n",
    "text_flat = tf.contrib.layers.flatten(x)\n",
    "logits = tf.contrib.layers.fully_connected(text_flat, num_classes, tf.nn.relu)\n",
    "\n",
    "loss = tf.reduce_mean(tf.nn.sparse_softmax_cross_entropy_with_logits(labels = y, logits = logits))\n",
    "\n",
    "train_opt = tf.train.AdamOptimizer(learning_rate = 0.001).minimize(loss)\n",
    "\n",
    "final_pred = tf.argmax(logits, 1)\n",
    "\n",
    "accur = tf.reduce_mean(tf.cast(final_pred, tf.float32))\n",
    "\n",
    "tf.set_random_seed(1)\n",
    "\n",
    "train_x, test_x, train_y, test_y = train_test_split(array_vectores_norm, array_dimensiones, test_size = 0.2, random_state = 0)\n",
    "\n",
    "sess = tf.Session()\n",
    "\n",
    "sess.run(tf.global_variables_initializer())\n",
    "\n",
    "for i in range(100):\n",
    "    _, accuracy = sess.run([train_opt, accur], \n",
    "                              feed_dict = {\n",
    "                                  x: train_x,\n",
    "                                  y: train_y\n",
    "                              })\n",
    "    \n",
    "    if i%10 == 0:\n",
    "        print(\"Epoch \", i)\n",
    "        print(\"Accuracy: \", accuracy)"
   ]
  },
  {
   "cell_type": "code",
   "execution_count": 9,
   "metadata": {},
   "outputs": [],
   "source": [
    "array_mean_vectors = pad_sequences(df_ambiente._vectors_mean, maxlen=10, dtype='object', padding='post', value=0)"
   ]
  },
  {
   "cell_type": "code",
   "execution_count": 10,
   "metadata": {},
   "outputs": [
    {
     "name": "stdout",
     "output_type": "stream",
     "text": [
      "Epoch  0\n",
      "Accuracy:  1.0\n",
      "Epoch  10\n",
      "Accuracy:  1.0\n",
      "Epoch  20\n",
      "Accuracy:  1.0\n",
      "Epoch  30\n",
      "Accuracy:  1.0\n",
      "Epoch  40\n",
      "Accuracy:  1.0\n",
      "Epoch  50\n",
      "Accuracy:  1.0\n",
      "Epoch  60\n",
      "Accuracy:  1.0\n",
      "Epoch  70\n",
      "Accuracy:  1.0\n",
      "Epoch  80\n",
      "Accuracy:  1.0\n",
      "Epoch  90\n",
      "Accuracy:  1.0\n"
     ]
    }
   ],
   "source": [
    "x = tf.placeholder(tf.float32, [ None , 10])\n",
    "y = tf.placeholder(tf.int32, [ None ])\n",
    "\n",
    "\n",
    "logits = tf.contrib.layers.fully_connected(x, num_classes, tf.nn.relu)\n",
    "\n",
    "loss = tf.reduce_mean(tf.nn.sparse_softmax_cross_entropy_with_logits(labels = y, logits = logits))\n",
    "\n",
    "\n",
    "train_opt = tf.train.AdamOptimizer(learning_rate = 0.001).minimize(loss)\n",
    "\n",
    "final_pred = tf.argmax(logits, 1)\n",
    "\n",
    "accur = tf.reduce_mean(tf.cast(final_pred, tf.float32))\n",
    "\n",
    "tf.set_random_seed(9)\n",
    "\n",
    "train2_x, test2_x, train2_y, test2_y = train_test_split(array_mean_vectors, array_dimensiones, test_size = 0.2, random_state = 0)\n",
    "\n",
    "sess = tf.Session()\n",
    "\n",
    "sess.run(tf.global_variables_initializer())\n",
    "\n",
    "for i in range(100):\n",
    "    _, accuracy = sess.run([train_opt, accur], \n",
    "                              feed_dict = {\n",
    "                                  x: train2_x,\n",
    "                                  y: train2_y\n",
    "                              })\n",
    "    \n",
    "    if i%10 == 0:\n",
    "        print(\"Epoch \", i)\n",
    "        print(\"Accuracy: \", accuracy)"
   ]
  }
 ],
 "metadata": {
  "kernelspec": {
   "display_name": "Python 3",
   "language": "python",
   "name": "python3"
  },
  "language_info": {
   "codemirror_mode": {
    "name": "ipython",
    "version": 3
   },
   "file_extension": ".py",
   "mimetype": "text/x-python",
   "name": "python",
   "nbconvert_exporter": "python",
   "pygments_lexer": "ipython3",
   "version": "3.7.3"
  }
 },
 "nbformat": 4,
 "nbformat_minor": 2
}
