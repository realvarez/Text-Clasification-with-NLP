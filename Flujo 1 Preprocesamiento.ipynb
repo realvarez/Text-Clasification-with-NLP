{
 "cells": [
  {
   "cell_type": "code",
   "execution_count": 1,
   "metadata": {},
   "outputs": [],
   "source": [
    "%config IPCompleter.greedy=True\n",
    "import pandas as pd\n",
    "import nltk.data\n",
    "import re, string, unicodedata\n",
    "import nltk\n",
    "import matplotlib.pyplot as plt\n",
    "import time\n",
    "\n",
    "from unicodedata import normalize\n",
    "from nltk import word_tokenize, sent_tokenize\n",
    "from nltk.corpus import stopwords\n",
    "\n",
    "arrayHeaders = [\"Area\", \"Dimension\", \"Respuesta\"]\n",
    "df = pd.read_csv(\"Data/formattedData.csv\", sep=\";\")"
   ]
  },
  {
   "cell_type": "code",
   "execution_count": 2,
   "metadata": {},
   "outputs": [],
   "source": [
    "# gs = goslate.Goslate(service_urls=['http://translate.google.es'])\n",
    "\n",
    "# def verfLengEs(text):\n",
    "#     if text.isdigit()== False and len(text) > 10:\n",
    "#         time.sleep(10)\n",
    "#         leng = gs.detect(text)\n",
    "#         print(leng)\n",
    "#         if 'es' == leng:\n",
    "#             return text\n",
    "#         else:\n",
    "#             return ''\n",
    "#     else:\n",
    "#         return text\n",
    "    \n",
    "#df[\"Respuesta\"][0:100] = df[\"Respuesta\"][0:100].apply(verfLengEs)"
   ]
  },
  {
   "cell_type": "code",
   "execution_count": 3,
   "metadata": {},
   "outputs": [],
   "source": [
    "dataSentTokenized = df.dropna().copy()\n",
    "dataSentTokenized[\"Respuesta\"] = dataSentTokenized[\"Respuesta\"].apply(nltk.sent_tokenize)\n",
    "dataSentTokenized = dataSentTokenized[dataSentTokenized['Respuesta'].map(len) >= 1].copy()\n",
    "dataSentTokenized = dataSentTokenized.dropna()"
   ]
  },
  {
   "cell_type": "code",
   "execution_count": 4,
   "metadata": {},
   "outputs": [],
   "source": [
    "arrayExterno = []\n",
    "def separeSentences(row):\n",
    "    if type(row['Respuesta']) != str:\n",
    "        if len(row['Respuesta']) == 1:\n",
    "            row['Respuesta'] = row['Respuesta'][0]\n",
    "            return row\n",
    "        else:\n",
    "            area = row['Area']\n",
    "            dimension = row['Dimension']\n",
    "            for sent in row['Respuesta']:\n",
    "                tempArray = []\n",
    "                tempArray.append(area)    \n",
    "                tempArray.append(dimension)\n",
    "                tempArray.append(sent)\n",
    "                arrayExterno.append(tempArray)\n",
    "            row['Respuesta'] = \"\"\n",
    "            return row\n",
    "    else:\n",
    "        return row\n",
    "\n",
    "dataSentTokenized = dataSentTokenized.apply(separeSentences, axis = 1)"
   ]
  },
  {
   "cell_type": "code",
   "execution_count": 5,
   "metadata": {},
   "outputs": [],
   "source": [
    "dataFrameSentencesSepared = pd.concat([dataSentTokenized,pd.DataFrame(arrayExterno, columns=arrayHeaders)], ignore_index=True) "
   ]
  },
  {
   "cell_type": "code",
   "execution_count": 6,
   "metadata": {},
   "outputs": [],
   "source": [
    "def deleteSimbols(tokens):\n",
    "    return re.sub(r'[^\\w\\s]', ' ', tokens)\n",
    "dataFrameSentencesSepared[\"Respuesta\"] = dataFrameSentencesSepared[\"Respuesta\"].apply(deleteSimbols)"
   ]
  },
  {
   "cell_type": "code",
   "execution_count": 7,
   "metadata": {},
   "outputs": [],
   "source": [
    "dataFrameWordSepared = dataFrameSentencesSepared.copy() \n",
    "dataFrameWordSepared[\"Respuesta\"] = dataFrameWordSepared[\"Respuesta\"].apply(nltk.word_tokenize)"
   ]
  },
  {
   "cell_type": "code",
   "execution_count": 8,
   "metadata": {},
   "outputs": [
    {
     "data": {
      "text/plain": [
       "count    344304.000000\n",
       "mean          8.152685\n",
       "std           8.661278\n",
       "min           0.000000\n",
       "25%           3.000000\n",
       "50%           6.000000\n",
       "75%          11.000000\n",
       "max         306.000000\n",
       "Name: Respuesta, dtype: float64"
      ]
     },
     "execution_count": 8,
     "metadata": {},
     "output_type": "execute_result"
    }
   ],
   "source": [
    "largoRespuestas1 = dataFrameWordSepared[\"Respuesta\"].apply(len)\n",
    "largoRespuestas1.describe()"
   ]
  },
  {
   "cell_type": "code",
   "execution_count": 9,
   "metadata": {},
   "outputs": [],
   "source": [
    "stop = stopwords.words('spanish')\n",
    "def verifyStopWords(tokens):\n",
    "    for token in tokens:\n",
    "        if token.lower() in stop:\n",
    "            tokens.pop(tokens.index(token))\n",
    "    return tokens"
   ]
  },
  {
   "cell_type": "code",
   "execution_count": 10,
   "metadata": {},
   "outputs": [],
   "source": [
    "dataTestStop = dataFrameWordSepared.copy()\n",
    "dataTestStop[\"Respuesta\"] = dataTestStop[\"Respuesta\"].apply(verifyStopWords)"
   ]
  },
  {
   "cell_type": "code",
   "execution_count": 11,
   "metadata": {},
   "outputs": [],
   "source": [
    "def verifyVoidElements(tokens):\n",
    "    for token in tokens:\n",
    "        if token == '' or token == \" \" or token == \"  \":\n",
    "            tokens.pop(tokens.index(token))\n",
    "    return tokens"
   ]
  },
  {
   "cell_type": "code",
   "execution_count": 12,
   "metadata": {},
   "outputs": [],
   "source": [
    "dfMoreWords = dataTestStop.copy()\n",
    "dfMoreWords[\"Respuesta\"] = dfMoreWords[\"Respuesta\"].apply(verifyVoidElements)\n",
    "dfMoreWords = dfMoreWords[dfMoreWords['Respuesta'].map(len) > 3].copy()\n",
    "dfMoreWords = dfMoreWords.dropna()"
   ]
  },
  {
   "cell_type": "code",
   "execution_count": 13,
   "metadata": {},
   "outputs": [],
   "source": [
    "def normalizeTokens(tokens):\n",
    "    for token in tokens:\n",
    "        pos = tokens.index(token)\n",
    "        if token.isdigit():\n",
    "            tokens[pos] = \"\"#num2words(token, lang='es')\n",
    "        else:\n",
    "            token = re.sub(r'[^\\w\\s]', ' ', token)\n",
    "            if token != ' ' or token != '':\n",
    "                tokens[pos] = unicodedata.normalize('NFKD', token.lower()).encode('ascii', 'ignore').decode('utf-8', 'ignore')\n",
    "            else:\n",
    "                tokens.pop(pos)\n",
    "    return tokens"
   ]
  },
  {
   "cell_type": "code",
   "execution_count": 14,
   "metadata": {},
   "outputs": [],
   "source": [
    "dfNormalized = dfMoreWords.copy()\n",
    "dfNormalized[\"Respuesta\"] = dfNormalized['Respuesta'].apply(normalizeTokens)\n",
    "dfNormalized[\"Respuesta\"] = dfNormalized['Respuesta'].apply(verifyVoidElements)"
   ]
  },
  {
   "cell_type": "code",
   "execution_count": 15,
   "metadata": {},
   "outputs": [],
   "source": [
    "DataFinalFlujo1 = dfNormalized.copy()\n",
    "DataFinalFlujo1[\"Respuesta\"] = DataFinalFlujo1[\"Respuesta\"].apply(verifyStopWords)\n",
    "DataFinalFlujo1[\"Respuesta\"] = DataFinalFlujo1['Respuesta'].apply(verifyVoidElements)"
   ]
  },
  {
   "cell_type": "code",
   "execution_count": 16,
   "metadata": {},
   "outputs": [],
   "source": [
    "def verify_spacing_and_numbers(tokens):\n",
    "    for token in tokens:\n",
    "        if token.isalpha() == False:\n",
    "            tokens.pop(tokens.index(token))\n",
    "    return tokens\n",
    "\n",
    "DataFinalFlujo1[\"Respuesta\"] = DataFinalFlujo1['Respuesta'].apply(verify_spacing_and_numbers)\n",
    "DataFinalFlujo1[\"Respuesta\"] = DataFinalFlujo1['Respuesta'].apply(verify_spacing_and_numbers)\n",
    "DataFinalFlujo1[\"Respuesta\"] = DataFinalFlujo1['Respuesta'].apply(verify_spacing_and_numbers)"
   ]
  },
  {
   "cell_type": "code",
   "execution_count": 17,
   "metadata": {},
   "outputs": [],
   "source": [
    "def verify_(tokens):\n",
    "    for token in tokens:\n",
    "        if token.isalpha() == False:\n",
    "            print(token,tokens.index(token), len(token))\n",
    "    return tokens\n",
    "a = DataFinalFlujo1['Respuesta'].apply(verify_)"
   ]
  },
  {
   "cell_type": "code",
   "execution_count": 18,
   "metadata": {},
   "outputs": [
    {
     "data": {
      "text/plain": [
       "count    189038.000000\n",
       "mean          6.890773\n",
       "std           4.657309\n",
       "min           0.000000\n",
       "25%           4.000000\n",
       "50%           6.000000\n",
       "75%           8.000000\n",
       "max         161.000000\n",
       "Name: Respuesta, dtype: float64"
      ]
     },
     "execution_count": 18,
     "metadata": {},
     "output_type": "execute_result"
    }
   ],
   "source": [
    "DataFinalFlujo1[\"Respuesta\"].apply(len).describe()"
   ]
  },
  {
   "cell_type": "code",
   "execution_count": 19,
   "metadata": {},
   "outputs": [],
   "source": [
    "lemmaDiccionario = {}\n",
    "with open('Herramientas/lemma.txt', 'rb') as fichero:\n",
    "    datos = (fichero.read().decode('utf8').replace(u'\\r', u'').split(u'\\n'))\n",
    "    datos = ([avance.split(u'\\t') for avance in datos])\n",
    "for avance in datos:\n",
    "   if len(avance) >1:\n",
    "      lemmaDiccionario[avance[1]] = avance[0]\n",
    "        \n",
    "def lemmatize(word):\n",
    "   return lemmaDiccionario.get(word, word + u'')\n",
    "   \n",
    "def lemmatize_words(words):\n",
    "    new_words = []\n",
    "    for palabra in words:\n",
    "        new_word = lemmatize(palabra)\n",
    "        new_words.append(new_word)\n",
    "    return new_words"
   ]
  },
  {
   "cell_type": "code",
   "execution_count": 20,
   "metadata": {},
   "outputs": [],
   "source": [
    "DataFinalFlujo1[\"Respuesta\"] = DataFinalFlujo1[\"Respuesta\"].apply(lemmatize_words)"
   ]
  },
  {
   "cell_type": "code",
   "execution_count": 21,
   "metadata": {},
   "outputs": [
    {
     "data": {
      "text/plain": [
       "count    189038.000000\n",
       "mean          6.890773\n",
       "std           4.657309\n",
       "min           0.000000\n",
       "25%           4.000000\n",
       "50%           6.000000\n",
       "75%           8.000000\n",
       "max         161.000000\n",
       "Name: Respuesta, dtype: float64"
      ]
     },
     "execution_count": 21,
     "metadata": {},
     "output_type": "execute_result"
    }
   ],
   "source": [
    "largoRespuestas2 = DataFinalFlujo1[\"Respuesta\"].apply(len)\n",
    "largoRespuestas2.describe()"
   ]
  },
  {
   "cell_type": "code",
   "execution_count": 22,
   "metadata": {},
   "outputs": [],
   "source": [
    "dfMoreWords = DataFinalFlujo1.copy()\n",
    "dfMoreWords[\"Respuesta\"] = dfMoreWords['Respuesta'].apply(verifyVoidElements)\n",
    "dfMoreWords = dfMoreWords[dfMoreWords['Respuesta'].map(len) > 3]\n",
    "#dfMoreWords = dfMoreWords[dfMoreWords['Respuesta'].map(len) <= 15]\n",
    "dfMoreWords = dfMoreWords.dropna()"
   ]
  },
  {
   "cell_type": "code",
   "execution_count": 23,
   "metadata": {},
   "outputs": [],
   "source": [
    "def return10first(token):\n",
    "    if(len(token) > 10):\n",
    "        return token[0:10]\n",
    "    else:\n",
    "        return token\n",
    "dfMoreWords[\"Respuesta\"] = dfMoreWords[\"Respuesta\"].apply(return10first)"
   ]
  },
  {
   "cell_type": "code",
   "execution_count": 24,
   "metadata": {},
   "outputs": [
    {
     "data": {
      "text/plain": [
       "count    164889.000000\n",
       "mean          6.600792\n",
       "std           2.224210\n",
       "min           4.000000\n",
       "25%           5.000000\n",
       "50%           6.000000\n",
       "75%           9.000000\n",
       "max          10.000000\n",
       "Name: Respuesta, dtype: float64"
      ]
     },
     "execution_count": 24,
     "metadata": {},
     "output_type": "execute_result"
    }
   ],
   "source": [
    "largoRespuestas3 = dfMoreWords['Respuesta'].apply(len)\n",
    "largoRespuestas3.describe()"
   ]
  },
  {
   "cell_type": "code",
   "execution_count": 25,
   "metadata": {},
   "outputs": [
    {
     "data": {
      "text/plain": [
       "count    164889.000000\n",
       "mean          6.600792\n",
       "std           2.224210\n",
       "min           4.000000\n",
       "25%           5.000000\n",
       "50%           6.000000\n",
       "75%           9.000000\n",
       "max          10.000000\n",
       "Name: Respuesta, dtype: float64"
      ]
     },
     "execution_count": 25,
     "metadata": {},
     "output_type": "execute_result"
    }
   ],
   "source": [
    "largoRespuestas3 = dfMoreWords['Respuesta'].apply(len)\n",
    "largoRespuestas3.describe()"
   ]
  },
  {
   "cell_type": "code",
   "execution_count": 26,
   "metadata": {},
   "outputs": [
    {
     "data": {
      "text/plain": [
       "{'whiskers': [<matplotlib.lines.Line2D at 0x19069b2b518>,\n",
       "  <matplotlib.lines.Line2D at 0x19069b28518>],\n",
       " 'caps': [<matplotlib.lines.Line2D at 0x19069b2a860>,\n",
       "  <matplotlib.lines.Line2D at 0x19069b242b0>],\n",
       " 'boxes': [<matplotlib.lines.Line2D at 0x19069b33e10>],\n",
       " 'medians': [<matplotlib.lines.Line2D at 0x19069b260b8>],\n",
       " 'fliers': [<matplotlib.lines.Line2D at 0x19069b26908>],\n",
       " 'means': []}"
      ]
     },
     "execution_count": 26,
     "metadata": {},
     "output_type": "execute_result"
    },
    {
     "data": {
      "image/png": "[encoded data removed]",
      "text/plain": [
       "<Figure size 432x288 with 1 Axes>"
      ]
     },
     "metadata": {
      "needs_background": "light"
     },
     "output_type": "display_data"
    }
   ],
   "source": [
    "plt.subplots()\n",
    "dataToPlot = [largoRespuestas3]\n",
    "plt.boxplot(dataToPlot)"
   ]
  },
  {
   "cell_type": "markdown",
   "metadata": {},
   "source": [
    "#Fin Flujo 1"
   ]
  },
  {
   "cell_type": "code",
   "execution_count": 28,
   "metadata": {},
   "outputs": [],
   "source": [
    "max_quantity = 0\n",
    "for name, group in dfMoreWords.groupby(['Area','Dimension']):\n",
    "    if len(group)>max_quantity:\n",
    "        max_quantity = len(group)"
   ]
  },
  {
   "cell_type": "code",
   "execution_count": 29,
   "metadata": {},
   "outputs": [],
   "source": [
    "array_groups_to_remove = []\n",
    "for name, group in dfMoreWords.groupby(['Area','Dimension']):\n",
    "    if len(group) <= max_quantity/10:\n",
    "        array_groups_to_remove.append(name)"
   ]
  },
  {
   "cell_type": "code",
   "execution_count": 30,
   "metadata": {},
   "outputs": [],
   "source": [
    "def remove_categories_(row):\n",
    "    if((row['Area'], row['Dimension']) in array_groups_to_remove):\n",
    "        return \n",
    "    else:\n",
    "        return row\n",
    "    \n",
    "dfMoreWords = dfMoreWords.apply(remove_categories_, axis = 1)\n"
   ]
  },
  {
   "cell_type": "code",
   "execution_count": 31,
   "metadata": {},
   "outputs": [
    {
     "data": {
      "text/plain": [
       "Area                  Dimension                   \n",
       "Confianza General     Confianza General               11871\n",
       "Gobierno Corporativo  Anti-corrupción                  7067\n",
       "                      Integridad                       7231\n",
       "Medio Ambiente        Ambiental                        2128\n",
       "                      Cultura Ambiental               10840\n",
       "Social Externo        Calidad                          6722\n",
       "                      Cliente                          5801\n",
       "                      Comunicación                     3097\n",
       "                      Comunidad                        4957\n",
       "                      Educación                        1895\n",
       "                      Imagen                           6362\n",
       "                      Infraestructura                  1994\n",
       "                      Operación                        2085\n",
       "                      Proveedores                      2088\n",
       "                      Reclamos                         5914\n",
       "                      Recompra                        16131\n",
       "                      Salud & Seguridad                4297\n",
       "                      Trabajo                          1975\n",
       "                      Valor                            6145\n",
       "Social Interno        Compromiso                       5565\n",
       "                      Comunicación                     5663\n",
       "                      Diversidad e Inclusión           2602\n",
       "                      Empleados                       10019\n",
       "                      Entrenamiento y Desarrollo       6070\n",
       "                      Equilibrio Vida-Trabajo          5758\n",
       "                      Estructura de Compensaciones     6739\n",
       "                      Identidad Cultural               2591\n",
       "                      Salud & Seguridad                6335\n",
       "Name: Respuesta, dtype: int64"
      ]
     },
     "execution_count": 31,
     "metadata": {},
     "output_type": "execute_result"
    }
   ],
   "source": [
    "dfMoreWords.groupby(['Area','Dimension']).count().Respuesta"
   ]
  },
  {
   "cell_type": "code",
   "execution_count": 37,
   "metadata": {},
   "outputs": [],
   "source": [
    "dfMoreWords = dfMoreWords.dropna()"
   ]
  },
  {
   "cell_type": "code",
   "execution_count": 41,
   "metadata": {},
   "outputs": [],
   "source": [
    "dfMoreWords.to_csv(\"Data/Flujo1.csv\", sep=\";\", index=False)"
   ]
  }
 ],
 "metadata": {
  "kernelspec": {
   "display_name": "Python 3",
   "language": "python",
   "name": "python3"
  },
  "language_info": {
   "codemirror_mode": {
    "name": "ipython",
    "version": 3
   },
   "file_extension": ".py",
   "mimetype": "text/x-python",
   "name": "python",
   "nbconvert_exporter": "python",
   "pygments_lexer": "ipython3",
   "version": "3.7.3"
  }
 },
 "nbformat": 4,
 "nbformat_minor": 2
}
