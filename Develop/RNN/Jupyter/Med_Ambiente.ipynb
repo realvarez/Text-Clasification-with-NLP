{
 "cells": [
  {
   "cell_type": "code",
   "execution_count": 2,
   "metadata": {
    "colab": {
     "base_uri": "https://localhost:8080/",
     "height": 139
    },
    "colab_type": "code",
    "executionInfo": {
     "elapsed": 28754,
     "status": "ok",
     "timestamp": 1578495107082,
     "user": {
      "displayName": "Ricardo Alvarez",
      "photoUrl": "",
      "userId": "07173409030660719160"
     },
     "user_tz": 180
    },
    "id": "8hCVoVZKuPIF",
    "outputId": "60c0f76a-4802-4628-db5a-99b16a1bc203"
   },
   "outputs": [],
   "source": [
    "import numpy as np\n",
    "import pandas as pd\n",
    "import tensorflow as tf\n",
    "import ast, os\n",
    "import matplotlib.pyplot as plt\n",
    "from sklearn.model_selection import train_test_split, KFold\n",
    "from sklearn.metrics import plot_confusion_matrix, precision_recall_fscore_support\n",
    "from tensorflow.keras.preprocessing.sequence import pad_sequences\n",
    "from keras.models import model_from_yaml\n",
    "import matplotlib.colors as mcolors\n",
    "plt.rcParams[\"figure.figsize\"] = (10,10)\n",
    "numero = 2\n",
    "path = '../Salida/Flujo{num}/AMB/'.format(num = numero)"
   ]
  },
  {
   "cell_type": "code",
   "execution_count": 3,
   "metadata": {
    "colab": {},
    "colab_type": "code",
    "id": "vZ8U5PS8u0WL"
   },
   "outputs": [
    {
     "name": "stdout",
     "output_type": "stream",
     "text": [
      "Media 6506.0\n",
      "STD 4369.0\n",
      "Cant. datos 13012\n",
      "Cant. datos min  2137\n",
      "Cant. datos max  10875\n"
     ]
    }
   ],
   "source": [
    "def enumerate_dimensions(dimension, list_dimensions): \n",
    "    return list_dimensions.index(dimension)\n",
    "def wordsToNumbers(tokens, vocabulary):\n",
    "    number_array = []\n",
    "    for i in tokens:\n",
    "        number_array.append(vocabulary.index(i)+1)\n",
    "    return np.asarray(number_array)\n",
    "\n",
    "df = pd.read_csv('../../Data/Flujo{num}.csv'.format(num=numero), sep=\";\")\n",
    "df['Respuesta'] = df['Respuesta'].apply(ast.literal_eval)\n",
    "\n",
    "#Generamos un vocabulario de palabras\n",
    "vocabulary = []\n",
    "df['Respuesta'].apply(vocabulary.append)\n",
    "vocabulary = [item for sublist in vocabulary for item in sublist]\n",
    "vocabulary.append('')\n",
    "vocabulary = list(sorted(set(vocabulary)))\n",
    "vocab_len= len(vocabulary)+1\n",
    "\n",
    "# Se Construye Dataframe solo de medio ambiente\n",
    "df = df[df.Area == 'Medio Ambiente']\n",
    "# Lista de dimensiones se pasa a numeros\n",
    "list_dimensions = df.Dimension.unique().tolist()\n",
    "num_classes = len(list_dimensions)\n",
    "df['_dimension'] = df['Dimension'].apply(enumerate_dimensions, list_dimensions = list_dimensions)\n",
    "df['NumRespuesta'] = df.Respuesta.apply (wordsToNumbers, vocabulary = vocabulary)\n",
    "\n",
    "# Rellenamos las matrices con 0 para que todas tengan el mismo tamaño\n",
    "X_completo = pad_sequences(df.NumRespuesta, maxlen=10, dtype='object', padding='post', value = 0)\n",
    "y_completo = np.array(df['_dimension'])\n",
    "\n",
    "print('Media', np.array(df.groupby('_dimension').count().NumRespuesta).mean())\n",
    "print('STD', np.std(df.groupby('_dimension').count().NumRespuesta))\n",
    "print('Cant. datos', np.sum(df.groupby('_dimension').count().NumRespuesta))\n",
    "print('Cant. datos min ', np.min(df.groupby('_dimension').count().NumRespuesta))\n",
    "print('Cant. datos max ', np.max(df.groupby('_dimension').count().NumRespuesta))"
   ]
  },
  {
   "cell_type": "markdown",
   "metadata": {},
   "source": [
    "## Hiperparametrizacion de modelo"
   ]
  },
  {
   "cell_type": "markdown",
   "metadata": {
    "jupyter": {
     "outputs_hidden": true,
     "source_hidden": true
    }
   },
   "source": [
    "def gen_train_model(tensor_X, tensor_y, tensor_test_x, tensor_test_y, paramsEmbedding, paramsLSTM, num_clases, optimizer, batch_size, epoch):\n",
    "    model = tf.keras.Sequential()\n",
    "    model.add(tf.keras.layers.Embedding(input_dim = paramsEmbedding['input_dim'],  output_dim = paramsEmbedding['output_dim'], input_shape=(tensor_X.shape[1],)))\n",
    "    model.add(tf.keras.layers.LSTM(units = paramsLSTM['units'],\n",
    "                                   activation = paramsLSTM['activation'],\n",
    "                                   dropout = paramsLSTM['dropout'],\n",
    "                                   recurrent_dropout = paramsLSTM['recurrent_dropout']))\n",
    "    \n",
    "    model.add(tf.keras.layers.Dense(units = num_clases ,activation='softmax'))\n",
    "    \n",
    "    model.compile(optimizer=optimizer, loss='sparse_categorical_crossentropy', metrics=['sparse_categorical_accuracy'])\n",
    "    \n",
    "    history = model.fit(tensor_X,\n",
    "                        tensor_y,\n",
    "                        epochs = epoch,\n",
    "                        batch_size = batch_size,\n",
    "                        verbose = 0\n",
    "                       )\n",
    "    test_loss, test_acurracy = model.evaluate(tensor_test_x,\n",
    "                                              tensor_test_y,\n",
    "                                              verbose=0\n",
    "                                             )\n",
    "    \n",
    "    predictions = model.predict_classes(tensor_test_x)\n",
    "    medidas = precision_recall_fscore_support(tensor_test_y, predictions )\n",
    "    print(medidas[0])\n",
    "    return [test_acurracy, test_loss, medidas, paramsEmbedding, paramsLSTM, optimizer, batch_size, epoch]\n",
    "\n",
    "\n",
    "def grid_lstm(data_x, data_y, input_dim, output_dim_embe, units_lstm, activ_lstm, drop_lstm, rec_drop_lstm, num_clases, optimizers, batch_size_, epochs):\n",
    "    X, test_x, y, test_y = train_test_split(data_x, data_y, test_size = 0.1, random_state = 0)\n",
    "    tensor_X      = tf.convert_to_tensor(list(X))\n",
    "    tensor_test_x = tf.convert_to_tensor(list(test_x))\n",
    "    tensor_y      = tf.convert_to_tensor(list(y))\n",
    "    tensor_test_y = tf.convert_to_tensor(list(test_y))\n",
    "    resultados = []\n",
    "    for output_dim in output_dim_embe:\n",
    "        for units in units_lstm:\n",
    "            for activ in activ_lstm:\n",
    "                for drop in drop_lstm:\n",
    "                    for rec_drop in rec_drop_lstm:\n",
    "                        for optimizer in optimizers:\n",
    "                            for batch_size in batch_size_:\n",
    "                                for epoch in epochs:\n",
    "                                    resultados.append( gen_train_model(tensor_X, tensor_y, tensor_test_x, tensor_test_y,  {'input_dim': input_dim, 'output_dim':output_dim}, \n",
    "                                                    {'units':units,'activation':activ,'dropout':drop, 'recurrent_dropout':rec_drop},\n",
    "                                                   num_clases, optimizer, batch_size, epoch))\n",
    "    return resultados\n",
    "\n",
    "output = grid_lstm(data_x = X_completo,\n",
    "          data_y = y_completo,\n",
    "          input_dim = len(vocabulary)+1,\n",
    "          num_clases = len(list_dimensions),\n",
    "          output_dim_embe = [60,80,100,150,200,300],\n",
    "          units_lstm = [90, 110, 130, 150],\n",
    "          activ_lstm = ['tanh', 'sigmoid', 'relu','softmax'],\n",
    "          drop_lstm = [0.3,0.5,0.7],\n",
    "          rec_drop_lstm = [0.3,0.5,0.7],\n",
    "          optimizers = ['rmsprop','adam'],\n",
    "          batch_size_ = [20, 40],\n",
    "          epochs = [6,7,8]\n",
    "         )"
   ]
  },
  {
   "cell_type": "markdown",
   "metadata": {},
   "source": [
    "# K-Means"
   ]
  },
  {
   "cell_type": "code",
   "execution_count": 4,
   "metadata": {
    "colab": {
     "base_uri": "https://localhost:8080/",
     "height": 1000
    },
    "colab_type": "code",
    "collapsed": true,
    "executionInfo": {
     "elapsed": 378990,
     "status": "ok",
     "timestamp": 1578495764476,
     "user": {
      "displayName": "Ricardo Alvarez",
      "photoUrl": "",
      "userId": "07173409030660719160"
     },
     "user_tz": 180
    },
    "id": "X4cabbvSu4zv",
    "jupyter": {
     "outputs_hidden": true
    },
    "outputId": "de8d2f57-f7da-4b4c-cf33-a7a5a66d1c67"
   },
   "outputs": [
    {
     "ename": "KeyboardInterrupt",
     "evalue": "",
     "output_type": "error",
     "traceback": [
      "\u001b[0;31m\u001b[0m",
      "\u001b[0;31mKeyboardInterrupt\u001b[0mTraceback (most recent call last)",
      "\u001b[0;32m<ipython-input-4-ef1a8baf8046>\u001b[0m in \u001b[0;36m<module>\u001b[0;34m\u001b[0m\n\u001b[1;32m     28\u001b[0m                   \u001b[0mloss\u001b[0m\u001b[0;34m=\u001b[0m\u001b[0;34m'sparse_categorical_crossentropy'\u001b[0m\u001b[0;34m,\u001b[0m\u001b[0;34m\u001b[0m\u001b[0;34m\u001b[0m\u001b[0m\n\u001b[1;32m     29\u001b[0m                   metrics=['sparse_categorical_accuracy'])\n\u001b[0;32m---> 30\u001b[0;31m     history = model.fit(tensor_X,\n\u001b[0m\u001b[1;32m     31\u001b[0m                         \u001b[0mtensor_y\u001b[0m\u001b[0;34m,\u001b[0m\u001b[0;34m\u001b[0m\u001b[0;34m\u001b[0m\u001b[0m\n\u001b[1;32m     32\u001b[0m                         \u001b[0mepochs\u001b[0m \u001b[0;34m=\u001b[0m\u001b[0mepoch\u001b[0m\u001b[0;34m,\u001b[0m\u001b[0;34m\u001b[0m\u001b[0;34m\u001b[0m\u001b[0m\n",
      "\u001b[0;32m/opt/conda/lib/python3.8/site-packages/tensorflow/python/keras/engine/training.py\u001b[0m in \u001b[0;36m_method_wrapper\u001b[0;34m(self, *args, **kwargs)\u001b[0m\n\u001b[1;32m     63\u001b[0m   \u001b[0;32mdef\u001b[0m \u001b[0m_method_wrapper\u001b[0m\u001b[0;34m(\u001b[0m\u001b[0mself\u001b[0m\u001b[0;34m,\u001b[0m \u001b[0;34m*\u001b[0m\u001b[0margs\u001b[0m\u001b[0;34m,\u001b[0m \u001b[0;34m**\u001b[0m\u001b[0mkwargs\u001b[0m\u001b[0;34m)\u001b[0m\u001b[0;34m:\u001b[0m\u001b[0;34m\u001b[0m\u001b[0;34m\u001b[0m\u001b[0m\n\u001b[1;32m     64\u001b[0m     \u001b[0;32mif\u001b[0m \u001b[0;32mnot\u001b[0m \u001b[0mself\u001b[0m\u001b[0;34m.\u001b[0m\u001b[0m_in_multi_worker_mode\u001b[0m\u001b[0;34m(\u001b[0m\u001b[0;34m)\u001b[0m\u001b[0;34m:\u001b[0m  \u001b[0;31m# pylint: disable=protected-access\u001b[0m\u001b[0;34m\u001b[0m\u001b[0;34m\u001b[0m\u001b[0m\n\u001b[0;32m---> 65\u001b[0;31m       \u001b[0;32mreturn\u001b[0m \u001b[0mmethod\u001b[0m\u001b[0;34m(\u001b[0m\u001b[0mself\u001b[0m\u001b[0;34m,\u001b[0m \u001b[0;34m*\u001b[0m\u001b[0margs\u001b[0m\u001b[0;34m,\u001b[0m \u001b[0;34m**\u001b[0m\u001b[0mkwargs\u001b[0m\u001b[0;34m)\u001b[0m\u001b[0;34m\u001b[0m\u001b[0;34m\u001b[0m\u001b[0m\n\u001b[0m\u001b[1;32m     66\u001b[0m \u001b[0;34m\u001b[0m\u001b[0m\n\u001b[1;32m     67\u001b[0m     \u001b[0;31m# Running inside `run_distribute_coordinator` already.\u001b[0m\u001b[0;34m\u001b[0m\u001b[0;34m\u001b[0m\u001b[0;34m\u001b[0m\u001b[0m\n",
      "\u001b[0;32m/opt/conda/lib/python3.8/site-packages/tensorflow/python/keras/engine/training.py\u001b[0m in \u001b[0;36mfit\u001b[0;34m(self, x, y, batch_size, epochs, verbose, callbacks, validation_split, validation_data, shuffle, class_weight, sample_weight, initial_epoch, steps_per_epoch, validation_steps, validation_batch_size, validation_freq, max_queue_size, workers, use_multiprocessing, **kwargs)\u001b[0m\n\u001b[1;32m    781\u001b[0m                 batch_size=batch_size):\n\u001b[1;32m    782\u001b[0m               \u001b[0mcallbacks\u001b[0m\u001b[0;34m.\u001b[0m\u001b[0mon_train_batch_begin\u001b[0m\u001b[0;34m(\u001b[0m\u001b[0mstep\u001b[0m\u001b[0;34m)\u001b[0m\u001b[0;34m\u001b[0m\u001b[0;34m\u001b[0m\u001b[0m\n\u001b[0;32m--> 783\u001b[0;31m               \u001b[0mtmp_logs\u001b[0m \u001b[0;34m=\u001b[0m \u001b[0mtrain_function\u001b[0m\u001b[0;34m(\u001b[0m\u001b[0miterator\u001b[0m\u001b[0;34m)\u001b[0m\u001b[0;34m\u001b[0m\u001b[0;34m\u001b[0m\u001b[0m\n\u001b[0m\u001b[1;32m    784\u001b[0m               \u001b[0;31m# Catch OutOfRangeError for Datasets of unknown size.\u001b[0m\u001b[0;34m\u001b[0m\u001b[0;34m\u001b[0m\u001b[0;34m\u001b[0m\u001b[0m\n\u001b[1;32m    785\u001b[0m               \u001b[0;31m# This blocks until the batch has finished executing.\u001b[0m\u001b[0;34m\u001b[0m\u001b[0;34m\u001b[0m\u001b[0;34m\u001b[0m\u001b[0m\n",
      "\u001b[0;32m/opt/conda/lib/python3.8/site-packages/tensorflow/python/eager/def_function.py\u001b[0m in \u001b[0;36m__call__\u001b[0;34m(self, *args, **kwds)\u001b[0m\n\u001b[1;32m    578\u001b[0m         \u001b[0mxla_context\u001b[0m\u001b[0;34m.\u001b[0m\u001b[0mExit\u001b[0m\u001b[0;34m(\u001b[0m\u001b[0;34m)\u001b[0m\u001b[0;34m\u001b[0m\u001b[0;34m\u001b[0m\u001b[0m\n\u001b[1;32m    579\u001b[0m     \u001b[0;32melse\u001b[0m\u001b[0;34m:\u001b[0m\u001b[0;34m\u001b[0m\u001b[0;34m\u001b[0m\u001b[0m\n\u001b[0;32m--> 580\u001b[0;31m       \u001b[0mresult\u001b[0m \u001b[0;34m=\u001b[0m \u001b[0mself\u001b[0m\u001b[0;34m.\u001b[0m\u001b[0m_call\u001b[0m\u001b[0;34m(\u001b[0m\u001b[0;34m*\u001b[0m\u001b[0margs\u001b[0m\u001b[0;34m,\u001b[0m \u001b[0;34m**\u001b[0m\u001b[0mkwds\u001b[0m\u001b[0;34m)\u001b[0m\u001b[0;34m\u001b[0m\u001b[0;34m\u001b[0m\u001b[0m\n\u001b[0m\u001b[1;32m    581\u001b[0m \u001b[0;34m\u001b[0m\u001b[0m\n\u001b[1;32m    582\u001b[0m     \u001b[0;32mif\u001b[0m \u001b[0mtracing_count\u001b[0m \u001b[0;34m==\u001b[0m \u001b[0mself\u001b[0m\u001b[0;34m.\u001b[0m\u001b[0m_get_tracing_count\u001b[0m\u001b[0;34m(\u001b[0m\u001b[0;34m)\u001b[0m\u001b[0;34m:\u001b[0m\u001b[0;34m\u001b[0m\u001b[0;34m\u001b[0m\u001b[0m\n",
      "\u001b[0;32m/opt/conda/lib/python3.8/site-packages/tensorflow/python/eager/def_function.py\u001b[0m in \u001b[0;36m_call\u001b[0;34m(self, *args, **kwds)\u001b[0m\n\u001b[1;32m    609\u001b[0m       \u001b[0;31m# In this case we have created variables on the first call, so we run the\u001b[0m\u001b[0;34m\u001b[0m\u001b[0;34m\u001b[0m\u001b[0;34m\u001b[0m\u001b[0m\n\u001b[1;32m    610\u001b[0m       \u001b[0;31m# defunned version which is guaranteed to never create variables.\u001b[0m\u001b[0;34m\u001b[0m\u001b[0;34m\u001b[0m\u001b[0;34m\u001b[0m\u001b[0m\n\u001b[0;32m--> 611\u001b[0;31m       \u001b[0;32mreturn\u001b[0m \u001b[0mself\u001b[0m\u001b[0;34m.\u001b[0m\u001b[0m_stateless_fn\u001b[0m\u001b[0;34m(\u001b[0m\u001b[0;34m*\u001b[0m\u001b[0margs\u001b[0m\u001b[0;34m,\u001b[0m \u001b[0;34m**\u001b[0m\u001b[0mkwds\u001b[0m\u001b[0;34m)\u001b[0m  \u001b[0;31m# pylint: disable=not-callable\u001b[0m\u001b[0;34m\u001b[0m\u001b[0;34m\u001b[0m\u001b[0m\n\u001b[0m\u001b[1;32m    612\u001b[0m     \u001b[0;32melif\u001b[0m \u001b[0mself\u001b[0m\u001b[0;34m.\u001b[0m\u001b[0m_stateful_fn\u001b[0m \u001b[0;32mis\u001b[0m \u001b[0;32mnot\u001b[0m \u001b[0;32mNone\u001b[0m\u001b[0;34m:\u001b[0m\u001b[0;34m\u001b[0m\u001b[0;34m\u001b[0m\u001b[0m\n\u001b[1;32m    613\u001b[0m       \u001b[0;31m# Release the lock early so that multiple threads can perform the call\u001b[0m\u001b[0;34m\u001b[0m\u001b[0;34m\u001b[0m\u001b[0;34m\u001b[0m\u001b[0m\n",
      "\u001b[0;32m/opt/conda/lib/python3.8/site-packages/tensorflow/python/eager/function.py\u001b[0m in \u001b[0;36m__call__\u001b[0;34m(self, *args, **kwargs)\u001b[0m\n\u001b[1;32m   2418\u001b[0m     \u001b[0;32mwith\u001b[0m \u001b[0mself\u001b[0m\u001b[0;34m.\u001b[0m\u001b[0m_lock\u001b[0m\u001b[0;34m:\u001b[0m\u001b[0;34m\u001b[0m\u001b[0;34m\u001b[0m\u001b[0m\n\u001b[1;32m   2419\u001b[0m       \u001b[0mgraph_function\u001b[0m\u001b[0;34m,\u001b[0m \u001b[0margs\u001b[0m\u001b[0;34m,\u001b[0m \u001b[0mkwargs\u001b[0m \u001b[0;34m=\u001b[0m \u001b[0mself\u001b[0m\u001b[0;34m.\u001b[0m\u001b[0m_maybe_define_function\u001b[0m\u001b[0;34m(\u001b[0m\u001b[0margs\u001b[0m\u001b[0;34m,\u001b[0m \u001b[0mkwargs\u001b[0m\u001b[0;34m)\u001b[0m\u001b[0;34m\u001b[0m\u001b[0;34m\u001b[0m\u001b[0m\n\u001b[0;32m-> 2420\u001b[0;31m     \u001b[0;32mreturn\u001b[0m \u001b[0mgraph_function\u001b[0m\u001b[0;34m.\u001b[0m\u001b[0m_filtered_call\u001b[0m\u001b[0;34m(\u001b[0m\u001b[0margs\u001b[0m\u001b[0;34m,\u001b[0m \u001b[0mkwargs\u001b[0m\u001b[0;34m)\u001b[0m  \u001b[0;31m# pylint: disable=protected-access\u001b[0m\u001b[0;34m\u001b[0m\u001b[0;34m\u001b[0m\u001b[0m\n\u001b[0m\u001b[1;32m   2421\u001b[0m \u001b[0;34m\u001b[0m\u001b[0m\n\u001b[1;32m   2422\u001b[0m   \u001b[0;34m@\u001b[0m\u001b[0mproperty\u001b[0m\u001b[0;34m\u001b[0m\u001b[0;34m\u001b[0m\u001b[0m\n",
      "\u001b[0;32m/opt/conda/lib/python3.8/site-packages/tensorflow/python/eager/function.py\u001b[0m in \u001b[0;36m_filtered_call\u001b[0;34m(self, args, kwargs)\u001b[0m\n\u001b[1;32m   1659\u001b[0m       \u001b[0;31m`\u001b[0m\u001b[0margs\u001b[0m\u001b[0;31m`\u001b[0m \u001b[0;32mand\u001b[0m\u001b[0;31m \u001b[0m\u001b[0;31m`\u001b[0m\u001b[0mkwargs\u001b[0m\u001b[0;31m`\u001b[0m\u001b[0;34m.\u001b[0m\u001b[0;34m\u001b[0m\u001b[0;34m\u001b[0m\u001b[0m\n\u001b[1;32m   1660\u001b[0m     \"\"\"\n\u001b[0;32m-> 1661\u001b[0;31m     return self._call_flat(\n\u001b[0m\u001b[1;32m   1662\u001b[0m         (t for t in nest.flatten((args, kwargs), expand_composites=True)\n\u001b[1;32m   1663\u001b[0m          if isinstance(t, (ops.Tensor,\n",
      "\u001b[0;32m/opt/conda/lib/python3.8/site-packages/tensorflow/python/eager/function.py\u001b[0m in \u001b[0;36m_call_flat\u001b[0;34m(self, args, captured_inputs, cancellation_manager)\u001b[0m\n\u001b[1;32m   1743\u001b[0m         and executing_eagerly):\n\u001b[1;32m   1744\u001b[0m       \u001b[0;31m# No tape is watching; skip to running the function.\u001b[0m\u001b[0;34m\u001b[0m\u001b[0;34m\u001b[0m\u001b[0;34m\u001b[0m\u001b[0m\n\u001b[0;32m-> 1745\u001b[0;31m       return self._build_call_outputs(self._inference_function.call(\n\u001b[0m\u001b[1;32m   1746\u001b[0m           ctx, args, cancellation_manager=cancellation_manager))\n\u001b[1;32m   1747\u001b[0m     forward_backward = self._select_forward_and_backward_functions(\n",
      "\u001b[0;32m/opt/conda/lib/python3.8/site-packages/tensorflow/python/eager/function.py\u001b[0m in \u001b[0;36mcall\u001b[0;34m(self, ctx, args, cancellation_manager)\u001b[0m\n\u001b[1;32m    591\u001b[0m       \u001b[0;32mwith\u001b[0m \u001b[0m_InterpolateFunctionError\u001b[0m\u001b[0;34m(\u001b[0m\u001b[0mself\u001b[0m\u001b[0;34m)\u001b[0m\u001b[0;34m:\u001b[0m\u001b[0;34m\u001b[0m\u001b[0;34m\u001b[0m\u001b[0m\n\u001b[1;32m    592\u001b[0m         \u001b[0;32mif\u001b[0m \u001b[0mcancellation_manager\u001b[0m \u001b[0;32mis\u001b[0m \u001b[0;32mNone\u001b[0m\u001b[0;34m:\u001b[0m\u001b[0;34m\u001b[0m\u001b[0;34m\u001b[0m\u001b[0m\n\u001b[0;32m--> 593\u001b[0;31m           outputs = execute.execute(\n\u001b[0m\u001b[1;32m    594\u001b[0m               \u001b[0mstr\u001b[0m\u001b[0;34m(\u001b[0m\u001b[0mself\u001b[0m\u001b[0;34m.\u001b[0m\u001b[0msignature\u001b[0m\u001b[0;34m.\u001b[0m\u001b[0mname\u001b[0m\u001b[0;34m)\u001b[0m\u001b[0;34m,\u001b[0m\u001b[0;34m\u001b[0m\u001b[0;34m\u001b[0m\u001b[0m\n\u001b[1;32m    595\u001b[0m               \u001b[0mnum_outputs\u001b[0m\u001b[0;34m=\u001b[0m\u001b[0mself\u001b[0m\u001b[0;34m.\u001b[0m\u001b[0m_num_outputs\u001b[0m\u001b[0;34m,\u001b[0m\u001b[0;34m\u001b[0m\u001b[0;34m\u001b[0m\u001b[0m\n",
      "\u001b[0;32m/opt/conda/lib/python3.8/site-packages/tensorflow/python/eager/execute.py\u001b[0m in \u001b[0;36mquick_execute\u001b[0;34m(op_name, num_outputs, inputs, attrs, ctx, name)\u001b[0m\n\u001b[1;32m     57\u001b[0m   \u001b[0;32mtry\u001b[0m\u001b[0;34m:\u001b[0m\u001b[0;34m\u001b[0m\u001b[0;34m\u001b[0m\u001b[0m\n\u001b[1;32m     58\u001b[0m     \u001b[0mctx\u001b[0m\u001b[0;34m.\u001b[0m\u001b[0mensure_initialized\u001b[0m\u001b[0;34m(\u001b[0m\u001b[0;34m)\u001b[0m\u001b[0;34m\u001b[0m\u001b[0;34m\u001b[0m\u001b[0m\n\u001b[0;32m---> 59\u001b[0;31m     tensors = pywrap_tfe.TFE_Py_Execute(ctx._handle, device_name, op_name,\n\u001b[0m\u001b[1;32m     60\u001b[0m                                         inputs, attrs, num_outputs)\n\u001b[1;32m     61\u001b[0m   \u001b[0;32mexcept\u001b[0m \u001b[0mcore\u001b[0m\u001b[0;34m.\u001b[0m\u001b[0m_NotOkStatusException\u001b[0m \u001b[0;32mas\u001b[0m \u001b[0me\u001b[0m\u001b[0;34m:\u001b[0m\u001b[0;34m\u001b[0m\u001b[0;34m\u001b[0m\u001b[0m\n",
      "\u001b[0;31mKeyboardInterrupt\u001b[0m: "
     ]
    }
   ],
   "source": [
    "epoch = 8\n",
    "batch_size = 40\n",
    "optimizer = 'rmsprop'\n",
    "recurrent_dropout = 0.3 \n",
    "dropout = 0.5\n",
    "activation_lstm = 'tanh'\n",
    "lstm_units = 90\n",
    "ouput_dim_embedding = 60\n",
    "kf = KFold(n_splits = 10, shuffle = True, random_state = 2)\n",
    "resultados = []\n",
    "contador = 1\n",
    "for valores_entrenamiento, valores_testeo in kf.split(X_completo):\n",
    "    tensor_X      = tf.convert_to_tensor(list(X_completo[valores_entrenamiento]))\n",
    "    tensor_test_x = tf.convert_to_tensor(list(X_completo[valores_testeo]))\n",
    "    tensor_y      = tf.convert_to_tensor(list(y_completo[valores_entrenamiento]))\n",
    "    tensor_test_y = tf.convert_to_tensor(list(y_completo[valores_testeo]))\n",
    "    model = tf.keras.Sequential()\n",
    "    model.add(tf.keras.layers.Embedding(input_dim = vocab_len, \n",
    "                                        output_dim = ouput_dim_embedding,\n",
    "                                        input_shape=(X_completo.shape[1],)))\n",
    "    model.add(tf.keras.layers.LSTM(units=lstm_units,\n",
    "                                   activation=activation_lstm,\n",
    "                                   dropout = dropout,\n",
    "                                   recurrent_dropout = recurrent_dropout))\n",
    "    model.add(tf.keras.layers.Dense(units=num_classes,\n",
    "                                    activation='sigmoid'))\n",
    "    model.compile(optimizer = optimizer,\n",
    "                  loss='sparse_categorical_crossentropy',\n",
    "                  metrics=['sparse_categorical_accuracy'])\n",
    "    history = model.fit(tensor_X,\n",
    "                        tensor_y,\n",
    "                        epochs =epoch,\n",
    "                        batch_size=batch_size,\n",
    "                        verbose=0)\n",
    "    test_loss, test_acurracy = model.evaluate(tensor_test_x,\n",
    "                                              tensor_test_y,\n",
    "                                              verbose=0)\n",
    "    predictions = model.predict_classes(tensor_test_x)\n",
    "    medidas = precision_recall_fscore_support(tensor_test_y, predictions)\n",
    "    resultados.append([test_loss, test_acurracy, medidas])\n",
    "\n",
    "#model.save('../Modelos/Flujo2/model_amb.h5')"
   ]
  },
  {
   "cell_type": "code",
   "execution_count": 33,
   "metadata": {
    "colab": {
     "base_uri": "https://localhost:8080/",
     "height": 51
    },
    "colab_type": "code",
    "executionInfo": {
     "elapsed": 369410,
     "status": "ok",
     "timestamp": 1578495764481,
     "user": {
      "displayName": "Ricardo Alvarez",
      "photoUrl": "",
      "userId": "07173409030660719160"
     },
     "user_tz": 180
    },
    "id": "rkPDL7h3tEY_",
    "outputId": "bbf895e5-6e39-418c-9f59-720aae14dc0c"
   },
   "outputs": [
    {
     "name": "stdout",
     "output_type": "stream",
     "text": [
      "loss mean 0.264843125641346\n",
      "acurracy mean 0.898785412311554\n",
      "media precision 0.8304588074552728\n",
      "media recall 0.7781728697065385\n",
      "media fscore 0.7995073032227786\n",
      "media support 650.6\n"
     ]
    }
   ],
   "source": [
    "print(\"loss mean\",np.array([res[0] for res in resultados]).mean())\n",
    "print(\"acurracy mean\",np.array([res[1] for res in resultados]).mean())\n",
    "print(\"media precision\",np.array([np.array([res[2][0][i] for res in resultados]).mean() for i in range(num_classes)]).mean())\n",
    "print(\"media recall\",np.array([np.array([res[2][1][i] for res in resultados]).mean() for i in range(num_classes)]).mean())\n",
    "print(\"media fscore\",np.array([np.array([res[2][2][i] for res in resultados]).mean() for i in range(num_classes)]).mean())\n",
    "print(\"media support\",np.array([np.array([res[2][3][i] for res in resultados]).mean() for i in range(num_classes)]).mean())"
   ]
  },
  {
   "cell_type": "code",
   "execution_count": 8,
   "metadata": {},
   "outputs": [
    {
     "name": "stdout",
     "output_type": "stream",
     "text": [
      "WARNING:tensorflow:Error in loading the saved optimizer state. As a result, your model is starting with a freshly initialized optimizer.\n",
      "WARNING:tensorflow:From <ipython-input-8-82acb98df1f7>:3: Sequential.predict_classes (from tensorflow.python.keras.engine.sequential) is deprecated and will be removed after 2021-01-01.\n",
      "Instructions for updating:\n",
      "Please use instead:* `np.argmax(model.predict(x), axis=-1)`,   if your model does multi-class classification   (e.g. if it uses a `softmax` last-layer activation).* `(model.predict(x) > 0.5).astype(\"int32\")`,   if your model does binary classification   (e.g. if it uses a `sigmoid` last-layer activation).\n"
     ]
    },
    {
     "data": {
      "text/plain": [
       "<tf.Tensor: shape=(2, 2), dtype=int32, numpy=\n",
       "array([[ 135,   66],\n",
       "       [  20, 1081]], dtype=int32)>"
      ]
     },
     "execution_count": 8,
     "metadata": {},
     "output_type": "execute_result"
    }
   ],
   "source": [
    "model = tf.keras.models.load_model(path+'model_amb.h5')\n",
    "X_train, X_test, y_train, y_test = train_test_split(X_completo, y_completo, test_size=0.2, random_state=42)\n",
    "predictions = model.predict_classes(tensor_test_x)\n",
    "tf.math.confusion_matrix(tensor_test_y, predictions, num_classes=2, dtype=tf.dtypes.int32,name=None)"
   ]
  },
  {
   "cell_type": "code",
   "execution_count": 13,
   "metadata": {},
   "outputs": [],
   "source": [
    "tensor_X      = tf.convert_to_tensor(list(X_train))\n",
    "tensor_test_x = tf.convert_to_tensor(list(X_test))\n",
    "tensor_y      = tf.convert_to_tensor(list(y_train))\n",
    "tensor_test_y = tf.convert_to_tensor(list(y_test))"
   ]
  },
  {
   "cell_type": "code",
   "execution_count": 15,
   "metadata": {},
   "outputs": [
    {
     "data": {
      "image/png": "[encoded data removed]",
      "text/plain": [
       "<Figure size 720x720 with 1 Axes>"
      ]
     },
     "metadata": {
      "needs_background": "light"
     },
     "output_type": "display_data"
    }
   ],
   "source": [
    "plt.clf() \n",
    "from sklearn.preprocessing import label_binarize\n",
    "from sklearn.metrics import roc_curve, auc\n",
    "from itertools import cycle\n",
    "import matplotlib.colors as mcolors\n",
    "plt.rcParams[\"figure.figsize\"] = (10,10)\n",
    "\n",
    "y_test_bin = label_binarize(tensor_test_y, classes=range(num_classes))\n",
    "y_test_bin = np.array([(np.array([0, i[0]]) if 1 in i else np.array([1, i[0]])) for i in y_test_bin])\n",
    "y_predic_bin = model.predict(tensor_test_x)\n",
    "\n",
    "fpr = dict()\n",
    "tpr = dict()\n",
    "roc_auc = dict()\n",
    "for i in range(num_classes):\n",
    "    fpr[i], tpr[i], _ = roc_curve(y_test_bin[:, i], y_predic_bin[:, i])\n",
    "    roc_auc[i] = auc(fpr[i], tpr[i])\n",
    "    \n",
    "dict_colors = list(mcolors.TABLEAU_COLORS.keys()) + ['#000000','#800000', '#FF00FF','#000080', '#00FFFF']\n",
    "colors = cycle(dict_colors)\n",
    "for i, color in zip(range(num_classes), colors):\n",
    "    plt.plot(fpr[i], tpr[i], color=color, lw=1.5,\n",
    "             label='Curva ROC de clase {0} (area = {1:0.2f})'''.format(list_dimensions[i], roc_auc[i]))\n",
    "plt.plot([0, 1], [0, 1], 'k--', lw=1)\n",
    "plt.xlim([-0.05, 1.0])\n",
    "plt.ylim([0.0, 1.05])\n",
    "plt.xlabel('False Positive Rate')\n",
    "plt.ylabel('True Positive Rate')\n",
    "plt.title('Receiver operating characteristic for multi-class data')\n",
    "plt.legend(loc=\"lower right\")\n",
    "plt.savefig(path+\"ROC.png\")"
   ]
  },
  {
   "cell_type": "code",
   "execution_count": null,
   "metadata": {},
   "outputs": [],
   "source": []
  }
 ],
 "metadata": {
  "accelerator": "TPU",
  "colab": {
   "collapsed_sections": [],
   "name": "Medio Ambiente T",
   "provenance": []
  },
  "kernelspec": {
   "display_name": "Python 3",
   "language": "python",
   "name": "python3"
  },
  "language_info": {
   "codemirror_mode": {
    "name": "ipython",
    "version": 3
   },
   "file_extension": ".py",
   "mimetype": "text/x-python",
   "name": "python",
   "nbconvert_exporter": "python",
   "pygments_lexer": "ipython3",
   "version": "3.8.4"
  }
 },
 "nbformat": 4,
 "nbformat_minor": 4
}
