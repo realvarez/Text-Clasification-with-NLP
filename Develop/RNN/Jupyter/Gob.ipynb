{
 "cells": [
  {
   "cell_type": "code",
   "execution_count": 1,
   "metadata": {},
   "outputs": [],
   "source": [
    "import numpy as np\n",
    "import pandas as pd\n",
    "import tensorflow as tf\n",
    "import ast, os\n",
    "import matplotlib.pyplot as plt\n",
    "from sklearn.model_selection import train_test_split, KFold\n",
    "from sklearn.metrics import plot_confusion_matrix, precision_recall_fscore_support\n",
    "from tensorflow.keras.preprocessing.sequence import pad_sequences\n",
    "from keras.models import model_from_yaml\n",
    "import matplotlib.colors as mcolors\n",
    "plt.rcParams[\"figure.figsize\"] = (10,10)\n",
    "numero = 1\n",
    "path = '../Salida/Flujo{num}/AMB/'.format(num = numero)"
   ]
  },
  {
   "cell_type": "code",
   "execution_count": 7,
   "metadata": {},
   "outputs": [
    {
     "name": "stdout",
     "output_type": "stream",
     "text": [
      "2.4.3\n"
     ]
    }
   ],
   "source": [
    "import keras\n",
    "print(keras.__version__)"
   ]
  },
  {
   "cell_type": "code",
   "execution_count": 2,
   "metadata": {
    "colab": {},
    "colab_type": "code",
    "id": "ZTmdHUluDA8q"
   },
   "outputs": [
    {
     "name": "stdout",
     "output_type": "stream",
     "text": [
      "Media 7095.0\n",
      "STD 91.0\n",
      "Cant. datos 14190\n",
      "Cant. datos min  7004\n",
      "Cant. datos max  7186\n"
     ]
    }
   ],
   "source": [
    "def enumerate_dimensions(dimension, list_dimensions): \n",
    "    return list_dimensions.index(dimension)\n",
    "def wordsToNumbers(tokens, vocabulary):\n",
    "    number_array = []\n",
    "    for i in tokens:\n",
    "        number_array.append(vocabulary.index(i)+1)\n",
    "    return np.asarray(number_array)\n",
    "\n",
    "df = pd.read_csv('../../Data/Flujo{num}.csv'.format(num=numero), sep=\";\")\n",
    "df['Respuesta'] = df['Respuesta'].apply(ast.literal_eval)\n",
    "\n",
    "#Generamos un vocabulario de palabras\n",
    "vocabulary = []\n",
    "df['Respuesta'].apply(vocabulary.append)\n",
    "vocabulary = [item for sublist in vocabulary for item in sublist]\n",
    "vocabulary.append('')\n",
    "vocabulary = list(sorted(set(vocabulary)))\n",
    "vocab_len= len(vocabulary)+1\n",
    "\n",
    "# Se Construye Dataframe solo de medio ambiente\n",
    "df = df[df.Area == 'Gobierno Corporativo']\n",
    "# Lista de dimensiones se pasa a numeros\n",
    "list_dimensions = df.Dimension.unique().tolist()\n",
    "num_classes = len(list_dimensions)\n",
    "df['_dimension'] = df['Dimension'].apply(enumerate_dimensions, list_dimensions = list_dimensions)\n",
    "df['NumRespuesta'] = df.Respuesta.apply (wordsToNumbers, vocabulary = vocabulary)\n",
    "\n",
    "# Rellenamos las matrices con 0 para que todas tengan el mismo tamaño\n",
    "X_completo = pad_sequences(df.NumRespuesta, maxlen=10, dtype='object', padding='post', value = 0)\n",
    "y_completo = np.array(df['_dimension'])\n",
    "\n",
    "print('Media', np.array(df.groupby('_dimension').count().NumRespuesta).mean())\n",
    "print('STD', np.std(df.groupby('_dimension').count().NumRespuesta))\n",
    "print('Cant. datos', np.sum(df.groupby('_dimension').count().NumRespuesta))\n",
    "print('Cant. datos min ', np.min(df.groupby('_dimension').count().NumRespuesta))\n",
    "print('Cant. datos max ', np.max(df.groupby('_dimension').count().NumRespuesta))"
   ]
  },
  {
   "cell_type": "markdown",
   "metadata": {},
   "source": [
    "# Busqueda de Hyperparametros"
   ]
  },
  {
   "cell_type": "markdown",
   "metadata": {
    "jupyter": {
     "outputs_hidden": true,
     "source_hidden": true
    }
   },
   "source": [
    "def gen_train_model(tensor_X, tensor_y, tensor_test_x, tensor_test_y, paramsEmbedding, paramsLSTM, num_clases, optimizer, batch_size, epoch):\n",
    "    model = tf.keras.Sequential()\n",
    "    model.add(tf.keras.layers.Embedding(input_dim = paramsEmbedding['input_dim'],  output_dim = paramsEmbedding['output_dim'], input_shape=(tensor_X.shape[1],)))\n",
    "    model.add(tf.keras.layers.LSTM(units = paramsLSTM['units'],\n",
    "                                   activation = paramsLSTM['activation'],\n",
    "                                   dropout = paramsLSTM['dropout'],\n",
    "                                   recurrent_dropout = paramsLSTM['recurrent_dropout']))\n",
    "    \n",
    "    model.add(tf.keras.layers.Dense(units = num_clases ,activation='softmax'))\n",
    "    \n",
    "    model.compile(optimizer=optimizer, loss='sparse_categorical_crossentropy', metrics=['sparse_categorical_accuracy'])\n",
    "    \n",
    "    history = model.fit(tensor_X,\n",
    "                        tensor_y,\n",
    "                        epochs = epoch,\n",
    "                        batch_size = batch_size,\n",
    "                        verbose = 0\n",
    "                       )\n",
    "    test_loss, test_acurracy = model.evaluate(tensor_test_x,\n",
    "                                              tensor_test_y,\n",
    "                                              verbose=0\n",
    "                                             )\n",
    "    \n",
    "    predictions = model.predict_classes(tensor_test_x)\n",
    "    medidas = precision_recall_fscore_support(tensor_test_y, predictions )\n",
    "    print(medidas[0])\n",
    "    return [test_acurracy, test_loss, medidas, paramsEmbedding, paramsLSTM, optimizer, batch_size, epoch]\n",
    "\n",
    "\n",
    "def grid_lstm(data_x, data_y, input_dim, output_dim_embe, units_lstm, activ_lstm, drop_lstm, rec_drop_lstm, num_clases, optimizers, batch_size_, epochs):\n",
    "    X, test_x, y, test_y = train_test_split(data_x, data_y, test_size = 0.1, random_state = 0)\n",
    "    tensor_X      = tf.convert_to_tensor(list(X))\n",
    "    tensor_test_x = tf.convert_to_tensor(list(test_x))\n",
    "    tensor_y      = tf.convert_to_tensor(list(y))\n",
    "    tensor_test_y = tf.convert_to_tensor(list(test_y))\n",
    "    resultados = []\n",
    "    for output_dim in output_dim_embe:\n",
    "        for units in units_lstm:\n",
    "            for activ in activ_lstm:\n",
    "                for drop in drop_lstm:\n",
    "                    for rec_drop in rec_drop_lstm:\n",
    "                        for optimizer in optimizers:\n",
    "                            for batch_size in batch_size_:\n",
    "                                for epoch in epochs:\n",
    "                                    resultados.append( gen_train_model(tensor_X, tensor_y, tensor_test_x, tensor_test_y,  \n",
    "                                                                       {'output_dim':output_dim}, \n",
    "                                                                       {'units':units,'activation':activ,'dropout':drop, 'recurrent_dropout':rec_drop},\n",
    "                                                                       {'optimizador': optimizer, 'batch_size': batch_size, 'epoch': epoch}\n",
    "                                                                      )\n",
    "                                                     )\n",
    "    return resultados\n",
    "\n",
    "output = grid_lstm(data_x = X_completo,\n",
    "          data_y = y_completo,\n",
    "          input_dim = len(vocabulary)+1,\n",
    "          num_clases = len(list_dimensions),\n",
    "          output_dim_embe = [60],\n",
    "          units_lstm = [90, 130],\n",
    "          activ_lstm = ['tanh', 'sigmoid', 'relu','softmax'],\n",
    "          drop_lstm = [0.3,0.5,0.7],\n",
    "          rec_drop_lstm = [0.3,0.5,0.7],\n",
    "          optimizers = ['rmsprop','adam'],\n",
    "          batch_size_ = [20, 40],\n",
    "          epochs = [6,8]\n",
    "         )"
   ]
  },
  {
   "cell_type": "markdown",
   "metadata": {},
   "source": [
    "# K-means con parametros encontrados"
   ]
  },
  {
   "cell_type": "code",
   "execution_count": 6,
   "metadata": {},
   "outputs": [
    {
     "name": "stdout",
     "output_type": "stream",
     "text": [
      "Model: \"sequential_2\"\n",
      "_________________________________________________________________\n",
      "Layer (type)                 Output Shape              Param #   \n",
      "=================================================================\n",
      "embedding_2 (Embedding)      (None, 10, 60)            2074500   \n",
      "_________________________________________________________________\n",
      "lstm_2 (LSTM)                (None, 90)                54360     \n",
      "_________________________________________________________________\n",
      "dense_2 (Dense)              (None, 2)                 182       \n",
      "=================================================================\n",
      "Total params: 2,129,042\n",
      "Trainable params: 2,129,042\n",
      "Non-trainable params: 0\n",
      "_________________________________________________________________\n",
      "None\n"
     ]
    }
   ],
   "source": [
    "from keras.utils.vis_utils import plot_model\n",
    "\n",
    "epoch = 6\n",
    "batch_size = 40\n",
    "optimizer = 'rmsprop'\n",
    "recurrent_dropout = 0.5\n",
    "dropout = 0.7\n",
    "activation_lstm = 'relu'\n",
    "lstm_units = 90\n",
    "ouput_dim_embedding = 60\n",
    "\n",
    "kf = KFold(n_splits = 10, shuffle = True, random_state = 2)\n",
    "resultados = []\n",
    "contador = 1\n",
    "for valores_entrenamiento, valores_testeo in kf.split(X_completo):\n",
    "    tensor_X      = tf.convert_to_tensor(list(X_completo[valores_entrenamiento]))\n",
    "    tensor_test_x = tf.convert_to_tensor(list(X_completo[valores_testeo]))\n",
    "    tensor_y      = tf.convert_to_tensor(list(y_completo[valores_entrenamiento]))\n",
    "    tensor_test_y = tf.convert_to_tensor(list(y_completo[valores_testeo]))\n",
    "    \n",
    "    model = tf.keras.Sequential()\n",
    "    model.add(tf.keras.layers.Embedding(input_dim = vocab_len, \n",
    "                                        output_dim = ouput_dim_embedding,\n",
    "                                        input_shape=(X_completo.shape[1],)))\n",
    "    model.add(tf.keras.layers.LSTM(units=lstm_units,\n",
    "                                   activation=activation_lstm,\n",
    "                                   dropout = dropout,\n",
    "                                   recurrent_dropout = recurrent_dropout))\n",
    "    model.add(tf.keras.layers.Dense(units=num_classes,\n",
    "                                    activation='sigmoid'))\n",
    "    print(model.summary())\n",
    "    \n",
    "    plot_model(model, to_file='model_plot.png', show_shapes=True, show_layer_names=True)\n",
    "    \n",
    "    model.compile(optimizer = optimizer,\n",
    "                  loss='sparse_categorical_crossentropy',\n",
    "                  metrics=['sparse_categorical_accuracy'])\n",
    "    history = model.fit(tensor_X,\n",
    "                        tensor_y,\n",
    "                        epochs = epoch,\n",
    "                        batch_size = batch_size,\n",
    "                        verbose=0)\n",
    "    test_loss, test_acurracy = model.evaluate(tensor_test_x,\n",
    "                                              tensor_test_y,\n",
    "                                              verbose=0\n",
    "                                             )\n",
    "    predictions = model.predict_classes(tensor_test_x)\n",
    "    medidas = precision_recall_fscore_support(tensor_test_y, predictions)\n",
    "    resultados.append([test_loss, test_acurracy, medidas])\n",
    "    break\n",
    "#model.save('../Modelos/Flujo2/model_gob.h5')"
   ]
  },
  {
   "cell_type": "code",
   "execution_count": 17,
   "metadata": {},
   "outputs": [
    {
     "name": "stdout",
     "output_type": "stream",
     "text": [
      "loss mean 0.4719934523105621\n",
      "acurracy mean 0.785764628648758\n",
      "media precision 0.7880482844744214\n",
      "media recall 0.7852601941672266\n",
      "media fscore 0.784913291445861\n",
      "media support 709.5\n"
     ]
    }
   ],
   "source": [
    "print(\"loss mean\",np.array([res[0] for res in resultados]).mean())\n",
    "print(\"acurracy mean\",np.array([res[1] for res in resultados]).mean())\n",
    "print(\"media precision\",np.array([np.array([res[2][0][i] for res in resultados]).mean() for i in range(num_classes)]).mean())\n",
    "print(\"media recall\",np.array([np.array([res[2][1][i] for res in resultados]).mean() for i in range(num_classes)]).mean())\n",
    "print(\"media fscore\",np.array([np.array([res[2][2][i] for res in resultados]).mean() for i in range(num_classes)]).mean())\n",
    "print(\"media support\",np.array([np.array([res[2][3][i] for res in resultados]).mean() for i in range(num_classes)]).mean())"
   ]
  },
  {
   "cell_type": "code",
   "execution_count": 12,
   "metadata": {
    "colab": {
     "base_uri": "https://localhost:8080/",
     "height": 295
    },
    "colab_type": "code",
    "executionInfo": {
     "elapsed": 838,
     "status": "ok",
     "timestamp": 1575862083955,
     "user": {
      "displayName": "Ricardo Alvarez",
      "photoUrl": "",
      "userId": "07173409030660719160"
     },
     "user_tz": 180
    },
    "id": "A6A4Y7MeDA9X",
    "outputId": "3f7827a9-00ca-4a19-e997-56838a9a17c7"
   },
   "outputs": [
    {
     "data": {
      "image/png": "[encoded data removed]",
      "text/plain": [
       "<Figure size 720x720 with 1 Axes>"
      ]
     },
     "metadata": {
      "needs_background": "light"
     },
     "output_type": "display_data"
    }
   ],
   "source": [
    "plt.clf() \n",
    "from sklearn.preprocessing import label_binarize\n",
    "from sklearn.metrics import roc_curve, auc\n",
    "from itertools import cycle\n",
    "import matplotlib.colors as mcolors\n",
    "plt.rcParams[\"figure.figsize\"] = (10,10)\n",
    "\n",
    "y_test_bin = label_binarize(tensor_test_y, classes=range(num_classes))\n",
    "y_test_bin = np.array([(np.array([0, i[0]]) if 1 in i else np.array([1, i[0]])) for i in y_test_bin])\n",
    "y_predic_bin = model.predict(tensor_test_x)\n",
    "\n",
    "fpr = dict()\n",
    "tpr = dict()\n",
    "roc_auc = dict()\n",
    "for i in range(num_classes):\n",
    "    fpr[i], tpr[i], _ = roc_curve(y_test_bin[:, i], y_predic_bin[:, i])\n",
    "    roc_auc[i] = auc(fpr[i], tpr[i])\n",
    "    \n",
    "dict_colors = list(mcolors.TABLEAU_COLORS.keys()) + ['#000000','#800000', '#FF00FF','#000080', '#00FFFF']\n",
    "colors = cycle(dict_colors)\n",
    "for i, color in zip(range(num_classes), colors):\n",
    "    plt.plot(fpr[i], tpr[i], color=color, lw=1.5,\n",
    "             label='Curva ROC de clase {0} (area = {1:0.2f})'\n",
    "             ''.format(list_dimensions[i], roc_auc[i]))\n",
    "plt.plot([0, 1], [0, 1], 'k--', lw=1)\n",
    "plt.xlim([-0.05, 1.0])\n",
    "plt.ylim([0.0, 1.05])\n",
    "plt.xlabel('False Positive Rate')\n",
    "plt.ylabel('True Positive Rate')\n",
    "plt.title('Receiver operating characteristic for multi-class data')\n",
    "plt.legend(loc=\"lower right\")\n",
    "plt.savefig(path+\"ROC.png\")"
   ]
  }
 ],
 "metadata": {
  "accelerator": "GPU",
  "colab": {
   "collapsed_sections": [],
   "name": "Gobierno T",
   "provenance": [],
   "toc_visible": true
  },
  "kernelspec": {
   "display_name": "Python 3",
   "language": "python",
   "name": "python3"
  },
  "language_info": {
   "codemirror_mode": {
    "name": "ipython",
    "version": 3
   },
   "file_extension": ".py",
   "mimetype": "text/x-python",
   "name": "python",
   "nbconvert_exporter": "python",
   "pygments_lexer": "ipython3",
   "version": "3.8.4"
  }
 },
 "nbformat": 4,
 "nbformat_minor": 4
}
