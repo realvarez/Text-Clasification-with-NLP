{
 "cells": [
  {
   "cell_type": "code",
   "execution_count": 1,
   "metadata": {
    "colab": {
     "base_uri": "https://localhost:8080/",
     "height": 35
    },
    "colab_type": "code",
    "executionInfo": {
     "elapsed": 599,
     "status": "ok",
     "timestamp": 1577660193816,
     "user": {
      "displayName": "Ricardo Alvarez",
      "photoUrl": "",
      "userId": "07173409030660719160"
     },
     "user_tz": 180
    },
    "id": "tzrzQU-L0vDN",
    "outputId": "41589bbc-9270-475f-d244-c383608a15b0"
   },
   "outputs": [],
   "source": [
    "import pandas as pd\n",
    "import nltk\n",
    "import matplotlib.pyplot as plt\n",
    "import numpy as np\n",
    "import ast\n",
    "from gensim.models import Word2Vec,KeyedVectors\n",
    "from sklearn.ensemble import RandomForestClassifier\n",
    "from sklearn.model_selection import train_test_split, cross_val_score, KFold\n",
    "from sklearn.metrics import f1_score, accuracy_score, confusion_matrix, roc_auc_score, roc_curve\n",
    "from tensorflow.keras.preprocessing.sequence import pad_sequences\n",
    "from sklearn.metrics import plot_confusion_matrix, precision_recall_fscore_support\n",
    "import joblib\n",
    "plt.rcParams[\"figure.figsize\"] = (10,10)\n",
    "numero = 1\n",
    "path = '../Salida/Flujo{num}/AMB/'.format(num = numero)"
   ]
  },
  {
   "cell_type": "code",
   "execution_count": 2,
   "metadata": {},
   "outputs": [
    {
     "name": "stderr",
     "output_type": "stream",
     "text": [
      "<ipython-input-2-a4f730685fd4>:11: DeprecationWarning: Call to deprecated `__getitem__` (Method will be removed in 4.0.0, use self.wv.__getitem__() instead).\n",
      "  feature_vec = np.add(feature_vec,model[word])\n"
     ]
    }
   ],
   "source": [
    "def enumerate_dimensions(dimension, list_dimensions):\n",
    "    return list_dimensions.index(dimension)\n",
    "\n",
    "def make_feature_vec(words, model, num_features):\n",
    "    feature_vec = np.zeros((num_features,),dtype=\"float32\")\n",
    "    nwords = 0\n",
    "    index2word_set = set(model.wv.index2word)\n",
    "    for word in words:\n",
    "        if word in index2word_set: \n",
    "            nwords = nwords + 1\n",
    "            feature_vec = np.add(feature_vec,model[word])\n",
    "    feature_vec = np.divide(feature_vec, nwords)\n",
    "    return feature_vec\n",
    "\n",
    "def get_avg_feature_vecs(reviews, model, num_features):\n",
    "    counter = 0\n",
    "    review_feature_vecs = np.zeros((len(reviews),num_features), dtype='float32')\n",
    "    for review in reviews:\n",
    "        review_feature_vecs[counter] = make_feature_vec(review, model, num_features)\n",
    "        counter = counter + 1\n",
    "    return review_feature_vecs\n",
    "\n",
    "df = pd.read_csv('../../Data/Flujo{num}.csv'.format(num=numero), sep=\";\")\n",
    "model = Word2Vec.load('../../modelWord2vec_flujo{num}.bin'.format(num=numero))\n",
    "df = df[df.Area == 'Medio Ambiente']\n",
    "df['Respuesta'] = df['Respuesta'].apply(ast.literal_eval)\n",
    "list_dimensions = df.Dimension.unique().tolist()\n",
    "num_classes = len(list_dimensions)\n",
    "df['_dimension'] = df['Dimension'].apply(enumerate_dimensions, list_dimensions = list_dimensions)\n",
    "\n",
    "list_responses = np.array(df.Respuesta)\n",
    "list_dimensions = np.array(df._dimension)\n",
    "num_features = 10\n",
    "list_responses_vec = get_avg_feature_vecs(list_responses, model, num_features)"
   ]
  },
  {
   "cell_type": "code",
   "execution_count": 3,
   "metadata": {
    "colab": {
     "base_uri": "https://localhost:8080/",
     "height": 54
    },
    "colab_type": "code",
    "executionInfo": {
     "elapsed": 250574,
     "status": "ok",
     "timestamp": 1577659465804,
     "user": {
      "displayName": "Ricardo Alvarez",
      "photoUrl": "",
      "userId": "07173409030660719160"
     },
     "user_tz": 180
    },
    "id": "Toux1Ceo0vDy",
    "outputId": "f3ea42e8-5994-4eca-9a60-34c0005e93d3"
   },
   "outputs": [],
   "source": [
    "#forest = RandomForestClassifier(n_jobs=3, oob_score = True, max_depth=9, n_estimators=1000, bootstrap = True)\n",
    "#acc = cross_val_score(forest, list_responses_vec, list_dimensions, scoring='accuracy', cv=10)\n",
    "#print(acc.mean())"
   ]
  },
  {
   "cell_type": "code",
   "execution_count": 4,
   "metadata": {},
   "outputs": [
    {
     "name": "stdout",
     "output_type": "stream",
     "text": [
      "paso k\n",
      "paso k\n",
      "paso k\n",
      "paso k\n",
      "paso k\n",
      "paso k\n",
      "paso k\n",
      "paso k\n",
      "paso k\n",
      "paso k\n"
     ]
    },
    {
     "data": {
      "text/plain": [
       "['../Salida/Flujo2/AMB/model.pkl']"
      ]
     },
     "execution_count": 4,
     "metadata": {},
     "output_type": "execute_result"
    }
   ],
   "source": [
    "kf = KFold(n_splits = 10, shuffle = True, random_state = 2)\n",
    "resultados = []\n",
    "for valores_entrenamiento, valores_testeo in kf.split(list_responses_vec):\n",
    "    x_train = list_responses_vec[valores_entrenamiento]\n",
    "    x_test = list_responses_vec[valores_testeo]\n",
    "    y_train = list_dimensions[valores_entrenamiento]\n",
    "    y_test = list_dimensions[valores_testeo]\n",
    "    \n",
    "    forest = RandomForestClassifier(n_jobs=3, oob_score = True, max_depth=9, n_estimators=1000, bootstrap = True)\n",
    "    history = forest.fit(x_train , y_train)\n",
    "    predictions = forest.predict(x_test)\n",
    "    \n",
    "    score = accuracy_score(y_test ,predictions)\n",
    "    medidas = precision_recall_fscore_support(y_test, predictions)\n",
    "    resultados.append([score, medidas])   \n",
    "#joblib.dump(forest, '../Salida/Flujo{num}/AMB/model.pkl'.format(num=numero))"
   ]
  },
  {
   "cell_type": "code",
   "execution_count": 5,
   "metadata": {},
   "outputs": [
    {
     "name": "stdout",
     "output_type": "stream",
     "text": [
      "acurracy mean 0.8698888129301459\n",
      "media precision 0.7967639431986508\n",
      "media recall 0.6615564239090841\n",
      "media fscore 0.6977096938346603\n",
      "media support 650.6\n"
     ]
    }
   ],
   "source": [
    "print(\"acurracy mean\",np.array([res[0] for res in resultados]).mean())\n",
    "print(\"media precision\",np.array([np.array([res[1][0][i] for res in resultados]).mean() for i in range(num_classes)]).mean())\n",
    "print(\"media recall\",np.array([np.array([res[1][1][i] for res in resultados]).mean() for i in range(num_classes)]).mean())\n",
    "print(\"media fscore\",np.array([np.array([res[1][2][i] for res in resultados]).mean() for i in range(num_classes)]).mean())\n",
    "print(\"media support\",np.array([np.array([res[1][3][i] for res in resultados]).mean() for i in range(num_classes)]).mean())"
   ]
  },
  {
   "cell_type": "code",
   "execution_count": 6,
   "metadata": {
    "colab": {
     "base_uri": "https://localhost:8080/",
     "height": 295
    },
    "colab_type": "code",
    "executionInfo": {
     "elapsed": 1405,
     "status": "ok",
     "timestamp": 1577659486214,
     "user": {
      "displayName": "Ricardo Alvarez",
      "photoUrl": "",
      "userId": "07173409030660719160"
     },
     "user_tz": 180
    },
    "id": "N_ideZY-0vD1",
    "outputId": "6bfb1e51-89bc-4974-916a-b8ee76708f41"
   },
   "outputs": [
    {
     "data": {
      "image/png": "[encoded data removed]",
      "text/plain": [
       "<Figure size 720x720 with 1 Axes>"
      ]
     },
     "metadata": {
      "needs_background": "light"
     },
     "output_type": "display_data"
    }
   ],
   "source": [
    "probs = forest.predict_proba(x_test)[:, 1]\n",
    "fpr, tpr, _ = roc_curve(y_test, probs)\n",
    "auc = roc_auc_score(y_test, probs)\n",
    "plt.figure(1)\n",
    "plt.plot([0, 1], [0, 1], 'k--')\n",
    "plt.plot(fpr, tpr, label='AUC {:.3f}'.format(auc))\n",
    "plt.xlabel('False positive rate')\n",
    "plt.ylabel('True positive rate')\n",
    "plt.title('ROC curve')\n",
    "plt.legend(loc='best')\n",
    "plt.savefig(\"../Salida/Flujo{num}/AMB/ROC.png\".format(num=numero))"
   ]
  },
  {
   "cell_type": "code",
   "execution_count": null,
   "metadata": {},
   "outputs": [],
   "source": []
  }
 ],
 "metadata": {
  "colab": {
   "collapsed_sections": [],
   "name": "RF_Ambiente.ipynb",
   "provenance": []
  },
  "kernelspec": {
   "display_name": "Python 3",
   "language": "python",
   "name": "python3"
  },
  "language_info": {
   "codemirror_mode": {
    "name": "ipython",
    "version": 3
   },
   "file_extension": ".py",
   "mimetype": "text/x-python",
   "name": "python",
   "nbconvert_exporter": "python",
   "pygments_lexer": "ipython3",
   "version": "3.8.4"
  }
 },
 "nbformat": 4,
 "nbformat_minor": 4
}
