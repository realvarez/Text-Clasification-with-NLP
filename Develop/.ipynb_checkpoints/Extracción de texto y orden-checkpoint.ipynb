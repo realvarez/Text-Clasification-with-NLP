{
 "cells": [
  {
   "cell_type": "code",
   "execution_count": 1,
   "metadata": {},
   "outputs": [],
   "source": [
    "%config IPCompleter.greedy=True\n",
    "import pandas as pd\n",
    "import re, string, unicodedata\n",
    "import nltk"
   ]
  },
  {
   "cell_type": "code",
   "execution_count": 2,
   "metadata": {},
   "outputs": [],
   "source": [
    "arrayHeaders = [\"Area\", \"Dimension\", \"Respuesta\"]\n",
    "data = pd.read_csv(\"Data/example2.csv\", header= None, names = arrayHeaders)"
   ]
  },
  {
   "cell_type": "code",
   "execution_count": 3,
   "metadata": {},
   "outputs": [],
   "source": [
    "arrayAreas= []\n",
    "for area in data[\"Area\"]:\n",
    "    area = area.split('\\n')\n",
    "    area = area[2]\n",
    "    area = area.replace(':es: ','')\n",
    "    area = area.replace('\"','')\n",
    "    area = area.replace('\\r','')\n",
    "    arrayAreas.append(area)\n",
    "arrayAreas = pd.Series(arrayAreas)"
   ]
  },
  {
   "cell_type": "code",
   "execution_count": 4,
   "metadata": {},
   "outputs": [],
   "source": [
    "arrayDimensiones = []\n",
    "for dimension in data[\"Dimension\"]:\n",
    "    dimension = dimension.split('\\n')\n",
    "    dimension = dimension[2]\n",
    "    dimension = dimension.replace(':es: ','')\n",
    "    dimension = dimension.replace('\"','')\n",
    "    dimension = dimension.replace('\\r','')\n",
    "    arrayDimensiones.append(dimension)\n",
    "    \n",
    "arrayDimensiones = pd.Series(arrayDimensiones)"
   ]
  },
  {
   "cell_type": "code",
   "execution_count": 5,
   "metadata": {},
   "outputs": [],
   "source": [
    "posAnswers = []\n",
    "negAnswers = []\n",
    "\n",
    "for resp in data[\"Respuesta\"]:\n",
    "    resp = resp.split('\\n')\n",
    "    resp_pos = resp[2].replace('       positive: ','')\n",
    "    resp_pos = resp_pos.replace(\"'\",'')\n",
    "    resp_pos = resp_pos.replace('\\r','')\n",
    "    posAnswers.append(resp_pos)\n",
    "    if len(resp)==4:\n",
    "        resp_neg = resp[3].replace('       negative: ','')\n",
    "        resp_neg = resp_neg.replace(\"'\",'')\n",
    "        resp_neg = resp_neg.replace('\\r','')\n",
    "        negAnswers.append(resp_neg)\n",
    "    else:\n",
    "        negAnswers.append('')\n",
    "        \n",
    "posAnswers = pd.Series(posAnswers)\n",
    "negAnswers = pd.Series(negAnswers)"
   ]
  },
  {
   "cell_type": "code",
   "execution_count": 6,
   "metadata": {},
   "outputs": [],
   "source": [
    "concatenaciónPositivas = pd.concat([arrayAreas,arrayDimensiones, posAnswers], axis = 1)\n",
    "concatenaciónNegativas = pd.concat([arrayAreas,arrayDimensiones, negAnswers], axis = 1)\n"
   ]
  },
  {
   "cell_type": "code",
   "execution_count": 7,
   "metadata": {},
   "outputs": [],
   "source": [
    "df = pd.concat([concatenaciónPositivas,concatenaciónNegativas],ignore_index=True).rename(columns = pd.Series(arrayHeaders))\n",
    "def estadarizarDimensiones(token):\n",
    "    token = re.sub(\"Anticorrupción\", \"Anti-corrupción\", token)\n",
    "    token = re.sub(\"Anti-Corrupción\", \"Anti-corrupción\", token)\n",
    "    \n",
    "    token = re.sub(\"Comunidad \", \"\", token)\n",
    "    token = re.sub(\"Concesionario \", \"\", token)\n",
    "    token = re.sub(\"PEC \", \"\", token)\n",
    "    token = re.sub(\"Proveedores \", \"\", token)\n",
    "    token = re.sub(\"Compromiso \", \"\", token)\n",
    "    token = re.sub(\"Operadores \", \"\", token)\n",
    "    token = re.sub(\"Distribuidores \", \"\", token)\n",
    "    token = re.sub(\"Operador \", \"\", token)\n",
    "    \n",
    "    token = re.sub(\"Cult. Ambiental\", \"Cultura Ambiental\", token)\n",
    "    token = re.sub(\"Cult. Amb.\", \"Cultura Ambiental\", token)\n",
    "    token = re.sub(\"Medio Ambiente\", \"Cultura Ambiental\", token)\n",
    "\n",
    "    token = re.sub(\"Entrenamiento & Desarrollo\", \"Entrenamiento y Desarrollo\", token)\n",
    "\n",
    "    token = re.sub(\"Engagement\", \"Compromiso\", token)\n",
    "    \n",
    "    token = re.sub(\"Clientes\", \"Cliente\", token)\n",
    "    token = re.sub(\"Comunicación & Feedback\", \"Comunicación\", token)\n",
    "    \n",
    "    token = re.sub(\"Salud & Seguridad\", \"saludyseguridad\", token)\n",
    "    token = re.sub(\"Salud\", \"saludyseguridad\", token)\n",
    "    token = re.sub(\"Seguridad\", \"saludyseguridad\", token)\n",
    "    token = re.sub(\"saludyseguridad\", \"Salud & Seguridad\", token)\n",
    "\n",
    "    token = token.replace('(','')\n",
    "    token = token.replace(')','')\n",
    "    return token\n",
    "df[\"Dimension\"] = df[\"Dimension\"].apply(estadarizarDimensiones)\n",
    "#set(df.Dimension)"
   ]
  },
  {
   "cell_type": "code",
   "execution_count": 10,
   "metadata": {},
   "outputs": [
    {
     "data": {
      "text/plain": [
       "58"
      ]
     },
     "execution_count": 10,
     "metadata": {},
     "output_type": "execute_result"
    }
   ],
   "source": [
    "len(df.groupby(['Dimension']).count().Respuesta )"
   ]
  },
  {
   "cell_type": "code",
   "execution_count": 11,
   "metadata": {},
   "outputs": [
    {
     "data": {
      "text/plain": [
       "Area                  Dimension                   \n",
       "Confianza General     Confianza General               27700\n",
       "                      Información Adicional            2364\n",
       "                      Infraestructura                    48\n",
       "                      Innovación                       1446\n",
       "Gobierno Corporativo  Anti-corrupción                 28790\n",
       "                      Control Riesgos                    58\n",
       "                      Cultura Ambiental                  68\n",
       "                      Estrategia de Negocio             272\n",
       "                      Estructura Directorio              66\n",
       "                      Estructura Ejecutiva               22\n",
       "                      Grupo Investor                     66\n",
       "                      Integridad                      31096\n",
       "                      Investors Day                      18\n",
       "                      Legal                              26\n",
       "                      Transparencia Información          54\n",
       "                      Trato Accionistas                  42\n",
       "Medio Ambiente        Ambiental                        5862\n",
       "                      Cultura Ambiental               36872\n",
       "                      Políticas y Procedimientos         42\n",
       "Social Externo        Adaptación                         58\n",
       "                      Calidad                         21660\n",
       "                      Canales de Atención               388\n",
       "                      Cliente                         18602\n",
       "                      Compromiso                          6\n",
       "                      Comunicación                    10880\n",
       "                      Comunidad                       21926\n",
       "                      Educación                        5238\n",
       "                      Gestión Comercial                 452\n",
       "                      Imagen                          21180\n",
       "                      Impacto Social                     70\n",
       "                                                      ...  \n",
       "                      Pago                             5130\n",
       "                      Proveedores                      7968\n",
       "                      Reclamos                        19680\n",
       "                      Recompra                        34622\n",
       "                      Salud & Seguridad               12492\n",
       "                      Satisfacción                      628\n",
       "                      Selección                          10\n",
       "                      Servicio                          616\n",
       "                      Tecnología                         34\n",
       "                      Trabajo                          5270\n",
       "                      Valor                           20914\n",
       "Social Interno        Administración                     28\n",
       "                      Beneficios                         34\n",
       "                      Capacitación & Entrenamiento       34\n",
       "                      Compromiso                      14964\n",
       "                      Comunicación                    15856\n",
       "                      Desarrollo                         28\n",
       "                      Diversidad e Inclusión           9802\n",
       "                      Empleados                       29318\n",
       "                      Entrenamiento y Desarrollo      15796\n",
       "                      Equilibrio Vida-Trabajo         14112\n",
       "                      Estructura de Compensaciones    16788\n",
       "                      Identidad Cultural               9336\n",
       "                      Incentivos Monetarios              30\n",
       "                      Material & Equipos                 30\n",
       "                      Misión y Valores                   24\n",
       "                      Política Laboral                   24\n",
       "                      Reconocimiento                     30\n",
       "                      Renta Fija                         28\n",
       "                      Salud & Seguridad               19788\n",
       "Name: Respuesta, Length: 63, dtype: int64"
      ]
     },
     "execution_count": 11,
     "metadata": {},
     "output_type": "execute_result"
    }
   ],
   "source": [
    "df.groupby(['Area','Dimension']).count().Respuesta "
   ]
  },
  {
   "cell_type": "code",
   "execution_count": 9,
   "metadata": {},
   "outputs": [],
   "source": [
    "df.to_csv(\"Data/formattedData.csv\", sep=\";\", index=False)"
   ]
  }
 ],
 "metadata": {
  "kernelspec": {
   "display_name": "Python 3",
   "language": "python",
   "name": "python3"
  },
  "language_info": {
   "codemirror_mode": {
    "name": "ipython",
    "version": 3
   },
   "file_extension": ".py",
   "mimetype": "text/x-python",
   "name": "python",
   "nbconvert_exporter": "python",
   "pygments_lexer": "ipython3",
   "version": "3.7.4"
  }
 },
 "nbformat": 4,
 "nbformat_minor": 2
}
