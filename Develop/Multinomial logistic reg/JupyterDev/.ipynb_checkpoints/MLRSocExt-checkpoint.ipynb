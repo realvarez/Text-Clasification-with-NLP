{
 "cells": [
  {
   "cell_type": "code",
   "execution_count": 1,
   "metadata": {
    "colab": {
     "base_uri": "https://localhost:8080/",
     "height": 177
    },
    "colab_type": "code",
    "executionInfo": {
     "elapsed": 53562,
     "status": "ok",
     "timestamp": 1577670634143,
     "user": {
      "displayName": "Ricardo Alvarez",
      "photoUrl": "",
      "userId": "07173409030660719160"
     },
     "user_tz": 180
    },
    "id": "oh8nbQpG-TYS",
    "outputId": "56707b1c-0cc8-4c30-f366-3d3d59614cad"
   },
   "outputs": [],
   "source": [
    "import pandas as pd\n",
    "import nltk\n",
    "import matplotlib.pyplot as plt\n",
    "import numpy as np\n",
    "import ast\n",
    "from gensim.models import Word2Vec,KeyedVectors\n",
    "from sklearn.model_selection import train_test_split, cross_val_score, KFold\n",
    "from sklearn.metrics import f1_score, accuracy_score, confusion_matrix, roc_auc_score, roc_curve\n",
    "from tensorflow.keras.preprocessing.sequence import pad_sequences\n",
    "from sklearn.metrics import plot_confusion_matrix, precision_recall_fscore_support\n",
    "from sklearn.linear_model import LogisticRegression\n",
    "import joblib\n",
    "plt.rcParams[\"figure.figsize\"] = (10,10)\n",
    "numero = 1\n",
    "path = '../Salida/Flujo{num}/SOCE/'.format(num = numero)"
   ]
  },
  {
   "cell_type": "code",
   "execution_count": null,
   "metadata": {},
   "outputs": [
    {
     "name": "stderr",
     "output_type": "stream",
     "text": [
      "<ipython-input-2-fc75d1ddb6a3>:11: DeprecationWarning: Call to deprecated `__getitem__` (Method will be removed in 4.0.0, use self.wv.__getitem__() instead).\n",
      "  feature_vec = np.add(feature_vec,model[word])\n"
     ]
    }
   ],
   "source": [
    "def enumerate_dimensions(dimension, list_dimensions):\n",
    "    return list_dimensions.index(dimension)\n",
    "\n",
    "def make_feature_vec(words, model, num_features):\n",
    "    feature_vec = np.zeros((num_features,),dtype=\"float32\")\n",
    "    nwords = 0\n",
    "    index2word_set = set(model.wv.index2word)\n",
    "    for word in words:\n",
    "        if word in index2word_set: \n",
    "            nwords = nwords + 1\n",
    "            feature_vec = np.add(feature_vec,model[word])\n",
    "    feature_vec = np.divide(feature_vec, nwords)\n",
    "    return feature_vec\n",
    "\n",
    "def get_avg_feature_vecs(reviews, model, num_features):\n",
    "    counter = 0\n",
    "    review_feature_vecs = np.zeros((len(reviews),num_features), dtype='float32')\n",
    "    for review in reviews:\n",
    "        review_feature_vecs[counter] = make_feature_vec(review, model, num_features)\n",
    "        counter = counter + 1\n",
    "    return review_feature_vecs\n",
    "\n",
    "df = pd.read_csv('../../Data/Flujo{num}.csv'.format(num=numero), sep=\";\")\n",
    "model = Word2Vec.load('../../modelWord2vec_flujo{num}.bin'.format(num=numero))\n",
    "df = df[df.Area == 'Social Externo']\n",
    "df['Respuesta'] = df['Respuesta'].apply(ast.literal_eval)\n",
    "list_dimensions = df.Dimension.unique().tolist()\n",
    "num_classes = len(list_dimensions)\n",
    "df['_dimension'] = df['Dimension'].apply(enumerate_dimensions, list_dimensions = list_dimensions)\n",
    "\n",
    "list_responses = np.array(df.Respuesta)\n",
    "list_dimensions = np.array(df._dimension)\n",
    "num_features = 10\n",
    "list_responses_vec = get_avg_feature_vecs(list_responses, model, num_features)"
   ]
  },
  {
   "cell_type": "code",
   "execution_count": null,
   "metadata": {
    "colab": {
     "base_uri": "https://localhost:8080/",
     "height": 54
    },
    "colab_type": "code",
    "executionInfo": {
     "elapsed": 200045,
     "status": "ok",
     "timestamp": 1577670780648,
     "user": {
      "displayName": "Ricardo Alvarez",
      "photoUrl": "",
      "userId": "07173409030660719160"
     },
     "user_tz": 180
    },
    "id": "2F3P_Cx1-g2m",
    "outputId": "19fcc927-d8c6-4350-c0de-b5dc8a05b9aa"
   },
   "outputs": [],
   "source": [
    "kf = KFold(n_splits = 10, shuffle = True, random_state = 2)\n",
    "resultados = []\n",
    "for valores_entrenamiento, valores_testeo in kf.split(list_responses_vec):\n",
    "    x_train = list_responses_vec[valores_entrenamiento]\n",
    "    x_test = list_responses_vec[valores_testeo]\n",
    "    y_train = list_dimensions[valores_entrenamiento]\n",
    "    y_test = list_dimensions[valores_testeo]\n",
    "    \n",
    "    lr = LogisticRegression(solver= 'liblinear', )\n",
    "    history = lr.fit(x_train , y_train)\n",
    "    predictions = lr.predict(x_test)\n",
    "    \n",
    "    score = accuracy_score(y_test ,predictions)\n",
    "    medidas = precision_recall_fscore_support(y_test, predictions)\n",
    "    resultados.append([score, medidas])\n",
    "    \n",
    "joblib.dump(lr, path+'model.pkl'.format(num=numero))"
   ]
  },
  {
   "cell_type": "code",
   "execution_count": null,
   "metadata": {
    "colab": {
     "base_uri": "https://localhost:8080/",
     "height": 421
    },
    "colab_type": "code",
    "executionInfo": {
     "elapsed": 215136,
     "status": "ok",
     "timestamp": 1577670795749,
     "user": {
      "displayName": "Ricardo Alvarez",
      "photoUrl": "",
      "userId": "07173409030660719160"
     },
     "user_tz": 180
    },
    "id": "nPIFw6vY-gsi",
    "outputId": "12062f73-3150-43ef-ae80-cd4042abfad8"
   },
   "outputs": [],
   "source": [
    "print(\"acurracy mean\",np.array([res[0] for res in resultados]).mean())\n",
    "print(\"media precision\",np.array([np.array([res[1][0][i] for res in resultados]).mean() for i in range(num_classes)]).mean())\n",
    "print(\"media recall\",np.array([np.array([res[1][1][i] for res in resultados]).mean() for i in range(num_classes)]).mean())\n",
    "print(\"media fscore\",np.array([np.array([res[1][2][i] for res in resultados]).mean() for i in range(num_classes)]).mean())\n",
    "print(\"media support\",np.array([np.array([res[1][3][i] for res in resultados]).mean() for i in range(num_classes)]).mean())"
   ]
  },
  {
   "cell_type": "code",
   "execution_count": null,
   "metadata": {},
   "outputs": [],
   "source": [
    "plt.clf() \n",
    "from sklearn.preprocessing import label_binarize\n",
    "from sklearn.metrics import roc_curve, auc\n",
    "from itertools import cycle\n",
    "import matplotlib.colors as mcolors\n",
    "plt.rcParams[\"figure.figsize\"] = (10,10)\n",
    "\n",
    "y_test_bin = label_binarize(y_test, classes=range(num_classes))\n",
    "y_predic_bin = forest.predict_proba(x_test)\n",
    "\n",
    "fpr = dict()\n",
    "tpr = dict()\n",
    "roc_auc = dict()\n",
    "for i in range(num_classes):\n",
    "    fpr[i], tpr[i], _ = roc_curve(y_test_bin[:, i], y_predic_bin[:, i])\n",
    "    roc_auc[i] = auc(fpr[i], tpr[i])\n",
    "    \n",
    "dict_colors = list(mcolors.TABLEAU_COLORS.keys()) + ['#000000','#800000', '#FF00FF','#000080', '#00FFFF']\n",
    "colors = cycle(dict_colors)\n",
    "for i, color in zip(range(num_classes), colors):\n",
    "    plt.plot(fpr[i], tpr[i], color=color, lw=1.5,\n",
    "             label='Curva ROC de clase {0} (area = {1:0.2f})'\n",
    "             ''.format(list_dimensions[i], roc_auc[i]))\n",
    "plt.plot([0, 1], [0, 1], 'k--', lw=1)\n",
    "plt.xlim([-0.05, 1.0])\n",
    "plt.ylim([0.0, 1.05])\n",
    "plt.xlabel('False Positive Rate')\n",
    "plt.ylabel('True Positive Rate')\n",
    "plt.title('Receiver operating characteristic for multi-class data')\n",
    "plt.legend(loc=\"lower right\")\n",
    "plt.savefig(path+\"ROC.png\")"
   ]
  },
  {
   "cell_type": "code",
   "execution_count": null,
   "metadata": {},
   "outputs": [],
   "source": []
  }
 ],
 "metadata": {
  "colab": {
   "name": "MLRSocExt.ipynb",
   "provenance": []
  },
  "kernelspec": {
   "display_name": "Python 3",
   "language": "python",
   "name": "python3"
  },
  "language_info": {
   "codemirror_mode": {
    "name": "ipython",
    "version": 3
   },
   "file_extension": ".py",
   "mimetype": "text/x-python",
   "name": "python",
   "nbconvert_exporter": "python",
   "pygments_lexer": "ipython3",
   "version": "3.8.4"
  }
 },
 "nbformat": 4,
 "nbformat_minor": 4
}
