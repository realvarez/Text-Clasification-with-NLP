{
 "cells": [
  {
   "cell_type": "code",
   "execution_count": 8,
   "metadata": {
    "colab": {
     "base_uri": "https://localhost:8080/",
     "height": 35
    },
    "colab_type": "code",
    "executionInfo": {
     "elapsed": 538,
     "status": "ok",
     "timestamp": 1577663051765,
     "user": {
      "displayName": "Ricardo Alvarez",
      "photoUrl": "",
      "userId": "07173409030660719160"
     },
     "user_tz": 180
    },
    "id": "oh8nbQpG-TYS",
    "outputId": "1dece654-da34-4a8c-f6b3-511582d6c32d"
   },
   "outputs": [],
   "source": [
    "import pandas as pd\n",
    "import matplotlib.pyplot as plt\n",
    "import numpy as np\n",
    "import ast\n",
    "from gensim.models import Word2Vec,KeyedVectors\n",
    "from sklearn.model_selection import train_test_split, cross_val_score, KFold\n",
    "from sklearn.metrics import f1_score, accuracy_score, confusion_matrix, roc_auc_score, roc_curve\n",
    "from tensorflow.keras.preprocessing.sequence import pad_sequences\n",
    "from sklearn.metrics import plot_confusion_matrix, precision_recall_fscore_support\n",
    "from sklearn.linear_model import LogisticRegression\n",
    "import joblib\n",
    "plt.rcParams[\"figure.figsize\"] = (10,10)\n",
    "numero = 2\n",
    "path = '../Salida/Flujo{num}/AMB/'.format(num = numero)"
   ]
  },
  {
   "cell_type": "code",
   "execution_count": null,
   "metadata": {
    "colab": {
     "base_uri": "https://localhost:8080/",
     "height": 74
    },
    "colab_type": "code",
    "executionInfo": {
     "elapsed": 1343,
     "status": "ok",
     "timestamp": 1577663053482,
     "user": {
      "displayName": "Ricardo Alvarez",
      "photoUrl": "",
      "userId": "07173409030660719160"
     },
     "user_tz": 180
    },
    "id": "NaXm5NCQ-dpN",
    "outputId": "f3e6fdb3-9b48-453f-a9a7-0b056a82ea3a"
   },
   "outputs": [
    {
     "name": "stderr",
     "output_type": "stream",
     "text": [
      "<ipython-input-9-a4f730685fd4>:11: DeprecationWarning: Call to deprecated `__getitem__` (Method will be removed in 4.0.0, use self.wv.__getitem__() instead).\n",
      "  feature_vec = np.add(feature_vec,model[word])\n"
     ]
    }
   ],
   "source": [
    "def enumerate_dimensions(dimension, list_dimensions):\n",
    "    return list_dimensions.index(dimension)\n",
    "\n",
    "def make_feature_vec(words, model, num_features):\n",
    "    feature_vec = np.zeros((num_features,),dtype=\"float32\")\n",
    "    nwords = 0\n",
    "    index2word_set = set(model.wv.index2word)\n",
    "    for word in words:\n",
    "        if word in index2word_set: \n",
    "            nwords = nwords + 1\n",
    "            feature_vec = np.add(feature_vec,model[word])\n",
    "    feature_vec = np.divide(feature_vec, nwords)\n",
    "    return feature_vec\n",
    "\n",
    "def get_avg_feature_vecs(reviews, model, num_features):\n",
    "    counter = 0\n",
    "    review_feature_vecs = np.zeros((len(reviews),num_features), dtype='float32')\n",
    "    for review in reviews:\n",
    "        review_feature_vecs[counter] = make_feature_vec(review, model, num_features)\n",
    "        counter = counter + 1\n",
    "    return review_feature_vecs\n",
    "\n",
    "df = pd.read_csv('../../Data/Flujo{num}.csv'.format(num=numero), sep=\";\")\n",
    "model = Word2Vec.load('../../modelWord2vec_flujo{num}.bin'.format(num=numero))\n",
    "df = df[df.Area == 'Medio Ambiente']\n",
    "df['Respuesta'] = df['Respuesta'].apply(ast.literal_eval)\n",
    "list_dimensions = df.Dimension.unique().tolist()\n",
    "num_classes = len(list_dimensions)\n",
    "df['_dimension'] = df['Dimension'].apply(enumerate_dimensions, list_dimensions = list_dimensions)\n",
    "\n",
    "list_responses = np.array(df.Respuesta)\n",
    "list_dimensions = np.array(df._dimension)\n",
    "num_features = 10\n",
    "list_responses_vec = get_avg_feature_vecs(list_responses, model, num_features)"
   ]
  },
  {
   "cell_type": "code",
   "execution_count": null,
   "metadata": {
    "colab": {
     "base_uri": "https://localhost:8080/",
     "height": 54
    },
    "colab_type": "code",
    "executionInfo": {
     "elapsed": 27770,
     "status": "ok",
     "timestamp": 1577663081460,
     "user": {
      "displayName": "Ricardo Alvarez",
      "photoUrl": "",
      "userId": "07173409030660719160"
     },
     "user_tz": 180
    },
    "id": "2F3P_Cx1-g2m",
    "outputId": "af474b2d-bbf5-43e6-c982-4413b13e0d96"
   },
   "outputs": [],
   "source": [
    "kf = KFold(n_splits = 10, shuffle = True, random_state = 2)\n",
    "resultados = []\n",
    "for valores_entrenamiento, valores_testeo in kf.split(list_responses_vec):\n",
    "    x_train = list_responses_vec[valores_entrenamiento]\n",
    "    x_test = list_responses_vec[valores_testeo]\n",
    "    y_train = list_dimensions[valores_entrenamiento]\n",
    "    y_test = list_dimensions[valores_testeo]\n",
    "    \n",
    "    lr = LogisticRegression(solver= 'liblinear', )\n",
    "    history = lr.fit(x_train , y_train)\n",
    "    predictions = lr.predict(x_test)\n",
    "    \n",
    "    score = accuracy_score(y_test ,predictions)\n",
    "    medidas = precision_recall_fscore_support(y_test, predictions)\n",
    "    resultados.append([score, medidas])\n",
    "    \n",
    "joblib.dump(lr, path+'model.pkl'.format(num=numero))"
   ]
  },
  {
   "cell_type": "code",
   "execution_count": null,
   "metadata": {
    "colab": {
     "base_uri": "https://localhost:8080/",
     "height": 54
    },
    "colab_type": "code",
    "executionInfo": {
     "elapsed": 797,
     "status": "ok",
     "timestamp": 1577663082268,
     "user": {
      "displayName": "Ricardo Alvarez",
      "photoUrl": "",
      "userId": "07173409030660719160"
     },
     "user_tz": 180
    },
    "id": "nPIFw6vY-gsi",
    "outputId": "d8c1c211-276a-409e-d020-98399eb7f543"
   },
   "outputs": [],
   "source": [
    "print(\"acurracy mean\",np.array([res[0] for res in resultados]).mean())\n",
    "print(\"media precision\",np.array([np.array([res[1][0][i] for res in resultados]).mean() for i in range(num_classes)]).mean())\n",
    "print(\"media recall\",np.array([np.array([res[1][1][i] for res in resultados]).mean() for i in range(num_classes)]).mean())\n",
    "print(\"media fscore\",np.array([np.array([res[1][2][i] for res in resultados]).mean() for i in range(num_classes)]).mean())\n",
    "print(\"media support\",np.array([np.array([res[1][3][i] for res in resultados]).mean() for i in range(num_classes)]).mean())"
   ]
  },
  {
   "cell_type": "code",
   "execution_count": 7,
   "metadata": {
    "colab": {
     "base_uri": "https://localhost:8080/",
     "height": 201
    },
    "colab_type": "code",
    "executionInfo": {
     "elapsed": 1029,
     "status": "ok",
     "timestamp": 1577663082512,
     "user": {
      "displayName": "Ricardo Alvarez",
      "photoUrl": "",
      "userId": "07173409030660719160"
     },
     "user_tz": 180
    },
    "id": "NxI8gzJi-gpy",
    "outputId": "f20bde2f-4b25-4cd6-e763-dbf965a698ee"
   },
   "outputs": [
    {
     "data": {
      "image/png": "[encoded data removed]",
      "text/plain": [
       "<Figure size 720x720 with 1 Axes>"
      ]
     },
     "metadata": {
      "needs_background": "light"
     },
     "output_type": "display_data"
    }
   ],
   "source": [
    "probs = lr.predict_proba(x_test)[:, 1]\n",
    "fpr, tpr, _ = roc_curve(y_test, probs)\n",
    "auc = roc_auc_score(y_test, probs)\n",
    "plt.figure(1)\n",
    "plt.plot([0, 1], [0, 1], 'k--')\n",
    "plt.plot(fpr, tpr, label='AUC {:.3f}'.format(auc))\n",
    "plt.xlabel('False positive rate')\n",
    "plt.ylabel('True positive rate')\n",
    "plt.title('ROC curve')\n",
    "plt.legend(loc='best')\n",
    "plt.savefig(path+\"ROC.png\")"
   ]
  },
  {
   "cell_type": "code",
   "execution_count": null,
   "metadata": {},
   "outputs": [],
   "source": []
  }
 ],
 "metadata": {
  "colab": {
   "name": "MLRMedioAmbiente.ipynb",
   "provenance": []
  },
  "kernelspec": {
   "display_name": "Python 3",
   "language": "python",
   "name": "python3"
  },
  "language_info": {
   "codemirror_mode": {
    "name": "ipython",
    "version": 3
   },
   "file_extension": ".py",
   "mimetype": "text/x-python",
   "name": "python",
   "nbconvert_exporter": "python",
   "pygments_lexer": "ipython3",
   "version": "3.8.4"
  }
 },
 "nbformat": 4,
 "nbformat_minor": 4
}
