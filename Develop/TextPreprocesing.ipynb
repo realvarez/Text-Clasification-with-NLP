{
 "cells": [
  {
   "cell_type": "code",
   "execution_count": 2,
   "metadata": {},
   "outputs": [],
   "source": [
    "%config IPCompleter.greedy=True\n",
    "import pandas as pd\n",
    "import re,nltk, string, unicodedata\n",
    "import matplotlib.pyplot as plt\n",
    "from nltk import word_tokenize, sent_tokenize\n",
    "from nltk.corpus import stopwords\n",
    "from nltk.stem import SnowballStemmer\n",
    "pd.set_option('display.max_colwidth', None)\n",
    "pd.options.display.max_rows = 500\n",
    "df = pd.read_csv(\"Data/formattedData.csv\", sep=\";\").dropna()\n",
    "df = df[df['Area']!= 'Confianza General']"
   ]
  },
  {
   "cell_type": "code",
   "execution_count": 3,
   "metadata": {},
   "outputs": [],
   "source": [
    "dfSntTok = df\n",
    "dfSntTok[\"Respuesta\"] = dfSntTok[\"Respuesta\"].apply(nltk.sent_tokenize)\n",
    "dfSntTok = dfSntTok[dfSntTok['Respuesta'].apply(len) >= 1].dropna()\n",
    "arrayExterno = []\n",
    "def separeSentences(row):\n",
    "    if type(row['Respuesta']) != str:\n",
    "        if len(row['Respuesta']) == 1:\n",
    "            row['Respuesta'] = row['Respuesta'][0]\n",
    "            return row\n",
    "        else:\n",
    "            area = row['Area']\n",
    "            dimension = row['Dimension']\n",
    "            for sent in row['Respuesta']:\n",
    "                tempArray = []\n",
    "                tempArray.append(area)    \n",
    "                tempArray.append(dimension)\n",
    "                tempArray.append(sent)\n",
    "                arrayExterno.append(tempArray)\n",
    "            row['Respuesta'] = \"\"\n",
    "            return row\n",
    "    else:\n",
    "        return row\n",
    "\n",
    "dfSntTok = dfSntTok.apply(separeSentences, axis = 1).copy()\n",
    "dfSntTok = pd.concat([dfSntTok,\n",
    "                      pd.DataFrame(arrayExterno, columns=[\"Area\", \"Dimension\", \"Respuesta\"])],ignore_index=True).dropna()"
   ]
  },
  {
   "cell_type": "code",
   "execution_count": 4,
   "metadata": {},
   "outputs": [],
   "source": [
    "# df_aux = dfSntTok.copy()\n",
    "# df_aux['Dimension'] = df_aux.Dimension.apply(lambda x: list_dim.index(x))\n",
    "# df_aux.groupby(['Area', 'Dimension']).count().to_csv('count.csv')"
   ]
  },
  {
   "cell_type": "code",
   "execution_count": 34,
   "metadata": {},
   "outputs": [
    {
     "data": {
      "text/html": [
       "<div>\n",
       "<style scoped>\n",
       "    .dataframe tbody tr th:only-of-type {\n",
       "        vertical-align: middle;\n",
       "    }\n",
       "\n",
       "    .dataframe tbody tr th {\n",
       "        vertical-align: top;\n",
       "    }\n",
       "\n",
       "    .dataframe thead th {\n",
       "        text-align: right;\n",
       "    }\n",
       "</style>\n",
       "<table border=\"1\" class=\"dataframe\">\n",
       "  <thead>\n",
       "    <tr style=\"text-align: right;\">\n",
       "      <th></th>\n",
       "      <th>Area</th>\n",
       "      <th>Dimension</th>\n",
       "      <th>Respuesta</th>\n",
       "    </tr>\n",
       "  </thead>\n",
       "  <tbody>\n",
       "    <tr>\n",
       "      <th>293909</th>\n",
       "      <td>Gobierno Corporativo</td>\n",
       "      <td>Integridad</td>\n",
       "      <td>[He tenido personas que me atendieron bien, como otras que fueron irrespetuosas]</td>\n",
       "    </tr>\n",
       "    <tr>\n",
       "      <th>293910</th>\n",
       "      <td>Gobierno Corporativo</td>\n",
       "      <td>Integridad</td>\n",
       "      <td>[He tenido un caso que me decepciono, el resto todo muy bien.]</td>\n",
       "    </tr>\n",
       "    <tr>\n",
       "      <th>293911</th>\n",
       "      <td>Gobierno Corporativo</td>\n",
       "      <td>Integridad</td>\n",
       "      <td>[He visto comentarios con lo que considero es una falta de respeto de jefes a subordinados., No es mí caso personal.]</td>\n",
       "    </tr>\n",
       "    <tr>\n",
       "      <th>293912</th>\n",
       "      <td>Gobierno Corporativo</td>\n",
       "      <td>Integridad</td>\n",
       "      <td>[He visto como empleados de la empresa sacan insumos o materiales de la empresa sin autorización]</td>\n",
       "    </tr>\n",
       "    <tr>\n",
       "      <th>293913</th>\n",
       "      <td>Gobierno Corporativo</td>\n",
       "      <td>Integridad</td>\n",
       "      <td>[he visto cosas muy malas, hay un mal trato, producto del stress o nos estamos olvidando de ser personas.]</td>\n",
       "    </tr>\n",
       "    <tr>\n",
       "      <th>...</th>\n",
       "      <td>...</td>\n",
       "      <td>...</td>\n",
       "      <td>...</td>\n",
       "    </tr>\n",
       "    <tr>\n",
       "      <th>302492</th>\n",
       "      <td>Gobierno Corporativo</td>\n",
       "      <td>Integridad</td>\n",
       "      <td>[Alguna vez alguna discusión]</td>\n",
       "    </tr>\n",
       "    <tr>\n",
       "      <th>302494</th>\n",
       "      <td>Gobierno Corporativo</td>\n",
       "      <td>Integridad</td>\n",
       "      <td>[Inclusión en algunas actividades sociales y recreativas]</td>\n",
       "    </tr>\n",
       "    <tr>\n",
       "      <th>302506</th>\n",
       "      <td>Gobierno Corporativo</td>\n",
       "      <td>Integridad</td>\n",
       "      <td>[no tengo comentarios]</td>\n",
       "    </tr>\n",
       "    <tr>\n",
       "      <th>302509</th>\n",
       "      <td>Gobierno Corporativo</td>\n",
       "      <td>Integridad</td>\n",
       "      <td>[NO HAY]</td>\n",
       "    </tr>\n",
       "    <tr>\n",
       "      <th>302512</th>\n",
       "      <td>Gobierno Corporativo</td>\n",
       "      <td>Integridad</td>\n",
       "      <td>[mejorar la cercania]</td>\n",
       "    </tr>\n",
       "  </tbody>\n",
       "</table>\n",
       "<p>3874 rows × 3 columns</p>\n",
       "</div>"
      ],
      "text/plain": [
       "                        Area   Dimension  \\\n",
       "293909  Gobierno Corporativo  Integridad   \n",
       "293910  Gobierno Corporativo  Integridad   \n",
       "293911  Gobierno Corporativo  Integridad   \n",
       "293912  Gobierno Corporativo  Integridad   \n",
       "293913  Gobierno Corporativo  Integridad   \n",
       "...                      ...         ...   \n",
       "302492  Gobierno Corporativo  Integridad   \n",
       "302494  Gobierno Corporativo  Integridad   \n",
       "302506  Gobierno Corporativo  Integridad   \n",
       "302509  Gobierno Corporativo  Integridad   \n",
       "302512  Gobierno Corporativo  Integridad   \n",
       "\n",
       "                                                                                                                    Respuesta  \n",
       "293909                                       [He tenido personas que me atendieron bien, como otras que fueron irrespetuosas]  \n",
       "293910                                                         [He tenido un caso que me decepciono, el resto todo muy bien.]  \n",
       "293911  [He visto comentarios con lo que considero es una falta de respeto de jefes a subordinados., No es mí caso personal.]  \n",
       "293912                      [He visto como empleados de la empresa sacan insumos o materiales de la empresa sin autorización]  \n",
       "293913             [he visto cosas muy malas, hay un mal trato, producto del stress o nos estamos olvidando de ser personas.]  \n",
       "...                                                                                                                       ...  \n",
       "302492                                                                                          [Alguna vez alguna discusión]  \n",
       "302494                                                              [Inclusión en algunas actividades sociales y recreativas]  \n",
       "302506                                                                                                 [no tengo comentarios]  \n",
       "302509                                                                                                               [NO HAY]  \n",
       "302512                                                                                                  [mejorar la cercania]  \n",
       "\n",
       "[3874 rows x 3 columns]"
      ]
     },
     "execution_count": 34,
     "metadata": {},
     "output_type": "execute_result"
    }
   ],
   "source": [
    "df[df.Area  == \"Gobierno Corporativo\"][21392+10000:21392+100010]#['Dimension']"
   ]
  },
  {
   "cell_type": "code",
   "execution_count": null,
   "metadata": {},
   "outputs": [],
   "source": []
  },
  {
   "cell_type": "code",
   "execution_count": 5,
   "metadata": {},
   "outputs": [],
   "source": [
    "def normalizeText(tokens):\n",
    "    tokens = tokens.replace(r'_', r'').replace(r'¨¢', r'a').replace(r'¨¦',r'e').replace(r'¨ª', r'i')\\\n",
    "        .replace(r'¨²', r'u').replace(r'¨®', r'o').replace(r'?', r'n').replace(r'á', r'a')\\\n",
    "        .replace(r'é',r'e').replace(r'í', r'i').replace(r'ó', r'o').replace(r'ú', r'u').replace(r'ñ', r'n')\\\n",
    "        .replace('Á', r'A').replace(r'É',r'E').replace(r'Í', r'I').replace(r'Ó', r'O').replace(r'Ú', r'U')\\\n",
    "        .replace(r'Ñ', r'N')\n",
    "    tokens = re.sub(r'[^\\w\\s ÑñáéíóúÁÉÍÓÚ]', '', tokens)\n",
    "    tokens = re.sub('\\d','',tokens)\n",
    "    return tokens.lower()\n",
    "\n",
    "stop = stopwords.words('spanish')\n",
    "def removeStopWords(tokens, stopword):\n",
    "    new_ = []\n",
    "    for token in tokens:\n",
    "        if token not in stopword and token not in ['etc']:\n",
    "            new_.append(token)\n",
    "    return new_\n",
    "\n",
    "dfNorm = dfSntTok.copy()\n",
    "dfNorm[\"Respuesta\"] = dfNorm[\"Respuesta\"].apply(normalizeText)"
   ]
  },
  {
   "cell_type": "code",
   "execution_count": 6,
   "metadata": {},
   "outputs": [],
   "source": [
    "dfNorm[\"Respuesta\"] = dfNorm[\"Respuesta\"].apply(nltk.word_tokenize)"
   ]
  },
  {
   "cell_type": "code",
   "execution_count": 7,
   "metadata": {},
   "outputs": [
    {
     "data": {
      "text/plain": [
       "{'whiskers': [<matplotlib.lines.Line2D at 0x7f1d62e13250>,\n",
       "  <matplotlib.lines.Line2D at 0x7f1d60890eb0>],\n",
       " 'caps': [<matplotlib.lines.Line2D at 0x7f1d644a1310>,\n",
       "  <matplotlib.lines.Line2D at 0x7f1d644a16a0>],\n",
       " 'boxes': [<matplotlib.lines.Line2D at 0x7f1d62e13940>],\n",
       " 'medians': [<matplotlib.lines.Line2D at 0x7f1d632cbee0>],\n",
       " 'fliers': [<matplotlib.lines.Line2D at 0x7f1d62e7a1c0>],\n",
       " 'means': []}"
      ]
     },
     "execution_count": 7,
     "metadata": {},
     "output_type": "execute_result"
    },
    {
     "data": {
      "image/png": "[encoded data removed]",
      "text/plain": [
       "<Figure size 432x288 with 1 Axes>"
      ]
     },
     "metadata": {
      "needs_background": "light"
     },
     "output_type": "display_data"
    }
   ],
   "source": [
    "plt.subplots()\n",
    "dataToPlot = [dfNorm[\"Respuesta\"].apply(len)]\n",
    "plt.boxplot(dataToPlot)"
   ]
  },
  {
   "cell_type": "code",
   "execution_count": 8,
   "metadata": {},
   "outputs": [],
   "source": [
    "dfNorm[\"Respuesta\"] = dfNorm[\"Respuesta\"].apply(removeStopWords, stopword = stop)"
   ]
  },
  {
   "cell_type": "code",
   "execution_count": 15,
   "metadata": {},
   "outputs": [
    {
     "data": {
      "text/plain": [
       "count    148618.000000\n",
       "mean          6.521014\n",
       "std           2.199150\n",
       "min           4.000000\n",
       "25%           5.000000\n",
       "50%           6.000000\n",
       "75%           8.000000\n",
       "max          10.000000\n",
       "Name: Respuesta, dtype: float64"
      ]
     },
     "execution_count": 15,
     "metadata": {},
     "output_type": "execute_result"
    }
   ],
   "source": [
    "dfNorm = dfNorm[dfNorm['Respuesta'].map(len) > 3]\n",
    "dfNorm[\"Respuesta\"] = dfNorm[\"Respuesta\"].apply(lambda x: x if len(x) < 10 else x[:10])\n",
    "dfNorm[\"Respuesta\"].apply(len).describe()"
   ]
  },
  {
   "cell_type": "code",
   "execution_count": 16,
   "metadata": {},
   "outputs": [
    {
     "data": {
      "text/plain": [
       "count    148618.000000\n",
       "mean          6.521014\n",
       "std           2.199150\n",
       "min           4.000000\n",
       "25%           5.000000\n",
       "50%           6.000000\n",
       "75%           8.000000\n",
       "max          10.000000\n",
       "Name: Respuesta, dtype: float64"
      ]
     },
     "execution_count": 16,
     "metadata": {},
     "output_type": "execute_result"
    }
   ],
   "source": [
    "dfNorm[\"Respuesta\"].apply(len).describe()"
   ]
  },
  {
   "cell_type": "code",
   "execution_count": 17,
   "metadata": {},
   "outputs": [],
   "source": [
    "max_quantity = max(dfNorm.groupby(['Area','Dimension']).count().Respuesta)\n",
    "array_groups_to_remove = []\n",
    "for name, group in dfNorm.groupby(['Area','Dimension']):\n",
    "    if len(group) <= max_quantity/10:\n",
    "        array_groups_to_remove.append(name)\n",
    "\n",
    "dfNorm = dfNorm.apply(lambda x, arr_rem: None if (x['Area'],x['Dimension']) in arr_rem else x, axis = 1\\\n",
    "                      , arr_rem = array_groups_to_remove).dropna()"
   ]
  },
  {
   "cell_type": "code",
   "execution_count": 41,
   "metadata": {},
   "outputs": [],
   "source": [
    "# df_aux = dfNorm.copy()\n",
    "# df_aux['Dimension'] = df_aux.Dimension.apply(lambda x: list_dim.index(x))\n",
    "# df_aux.groupby(['Area','Dimension']).count().to_csv(\"count2.csv\")"
   ]
  },
  {
   "cell_type": "code",
   "execution_count": 18,
   "metadata": {},
   "outputs": [],
   "source": [
    "lemmaDiccionario = {}\n",
    "with open('Herramientas/lemma.txt', 'rb') as fichero:\n",
    "    datos = (fichero.read().decode('utf8').replace(u'\\r', u'').split(u'\\n'))\n",
    "    datos = ([avance.split(u'\\t') for avance in datos])\n",
    "for avance in datos:\n",
    "    if len(avance) >1:\n",
    "        lemmaDiccionario[avance[1]] = avance[0]\n",
    "        \n",
    "def lemmatize(word):\n",
    "    return lemmaDiccionario.get(word, word + u'')\n",
    "   \n",
    "def lemmatize_words(words):\n",
    "    new_words = []\n",
    "    for palabra in words:\n",
    "        new_word = lemmatize(palabra)\n",
    "        new_words.append(new_word)\n",
    "    return new_words\n",
    "\n",
    "dfNorm[\"Respuesta\"] = dfNorm[\"Respuesta\"].apply(lemmatize_words)"
   ]
  },
  {
   "cell_type": "code",
   "execution_count": null,
   "metadata": {},
   "outputs": [],
   "source": [
    "dfNorm.to_csv(\"Data/Flujo1.csv\", sep=\";\", index=False)"
   ]
  },
  {
   "cell_type": "code",
   "execution_count": 19,
   "metadata": {},
   "outputs": [],
   "source": [
    "Stemmer_spanish = SnowballStemmer('spanish')\n",
    "def stemWordsArray(tokens, stemmer):\n",
    "    new_ = []\n",
    "    for token in tokens:\n",
    "        new_.append(stemmer.stem(token))\n",
    "    return new_\n",
    "\n",
    "dfStemmer = dfNorm.copy()\n",
    "dfStemmer['Respuesta'] = dfStemmer['Respuesta'].apply(stemWordsArray, stemmer = Stemmer_spanish)"
   ]
  },
  {
   "cell_type": "code",
   "execution_count": 46,
   "metadata": {},
   "outputs": [],
   "source": [
    "#dfStemmer.to_csv(\"Data/Flujo2.csv\", sep=\";\", index=False)\n"
   ]
  },
  {
   "cell_type": "code",
   "execution_count": 20,
   "metadata": {},
   "outputs": [
    {
     "data": {
      "text/plain": [
       "{'whiskers': [<matplotlib.lines.Line2D at 0x7f1d4f0321f0>,\n",
       "  <matplotlib.lines.Line2D at 0x7f1d4f032550>],\n",
       " 'caps': [<matplotlib.lines.Line2D at 0x7f1d4f0328b0>,\n",
       "  <matplotlib.lines.Line2D at 0x7f1d4f032c10>],\n",
       " 'boxes': [<matplotlib.lines.Line2D at 0x7f1d5f35ba60>],\n",
       " 'medians': [<matplotlib.lines.Line2D at 0x7f1d4f032f70>],\n",
       " 'fliers': [<matplotlib.lines.Line2D at 0x7f1d4f035310>],\n",
       " 'means': []}"
      ]
     },
     "execution_count": 20,
     "metadata": {},
     "output_type": "execute_result"
    },
    {
     "data": {
      "image/png": "[encoded data removed]",
      "text/plain": [
       "<Figure size 432x288 with 1 Axes>"
      ]
     },
     "metadata": {
      "needs_background": "light"
     },
     "output_type": "display_data"
    }
   ],
   "source": [
    "plt.subplots()\n",
    "dataToPlot = [dfStemmer[\"Respuesta\"].apply(len)]\n",
    "plt.boxplot(dataToPlot)"
   ]
  },
  {
   "cell_type": "code",
   "execution_count": 22,
   "metadata": {},
   "outputs": [
    {
     "data": {
      "text/plain": [
       "count    148618.000000\n",
       "mean          6.521014\n",
       "std           2.199150\n",
       "min           4.000000\n",
       "25%           5.000000\n",
       "50%           6.000000\n",
       "75%           8.000000\n",
       "max          10.000000\n",
       "Name: Respuesta, dtype: float64"
      ]
     },
     "execution_count": 22,
     "metadata": {},
     "output_type": "execute_result"
    }
   ],
   "source": [
    "dfStemmer[\"Respuesta\"].apply(len).describe()"
   ]
  },
  {
   "cell_type": "code",
   "execution_count": 205,
   "metadata": {},
   "outputs": [
    {
     "data": {
      "image/png": "[encoded data removed]",
      "text/plain": [
       "<Figure size 936x360 with 2 Axes>"
      ]
     },
     "metadata": {
      "needs_background": "light"
     },
     "output_type": "display_data"
    }
   ],
   "source": [
    "import matplotlib\n",
    "matplotlib.rcParams.update({'font.size': 11.5})\n",
    "\n",
    "\n",
    "area = \"Social Interno\"\n",
    "\n",
    "aux = dfStemmer.copy()\n",
    "aux = aux[aux['Area'] == area]\n",
    "aux['Dimension'] = aux.Dimension.apply(lambda x: str(list_dim.index(x)))\n",
    "aux = aux[['Dimension', 'Respuesta']].groupby('Dimension').count()\n",
    "\n",
    "width = 0.35\n",
    "fig, ax = plt.subplots(1,2, figsize=(13,5))\n",
    "ax[1].bar(list(aux.index), aux.Respuesta)\n",
    "ax[1].set_ylabel('Cantidad de datos')\n",
    "ax[1].set_xlabel('Dimensiones')\n",
    "fig.suptitle('Area: '+area)\n",
    "\n",
    "fig.patch.set_visible(False)\n",
    "ax[0].axis('off')\n",
    "ax[0].axis('tight')\n",
    "ax[0].table(cellText=[[x] for x in aux.Respuesta], colLabels=[\"Numero de datos\"], rowLabels=list(aux.index), loc='center')\n",
    "fig.tight_layout()\n",
    "plt.show()"
   ]
  }
 ],
 "metadata": {
  "kernelspec": {
   "display_name": "Python 3",
   "language": "python",
   "name": "python3"
  },
  "language_info": {
   "codemirror_mode": {
    "name": "ipython",
    "version": 3
   },
   "file_extension": ".py",
   "mimetype": "text/x-python",
   "name": "python",
   "nbconvert_exporter": "python",
   "pygments_lexer": "ipython3",
   "version": "3.8.4"
  }
 },
 "nbformat": 4,
 "nbformat_minor": 4
}
