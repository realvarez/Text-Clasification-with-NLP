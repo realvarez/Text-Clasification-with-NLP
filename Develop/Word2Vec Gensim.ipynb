{
 "cells": [
  {
   "cell_type": "code",
   "execution_count": 3,
   "metadata": {},
   "outputs": [],
   "source": [
    "import pandas as pd\n",
    "import nltk\n",
    "import ast\n",
    "import warnings\n",
    "import numpy as np\n",
    "import gensim\n",
    "from gensim.models import Word2Vec\n",
    "from gensim.models import KeyedVectors\n",
    "from sklearn.decomposition import PCA\n",
    "from matplotlib import pyplot\n",
    "warnings.filterwarnings(action='ignore', category=UserWarning, module='gensim')\n",
    "\n",
    "df = pd.read_csv(\"Data/Flujo1.csv\", sep = \";\")\n",
    "def addWordsToVocabulary(token):\n",
    "    token = ast.literal_eval(token)\n",
    "    return token\n",
    "df['Respuesta'] = df['Respuesta'].apply(addWordsToVocabulary)\n",
    "\n",
    "model = Word2Vec(df['Respuesta'], min_count=1 ,size= 10, workers=4, window=2, negative = 1)\n",
    "model.save('modelWord2vec_flujo1.bin')"
   ]
  },
  {
   "cell_type": "markdown",
   "metadata": {},
   "source": [
    "embedding_matrix = np.zeros((len(model.wv.vocab), 300))"
   ]
  },
  {
   "cell_type": "markdown",
   "metadata": {},
   "source": [
    "for i in range(len(model.wv.vocab)):\n",
    "    embedding_matrix[i] = model.wv[list(model.wv.vocab)[i]]"
   ]
  },
  {
   "cell_type": "markdown",
   "metadata": {},
   "source": [
    "def text_to_vectors(array_text):\n",
    "    array_vectors = []\n",
    "    for word in array_text:\n",
    "        array_vectors.append(model.wv['word'])\n",
    "    return array_vectors\n",
    "df[\"Vectores\"] = df[\"Respuesta\"].apply(text_to_vectors)"
   ]
  },
  {
   "cell_type": "markdown",
   "metadata": {},
   "source": [
    "def get_mean_vector(vectors):\n",
    "    return np.mean(vectors, axis=0)\n",
    "df['Vectores'] = df[\"Vectores\"].apply(get_mean_vector)"
   ]
  },
  {
   "cell_type": "markdown",
   "metadata": {},
   "source": [
    "list_dimensions = df.Dimension.unique().tolist()\n",
    "def enumerate_dimensions(dimension):\n",
    "    return list_dimensions.index(dimension)\n",
    "df['_dimension'] = df.Dimension.apply(enumerate_dimensions)"
   ]
  }
 ],
 "metadata": {
  "kernelspec": {
   "display_name": "Python 3",
   "language": "python",
   "name": "python3"
  },
  "language_info": {
   "codemirror_mode": {
    "name": "ipython",
    "version": 3
   },
   "file_extension": ".py",
   "mimetype": "text/x-python",
   "name": "python",
   "nbconvert_exporter": "python",
   "pygments_lexer": "ipython3",
   "version": "3.8.4"
  }
 },
 "nbformat": 4,
 "nbformat_minor": 4
}
