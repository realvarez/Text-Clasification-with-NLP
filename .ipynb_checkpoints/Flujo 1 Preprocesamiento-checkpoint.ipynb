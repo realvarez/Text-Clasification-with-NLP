{
 "cells": [
  {
   "cell_type": "code",
   "execution_count": 1,
   "metadata": {},
   "outputs": [],
   "source": [
    "%config IPCompleter.greedy=True\n",
    "import pandas as pd\n",
    "import nltk.data\n",
    "import re, string, unicodedata\n",
    "import nltk\n",
    "import num2words\n",
    "import matplotlib.pyplot as plt\n",
    "import time\n",
    "\n",
    "from num2words import num2words\n",
    "from unicodedata import normalize\n",
    "from nltk import word_tokenize, sent_tokenize\n",
    "from nltk.corpus import stopwords\n",
    "\n",
    "arrayHeaders = [\"Area\", \"Dimension\", \"Respuesta\"]\n",
    "df = pd.read_csv(\"Data/formattedData.csv\", sep=\";\")"
   ]
  },
  {
   "cell_type": "code",
   "execution_count": 2,
   "metadata": {},
   "outputs": [],
   "source": [
    "# gs = goslate.Goslate(service_urls=['http://translate.google.es'])\n",
    "\n",
    "# def verfLengEs(text):\n",
    "#     if text.isdigit()== False and len(text) > 10:\n",
    "#         time.sleep(10)\n",
    "#         leng = gs.detect(text)\n",
    "#         print(leng)\n",
    "#         if 'es' == leng:\n",
    "#             return text\n",
    "#         else:\n",
    "#             return ''\n",
    "#     else:\n",
    "#         return text\n",
    "    \n",
    "#df[\"Respuesta\"][0:100] = df[\"Respuesta\"][0:100].apply(verfLengEs)"
   ]
  },
  {
   "cell_type": "code",
   "execution_count": 3,
   "metadata": {},
   "outputs": [],
   "source": [
    "dataSentTokenized = df.dropna().copy()\n",
    "dataSentTokenized[\"Respuesta\"] = dataSentTokenized[\"Respuesta\"].apply(nltk.sent_tokenize)\n",
    "dataSentTokenized = dataSentTokenized[dataSentTokenized['Respuesta'].map(len) >= 1].copy()\n",
    "dataSentTokenized = dataSentTokenized.dropna()"
   ]
  },
  {
   "cell_type": "code",
   "execution_count": 4,
   "metadata": {},
   "outputs": [],
   "source": [
    "arrayExterno = []\n",
    "def separeSentences(row):\n",
    "    if type(row['Respuesta']) != str:\n",
    "        if len(row['Respuesta']) == 1:\n",
    "            row['Respuesta'] = row['Respuesta'][0]\n",
    "            return row\n",
    "        else:\n",
    "            area = row['Area']\n",
    "            dimension = row['Dimension']\n",
    "            for sent in row['Respuesta']:\n",
    "                tempArray = []\n",
    "                tempArray.append(area)    \n",
    "                tempArray.append(dimension)\n",
    "                tempArray.append(sent)\n",
    "                arrayExterno.append(tempArray)\n",
    "            row['Respuesta'] = \"\"\n",
    "            return row\n",
    "    else:\n",
    "        return row\n",
    "\n",
    "dataSentTokenized = dataSentTokenized.apply(separeSentences, axis = 1)"
   ]
  },
  {
   "cell_type": "code",
   "execution_count": 5,
   "metadata": {},
   "outputs": [],
   "source": [
    "dataFrameSentencesSepared = pd.concat([dataSentTokenized,pd.DataFrame(arrayExterno, columns=arrayHeaders)], ignore_index=True) "
   ]
  },
  {
   "cell_type": "code",
   "execution_count": 6,
   "metadata": {},
   "outputs": [],
   "source": [
    "def deleteSimbols(tokens):\n",
    "    return re.sub(r'[^\\w\\s]', ' ', tokens)\n",
    "dataFrameSentencesSepared[\"Respuesta\"] = dataFrameSentencesSepared[\"Respuesta\"].apply(deleteSimbols)"
   ]
  },
  {
   "cell_type": "code",
   "execution_count": 7,
   "metadata": {},
   "outputs": [],
   "source": [
    "dataFrameWordSepared = dataFrameSentencesSepared.copy() \n",
    "dataFrameWordSepared[\"Respuesta\"] = dataFrameWordSepared[\"Respuesta\"].apply(nltk.word_tokenize)"
   ]
  },
  {
   "cell_type": "code",
   "execution_count": 8,
   "metadata": {},
   "outputs": [
    {
     "data": {
      "text/plain": [
       "count    344304.000000\n",
       "mean          8.152685\n",
       "std           8.661278\n",
       "min           0.000000\n",
       "25%           3.000000\n",
       "50%           6.000000\n",
       "75%          11.000000\n",
       "max         306.000000\n",
       "Name: Respuesta, dtype: float64"
      ]
     },
     "execution_count": 8,
     "metadata": {},
     "output_type": "execute_result"
    }
   ],
   "source": [
    "largoRespuestas1 = dataFrameWordSepared[\"Respuesta\"].apply(len)\n",
    "largoRespuestas1.describe()"
   ]
  },
  {
   "cell_type": "code",
   "execution_count": 9,
   "metadata": {},
   "outputs": [],
   "source": [
    "stop = stopwords.words('spanish')\n",
    "def verifyStopWords(tokens):\n",
    "    for token in tokens:\n",
    "        if token.lower() in stop:\n",
    "            tokens.pop(tokens.index(token))\n",
    "    return tokens"
   ]
  },
  {
   "cell_type": "code",
   "execution_count": 10,
   "metadata": {},
   "outputs": [],
   "source": [
    "dataTestStop = dataFrameWordSepared.copy()\n",
    "dataTestStop[\"Respuesta\"] = dataTestStop[\"Respuesta\"].apply(verifyStopWords)"
   ]
  },
  {
   "cell_type": "code",
   "execution_count": 11,
   "metadata": {},
   "outputs": [],
   "source": [
    "def verifyVoidElements(tokens):\n",
    "    for token in tokens:\n",
    "        if token == '' or token == \" \" or token == \"  \":\n",
    "            tokens.pop(tokens.index(token))\n",
    "    return tokens"
   ]
  },
  {
   "cell_type": "code",
   "execution_count": 12,
   "metadata": {},
   "outputs": [],
   "source": [
    "dfMoreWords = dataTestStop.copy()\n",
    "dfMoreWords[\"Respuesta\"] = dfMoreWords[\"Respuesta\"].apply(verifyVoidElements)\n",
    "dfMoreWords = dfMoreWords[dfMoreWords['Respuesta'].map(len) > 3].copy()\n",
    "dfMoreWords = dfMoreWords.dropna()"
   ]
  },
  {
   "cell_type": "code",
   "execution_count": 13,
   "metadata": {},
   "outputs": [
    {
     "data": {
      "text/plain": [
       "count    189038.000000\n",
       "mean          8.457189\n",
       "std           5.824322\n",
       "min           4.000000\n",
       "25%           5.000000\n",
       "50%           7.000000\n",
       "75%          10.000000\n",
       "max         197.000000\n",
       "Name: Respuesta, dtype: float64"
      ]
     },
     "execution_count": 13,
     "metadata": {},
     "output_type": "execute_result"
    }
   ],
   "source": [
    "dfMoreWords[\"Respuesta\"].apply(len).describe()"
   ]
  },
  {
   "cell_type": "code",
   "execution_count": 34,
   "metadata": {},
   "outputs": [
    {
     "name": "stdout",
     "output_type": "stream",
     "text": [
      "False\n"
     ]
    }
   ],
   "source": [
    "cadena = \"pepegrillo as\" \n",
    "print( cadena.isalpha() )"
   ]
  },
  {
   "cell_type": "code",
   "execution_count": 14,
   "metadata": {},
   "outputs": [],
   "source": [
    "def normalizeTokens(tokens):\n",
    "    for token in tokens:\n",
    "        pos = tokens.index(token)\n",
    "        if token.isdigit():\n",
    "            tokens[pos] = \"\"#num2words(token, lang='es')\n",
    "        else:\n",
    "            token = re.sub(r'[^\\w\\s]', ' ', token)\n",
    "            if token != ' ' or token != '':\n",
    "                tokens[pos] = unicodedata.normalize('NFKD', token.lower()).encode('ascii', 'ignore').decode('utf-8', 'ignore')\n",
    "            else:\n",
    "                tokens.pop(pos)\n",
    "    return tokens\n",
    "\n",
    "def verifyLang(tokens):\n",
    "    count = 0\n",
    "    for token in tokens:\n",
    "        if token.isdigit() == False or token != '':\n",
    "            print(token)\n",
    "            b = TextBlob(token)\n",
    "            if b.detect_language() == \"es\":\n",
    "                count = count + 1\n",
    "    if len(tokens)-2 < count:\n",
    "        tokens.pop(tokens.index(token))\n",
    "        return ''\n",
    "    else:\n",
    "        return tokens"
   ]
  },
  {
   "cell_type": "code",
   "execution_count": 63,
   "metadata": {},
   "outputs": [],
   "source": [
    "dfNormalized = dfMoreWords.copy()\n",
    "dfNormalized[\"Respuesta\"] = dfNormalized['Respuesta'].apply(normalizeTokens)\n",
    "dfNormalized[\"Respuesta\"] = dfNormalized['Respuesta'].apply(verifyVoidElements)"
   ]
  },
  {
   "cell_type": "code",
   "execution_count": 64,
   "metadata": {},
   "outputs": [],
   "source": [
    "DataFinalFlujo1 = dfNormalized.copy()\n",
    "DataFinalFlujo1[\"Respuesta\"] = DataFinalFlujo1[\"Respuesta\"].apply(verifyStopWords)\n",
    "DataFinalFlujo1[\"Respuesta\"] = DataFinalFlujo1['Respuesta'].apply(verifyVoidElements)"
   ]
  },
  {
   "cell_type": "code",
   "execution_count": 66,
   "metadata": {},
   "outputs": [],
   "source": [
    "def verify_spacing_and_numbers(tokens):\n",
    "    for token in tokens:\n",
    "        if token.isalpha() == False:\n",
    "            tokens.pop(tokens.index(token))\n",
    "    return tokens\n",
    "\n",
    "DataFinalFlujo1[\"Respuesta\"] = DataFinalFlujo1['Respuesta'].apply(verify_spacing_and_numbers)"
   ]
  },
  {
   "cell_type": "code",
   "execution_count": 67,
   "metadata": {},
   "outputs": [],
   "source": [
    "def verify_(tokens):\n",
    "    for token in tokens:\n",
    "        if token.isalpha() == False:\n",
    "            print(token,tokens.index(token), len(token))\n",
    "    return tokens\n",
    "a = DataFinalFlujo1['Respuesta'].apply(verify_)"
   ]
  },
  {
   "cell_type": "code",
   "execution_count": 68,
   "metadata": {},
   "outputs": [
    {
     "data": {
      "text/plain": [
       "count    164936.000000\n",
       "mean          6.462598\n",
       "std           2.186840\n",
       "min           0.000000\n",
       "25%           5.000000\n",
       "50%           6.000000\n",
       "75%           8.000000\n",
       "max          10.000000\n",
       "Name: Respuesta, dtype: float64"
      ]
     },
     "execution_count": 68,
     "metadata": {},
     "output_type": "execute_result"
    }
   ],
   "source": [
    "DataFinalFlujo1[\"Respuesta\"].apply(len).describe()"
   ]
  },
  {
   "cell_type": "code",
   "execution_count": 69,
   "metadata": {},
   "outputs": [],
   "source": [
    "lemmaDiccionario = {}\n",
    "with open('Herramientas/lemma.txt', 'rb') as fichero:\n",
    "    datos = (fichero.read().decode('utf8').replace(u'\\r', u'').split(u'\\n'))\n",
    "    datos = ([avance.split(u'\\t') for avance in datos])\n",
    "for avance in datos:\n",
    "   if len(avance) >1:\n",
    "      lemmaDiccionario[avance[1]] = avance[0]\n",
    "        \n",
    "def lemmatize(word):\n",
    "   return lemmaDiccionario.get(word, word + u'')\n",
    "   \n",
    "def lemmatize_words(words):\n",
    "    new_words = []\n",
    "    for palabra in words:\n",
    "        new_word = lemmatize(palabra)\n",
    "        new_words.append(new_word)\n",
    "    return new_words"
   ]
  },
  {
   "cell_type": "code",
   "execution_count": 70,
   "metadata": {},
   "outputs": [],
   "source": [
    "DataFinalFlujo1[\"Respuesta\"] = DataFinalFlujo1[\"Respuesta\"].apply(lemmatize_words)"
   ]
  },
  {
   "cell_type": "code",
   "execution_count": 71,
   "metadata": {},
   "outputs": [
    {
     "data": {
      "text/plain": [
       "count    164936.000000\n",
       "mean          6.462598\n",
       "std           2.186840\n",
       "min           0.000000\n",
       "25%           5.000000\n",
       "50%           6.000000\n",
       "75%           8.000000\n",
       "max          10.000000\n",
       "Name: Respuesta, dtype: float64"
      ]
     },
     "execution_count": 71,
     "metadata": {},
     "output_type": "execute_result"
    }
   ],
   "source": [
    "largoRespuestas2 = DataFinalFlujo1[\"Respuesta\"].apply(len)\n",
    "largoRespuestas2.describe()"
   ]
  },
  {
   "cell_type": "code",
   "execution_count": 72,
   "metadata": {},
   "outputs": [],
   "source": [
    "dfMoreWords = DataFinalFlujo1.copy()\n",
    "dfMoreWords[\"Respuesta\"] = dfMoreWords['Respuesta'].apply(verifyVoidElements)\n",
    "dfMoreWords = dfMoreWords[dfMoreWords['Respuesta'].map(len) > 3]\n",
    "#dfMoreWords = dfMoreWords[dfMoreWords['Respuesta'].map(len) <= 15]\n",
    "dfMoreWords = dfMoreWords.dropna()"
   ]
  },
  {
   "cell_type": "code",
   "execution_count": 73,
   "metadata": {},
   "outputs": [],
   "source": [
    "def return10first(token):\n",
    "    if(len(token) > 10):\n",
    "        return token[0:10]\n",
    "    else:\n",
    "        return token\n",
    "dfMoreWords[\"Respuesta\"] = dfMoreWords[\"Respuesta\"].apply(return10first)"
   ]
  },
  {
   "cell_type": "code",
   "execution_count": 74,
   "metadata": {},
   "outputs": [
    {
     "data": {
      "text/plain": [
       "count    162466.000000\n",
       "mean          6.515542\n",
       "std           2.160428\n",
       "min           4.000000\n",
       "25%           5.000000\n",
       "50%           6.000000\n",
       "75%           8.000000\n",
       "max          10.000000\n",
       "Name: Respuesta, dtype: float64"
      ]
     },
     "execution_count": 74,
     "metadata": {},
     "output_type": "execute_result"
    }
   ],
   "source": [
    "largoRespuestas3 = dfMoreWords['Respuesta'].apply(len)\n",
    "largoRespuestas3.describe()"
   ]
  },
  {
   "cell_type": "code",
   "execution_count": 24,
   "metadata": {},
   "outputs": [
    {
     "data": {
      "text/plain": [
       "count    164936.000000\n",
       "mean          6.602082\n",
       "std           2.224512\n",
       "min           4.000000\n",
       "25%           5.000000\n",
       "50%           6.000000\n",
       "75%           9.000000\n",
       "max          10.000000\n",
       "Name: Respuesta, dtype: float64"
      ]
     },
     "execution_count": 24,
     "metadata": {},
     "output_type": "execute_result"
    }
   ],
   "source": [
    "largoRespuestas3 = dfMoreWords['Respuesta'].apply(len)\n",
    "largoRespuestas3.describe()"
   ]
  },
  {
   "cell_type": "code",
   "execution_count": 76,
   "metadata": {},
   "outputs": [
    {
     "data": {
      "text/plain": [
       "{'whiskers': [<matplotlib.lines.Line2D at 0x2376d1f4c50>,\n",
       "  <matplotlib.lines.Line2D at 0x2376c50ca20>,\n",
       "  <matplotlib.lines.Line2D at 0x2376c50eb70>,\n",
       "  <matplotlib.lines.Line2D at 0x2376c4e1588>],\n",
       " 'caps': [<matplotlib.lines.Line2D at 0x2376c509518>,\n",
       "  <matplotlib.lines.Line2D at 0x2376c5083c8>,\n",
       "  <matplotlib.lines.Line2D at 0x2376d1ec198>,\n",
       "  <matplotlib.lines.Line2D at 0x2376d1ec128>],\n",
       " 'boxes': [<matplotlib.lines.Line2D at 0x2376d1f45f8>,\n",
       "  <matplotlib.lines.Line2D at 0x2376c50bcf8>],\n",
       " 'medians': [<matplotlib.lines.Line2D at 0x2376d1f17f0>,\n",
       "  <matplotlib.lines.Line2D at 0x2376c611ef0>],\n",
       " 'fliers': [<matplotlib.lines.Line2D at 0x2376c50b6a0>,\n",
       "  <matplotlib.lines.Line2D at 0x2376d1e60b8>],\n",
       " 'means': []}"
      ]
     },
     "execution_count": 76,
     "metadata": {},
     "output_type": "execute_result"
    },
    {
     "data": {
      "image/png": "[encoded data removed]",
      "text/plain": [
       "<Figure size 432x288 with 1 Axes>"
      ]
     },
     "metadata": {
      "needs_background": "light"
     },
     "output_type": "display_data"
    }
   ],
   "source": [
    "plt.subplots()\n",
    "dataToPlot = [largoRespuestas2, largoRespuestas3]\n",
    "plt.boxplot(dataToPlot)"
   ]
  },
  {
   "cell_type": "code",
   "execution_count": 77,
   "metadata": {},
   "outputs": [],
   "source": [
    "dfMoreWords.to_csv(\"Data/Flujo1.csv\", sep=\";\", index=False)"
   ]
  },
  {
   "cell_type": "markdown",
   "metadata": {},
   "source": [
    "#Fin Flujo 1"
   ]
  },
  {
   "cell_type": "code",
   "execution_count": 27,
   "metadata": {},
   "outputs": [
    {
     "data": {
      "text/plain": [
       "{'Confianza General': Int64Index([ 31213,  31214,  31215,  31216,  31217,  31218,  31219,  31220,\n",
       "              31221,  31222,\n",
       "             ...\n",
       "             315374, 315375, 315376, 315377, 315378, 315379, 315380, 315381,\n",
       "             315382, 315383],\n",
       "            dtype='int64', length=13432),\n",
       " 'Gobierno Corporativo': Int64Index([ 10331,  10337,  10338,  10340,  10342,  10343,  10344,  10346,\n",
       "              10347,  10351,\n",
       "             ...\n",
       "             311208, 311209, 311211, 311213, 311214, 311215, 311216, 311217,\n",
       "             311218, 311219],\n",
       "            dtype='int64', length=14786),\n",
       " 'Medio Ambiente': Int64Index([     2,      4,      7,      8,     10,     11,     17,     28,\n",
       "                 29,     30,\n",
       "             ...\n",
       "             308778, 308780, 308781, 308782, 308783, 308788, 308791, 308792,\n",
       "             308793, 308794],\n",
       "            dtype='int64', length=13038),\n",
       " 'Social Externo': Int64Index([ 39591,  39593,  39595,  39597,  39599,  39600,  39603,  39619,\n",
       "              39621,  39622,\n",
       "             ...\n",
       "             335332, 335333, 335336, 335337, 335338, 335339, 335340, 335341,\n",
       "             335342, 335343],\n",
       "            dtype='int64', length=72209),\n",
       " 'Social Interno': Int64Index([ 94843,  94845,  94846,  94851,  94852,  94853,  94856,  94858,\n",
       "              94861,  94862,\n",
       "             ...\n",
       "             344291, 344292, 344293, 344294, 344295, 344297, 344299, 344300,\n",
       "             344301, 344303],\n",
       "            dtype='int64', length=51471)}"
      ]
     },
     "execution_count": 27,
     "metadata": {},
     "output_type": "execute_result"
    }
   ],
   "source": [
    "porAreas =dfMoreWords.groupby('Area')\n",
    "porAreas.groups"
   ]
  },
  {
   "cell_type": "code",
   "execution_count": 28,
   "metadata": {},
   "outputs": [
    {
     "data": {
      "text/plain": [
       "Area                  Dimension                   \n",
       "Confianza General     Confianza General               11880\n",
       "                      Información Adicional             987\n",
       "                      Infraestructura                    47\n",
       "                      Innovación                        518\n",
       "Gobierno Corporativo  Anti-corrupción                  7068\n",
       "                      Control Riesgos                    35\n",
       "                      Cultura Ambiental                  74\n",
       "                      Estrategia de Negocio             169\n",
       "                      Estructura Directorio              51\n",
       "                      Estructura Ejecutiva               17\n",
       "                      Grupo Investor                     59\n",
       "                      Integridad                       7232\n",
       "                      Investors Day                      14\n",
       "                      Legal                               9\n",
       "                      Transparencia Información          31\n",
       "                      Trato Accionistas                  27\n",
       "Medio Ambiente        Ambiental                        2129\n",
       "                      Cultura Ambiental               10840\n",
       "                      Políticas y Procedimientos         69\n",
       "Social Externo        Adaptación                         48\n",
       "                      Calidad                          6723\n",
       "                      Canales de Atención                66\n",
       "                      Cliente                          5802\n",
       "                      Comunicación                     3098\n",
       "                      Comunidad                        4957\n",
       "                      Educación                        1895\n",
       "                      Gestión Comercial                 145\n",
       "                      Imagen                           6364\n",
       "                      Impacto Social                     60\n",
       "                      Infraestructura                  1994\n",
       "                                                      ...  \n",
       "                      Pago                             1546\n",
       "                      Proveedores                      2088\n",
       "                      Reclamos                         5917\n",
       "                      Recompra                        16134\n",
       "                      Salud & Seguridad                4299\n",
       "                      Satisfacción                      284\n",
       "                      Selección                           1\n",
       "                      Servicio                          288\n",
       "                      Tecnología                         30\n",
       "                      Trabajo                          1975\n",
       "                      Valor                            6145\n",
       "Social Interno        Administración                     18\n",
       "                      Beneficios                         16\n",
       "                      Capacitación & Entrenamiento       14\n",
       "                      Compromiso                       5565\n",
       "                      Comunicación                     5664\n",
       "                      Desarrollo                         11\n",
       "                      Diversidad e Inclusión           2602\n",
       "                      Empleados                       10020\n",
       "                      Entrenamiento y Desarrollo       6070\n",
       "                      Equilibrio Vida-Trabajo          5772\n",
       "                      Estructura de Compensaciones     6740\n",
       "                      Identidad Cultural               2591\n",
       "                      Incentivos Monetarios               6\n",
       "                      Material & Equipos                  8\n",
       "                      Misión y Valores                    7\n",
       "                      Política Laboral                    5\n",
       "                      Reconocimiento                     11\n",
       "                      Renta Fija                         13\n",
       "                      Salud & Seguridad                6338\n",
       "Name: Respuesta, Length: 62, dtype: int64"
      ]
     },
     "execution_count": 28,
     "metadata": {},
     "output_type": "execute_result"
    }
   ],
   "source": [
    "dfMoreWords.groupby(['Area','Dimension']).count().Respuesta"
   ]
  },
  {
   "cell_type": "code",
   "execution_count": 29,
   "metadata": {},
   "outputs": [
    {
     "data": {
      "text/plain": [
       "Dimension\n",
       "Adaptación                         48\n",
       "Administración                     18\n",
       "Ambiental                        2129\n",
       "Anti-corrupción                  7068\n",
       "Beneficios                         16\n",
       "Calidad                          6723\n",
       "Canales de Atención                66\n",
       "Capacitación & Entrenamiento       14\n",
       "Cliente                          5802\n",
       "Compromiso                       5565\n",
       "Comunicación                     8762\n",
       "Comunidad                        4957\n",
       "Confianza General               11880\n",
       "Control Riesgos                    35\n",
       "Cultura Ambiental               10914\n",
       "Desarrollo                         11\n",
       "Diversidad e Inclusión           2602\n",
       "Educación                        1895\n",
       "Empleados                       10020\n",
       "Entrenamiento y Desarrollo       6070\n",
       "Equilibrio Vida-Trabajo          5772\n",
       "Estrategia de Negocio             169\n",
       "Estructura Directorio              51\n",
       "Estructura Ejecutiva               17\n",
       "Estructura de Compensaciones     6740\n",
       "Gestión Comercial                 145\n",
       "Grupo Investor                     59\n",
       "Identidad Cultural               2591\n",
       "Imagen                           6364\n",
       "Impacto Social                     60\n",
       "Incentivos Monetarios               6\n",
       "Información Adicional             987\n",
       "Infraestructura                  2041\n",
       "Innovación                        518\n",
       "Integridad                       7232\n",
       "Investors Day                      14\n",
       "Lealtad                           265\n",
       "Legal                               9\n",
       "Material & Equipos                  8\n",
       "Misión y Valores                    7\n",
       "Operación                        2085\n",
       "Pago                             1546\n",
       "Política Laboral                    5\n",
       "Políticas y Procedimientos         69\n",
       "Proveedores                      2088\n",
       "Reclamos                         5917\n",
       "Recompra                        16134\n",
       "Reconocimiento                     11\n",
       "Renta Fija                         13\n",
       "Salud & Seguridad               10637\n",
       "Satisfacción                      284\n",
       "Selección                           1\n",
       "Servicio                          288\n",
       "Tecnología                         30\n",
       "Trabajo                          1975\n",
       "Transparencia Información          31\n",
       "Trato Accionistas                  27\n",
       "Valor                            6145\n",
       "Name: Respuesta, dtype: int64"
      ]
     },
     "execution_count": 29,
     "metadata": {},
     "output_type": "execute_result"
    }
   ],
   "source": [
    "dfMoreWords.groupby(['Dimension']).count().Respuesta"
   ]
  }
 ],
 "metadata": {
  "kernelspec": {
   "display_name": "Python 3",
   "language": "python",
   "name": "python3"
  },
  "language_info": {
   "codemirror_mode": {
    "name": "ipython",
    "version": 3
   },
   "file_extension": ".py",
   "mimetype": "text/x-python",
   "name": "python",
   "nbconvert_exporter": "python",
   "pygments_lexer": "ipython3",
   "version": "3.7.3"
  }
 },
 "nbformat": 4,
 "nbformat_minor": 2
}
