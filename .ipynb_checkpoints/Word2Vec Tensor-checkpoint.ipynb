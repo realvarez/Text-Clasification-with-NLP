{
 "cells": [
  {
   "cell_type": "code",
   "execution_count": 1,
   "metadata": {},
   "outputs": [],
   "source": [
    "import pandas as pd\n",
    "import nltk\n",
    "import tensorflow as tf\n",
    "import ast\n",
    "\n",
    "import tensorflow as tf\n",
    "import numpy as np"
   ]
  },
  {
   "cell_type": "code",
   "execution_count": 2,
   "metadata": {},
   "outputs": [],
   "source": [
    "df = pd.read_csv(\"Data/Flujo1.csv\", sep = \";\")"
   ]
  },
  {
   "cell_type": "code",
   "execution_count": 3,
   "metadata": {},
   "outputs": [
    {
     "data": {
      "text/plain": [
       "0    ['aca', 'problema', 'enterar', 'ahi', 'general...\n",
       "1    ['accesibilidad', 'tipo', 'servicio', 'bueno',...\n",
       "2    ['alcalde', 'creer', 'hacer', 'bien', 'program...\n",
       "3    ['barrio', 'bueno', 'manejar', 'basura', 'uno'...\n",
       "4    ['parecer', 'existir', 'contaminacion', 'cuida...\n",
       "Name: Respuesta, dtype: object"
      ]
     },
     "execution_count": 3,
     "metadata": {},
     "output_type": "execute_result"
    }
   ],
   "source": [
    "df[\"Respuesta\"].head()"
   ]
  },
  {
   "cell_type": "code",
   "execution_count": 4,
   "metadata": {},
   "outputs": [
    {
     "name": "stdout",
     "output_type": "stream",
     "text": [
      "39749\n"
     ]
    }
   ],
   "source": [
    "vocabulary = []\n",
    "def addWordsToVocabulary(token):\n",
    "    token = ast.literal_eval(token)\n",
    "    for word in token:\n",
    "        vocabulary.append(word)\n",
    "    return token\n",
    "\n",
    "df['Respuesta'] = df['Respuesta'].apply(addWordsToVocabulary)\n",
    "vocabulary = set(vocabulary)\n",
    "vocab_size = len(vocabulary)\n",
    "print(vocab_size)"
   ]
  },
  {
   "cell_type": "code",
   "execution_count": 5,
   "metadata": {},
   "outputs": [],
   "source": [
    "word2int = {}\n",
    "int2word = {}\n",
    "for i,word in enumerate(vocabulary):\n",
    "    word2int[word] = i\n",
    "    int2word[i] = word"
   ]
  },
  {
   "cell_type": "code",
   "execution_count": 6,
   "metadata": {
    "collapsed": true
   },
   "outputs": [
    {
     "data": {
      "text/plain": [
       "0                [aca, problema, enterar, ahi, generalizar]\n",
       "1         [accesibilidad, tipo, servicio, bueno, comunic...\n",
       "2         [alcalde, creer, hacer, bien, programar, lo, c...\n",
       "3         [barrio, bueno, manejar, basura, uno, bueno, m...\n",
       "4         [parecer, existir, contaminacion, cuidar, prad...\n",
       "5                   [parecer, existir, problema, ambiental]\n",
       "6                          [aumentar, parque, areas, verde]\n",
       "7          [botar, desecho, escaso, preocupacion, limpieza]\n",
       "8                           [bueno, cantidad, areas, verde]\n",
       "9         [bueno, gestion, parque, areas, verde, calidad...\n",
       "10                    [bueno, situacion, mediar, ambiental]\n",
       "11            [calle, limpio, facilidad, reciclar, desecho]\n",
       "12        [ciudad, satelite, mezclar, areas, verde, jueg...\n",
       "13        [barrio, nuevo, casar, común, haber, planifica...\n",
       "14        [comunidad, interes, mejorar, condicionar, cre...\n",
       "15        [concienciar, poblacion, infanto, juvenil, imp...\n",
       "16        [condicionar, mediar, ambiental, adecuar, ser,...\n",
       "17        [contar, espacio, areas, verde, poblacion, aut...\n",
       "18        [control, permanente, vehiculos, municipal, se...\n",
       "19        [crear, zona, esparcimiento, plaza, juego, rea...\n",
       "20        [creer, zona, cada, vez, mejorar, fachado, tam...\n",
       "21              [creer, problema, mediar, ambientar, lugar]\n",
       "22        [deteriorar, lugar, patrimonial, deteriorar, l...\n",
       "23        [ecossistema, rico, diversidad, na, fauna, na,...\n",
       "24           [aguar, mas, purificar, comparacion, santiago]\n",
       "25          [apoyar, mayor, conocimiento, ambito, maritimo]\n",
       "26                           [avanzar, bueno, deber, parar]\n",
       "27                           [cuidar, areas, verde, sector]\n",
       "28                    [positivo, ay, bueno, manejar, aguar]\n",
       "29        [usar, basurero, botar, basura, cualquiera, pa...\n",
       "                                ...                        \n",
       "167097                         [ahorrar, todo, hora, extra]\n",
       "167098    [jornada, seguir, ser, demasiar, extenso, volv...\n",
       "167099                 [posibilidad, trabajar, via, remoto]\n",
       "167100    [importante, jefatura, internalicen, metodologia]\n",
       "167101    [dar, caso, salir, horario, corresponder, jefa...\n",
       "167102    [mejorar, tecnologicas, posible, disminuir, ho...\n",
       "167103    [deber, sumarse, premio, mejorar, permitir, ah...\n",
       "167104        [equilibrio, significar, desentenderse, paso]\n",
       "167105    [entender, dar, respuesta, esperaria, mayor, f...\n",
       "167106       [bueno, ideo, este, realizar, vallar, copiapo]\n",
       "167107    [podrian, flexibilizar, horario, implementar, ...\n",
       "167108                      [deberia, pagarse, hora, extra]\n",
       "167109          [incluso, estan,   , excentos, horario,   ]\n",
       "167110           [comillas, exigir, igual, horario, entrar]\n",
       "167111    [si, librar, algun, permiso, licenciar, medica...\n",
       "167112                      [podria, hacerse, solo, llamar]\n",
       "167113             [nuevo, horario, uno, fantasticas, ideo]\n",
       "167114      [mantener, alternativo, horario, tiempo, ideal]\n",
       "167115    [aqui, recaer, nuevamente, temer, dias, compen...\n",
       "167116    [balance, vida, personal, laboral, trabajar, h...\n",
       "167117    [pagar, pesimo, hora, extra, pagar, mejor, aun...\n",
       "167118           [regular, sobrecargar, trabajar, excesivo]\n",
       "167119    [controlar, urgencia, permanente, multi, repor...\n",
       "167120    [deber, desarrollar, internalisar, organizacio...\n",
       "167121    [todo, personar, informacion, conocimiento, qu...\n",
       "167122              [solucionar, tiempo, extra, permanente]\n",
       "167123    [crear, juntar, jefe, equipar, trabajar, distr...\n",
       "167124    [decir, ser, capaz, realizar, laborar, tarea, ...\n",
       "167125    [ser, asi, organizar, tiempo, informar, jefe, ...\n",
       "167126    [fiscalizar, hora, extra, diario, vez, sobrepa...\n",
       "Name: Respuesta, Length: 167127, dtype: object"
      ]
     },
     "execution_count": 6,
     "metadata": {},
     "output_type": "execute_result"
    }
   ],
   "source": [
    "data = []\n",
    "WINDOW_SIZE = 2\n",
    "\n",
    "def generate(token):\n",
    "    for word_index, word in enumerate(token):\n",
    "        for nb_word in token[max(word_index - WINDOW_SIZE, 0) : min(word_index + WINDOW_SIZE, len(token)) + 1] : \n",
    "            if nb_word != word:\n",
    "                data.append([word, nb_word])\n",
    "    return token\n",
    "                \n",
    "df['Respuesta'].apply(generate)"
   ]
  },
  {
   "cell_type": "code",
   "execution_count": null,
   "metadata": {},
   "outputs": [],
   "source": [
    "# function to convert numbers to one hot vectors\n",
    "def to_one_hot(data_point_index, vocab_size):\n",
    "    temp = np.zeros(vocab_size)\n",
    "    temp[data_point_index] = 1\n",
    "    return temp\n",
    "\n",
    "x_train = [] # input word\n",
    "y_train = [] # output word\n",
    "\n",
    "for data_word in data:\n",
    "    x_train.append(to_one_hot(word2int[ data_word[0] ], vocab_size))\n",
    "    y_train.append(to_one_hot(word2int[ data_word[1] ], vocab_size))\n",
    "    \n",
    "# convert them to numpy arrays\n",
    "x_train = np.asarray(x_train)\n",
    "y_train = np.asarray(y_train)"
   ]
  },
  {
   "cell_type": "code",
   "execution_count": null,
   "metadata": {},
   "outputs": [],
   "source": []
  }
 ],
 "metadata": {
  "kernelspec": {
   "display_name": "Python 3",
   "language": "python",
   "name": "python3"
  },
  "language_info": {
   "codemirror_mode": {
    "name": "ipython",
    "version": 3
   },
   "file_extension": ".py",
   "mimetype": "text/x-python",
   "name": "python",
   "nbconvert_exporter": "python",
   "pygments_lexer": "ipython3",
   "version": "3.7.3"
  }
 },
 "nbformat": 4,
 "nbformat_minor": 2
}
